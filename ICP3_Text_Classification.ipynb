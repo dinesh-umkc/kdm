{
  "nbformat": 4,
  "nbformat_minor": 0,
  "metadata": {
    "colab": {
      "provenance": [],
      "toc_visible": true,
      "authorship_tag": "ABX9TyMyMGgkXONcREO3mEISkerR",
      "include_colab_link": true
    },
    "kernelspec": {
      "name": "python3",
      "display_name": "Python 3"
    },
    "language_info": {
      "name": "python"
    }
  },
  "cells": [
    {
      "cell_type": "markdown",
      "metadata": {
        "id": "view-in-github",
        "colab_type": "text"
      },
      "source": [
        "<a href=\"https://colab.research.google.com/github/dinesh-umkc/kdm/blob/main/ICP3_Text_Classification.ipynb\" target=\"_parent\"><img src=\"https://colab.research.google.com/assets/colab-badge.svg\" alt=\"Open In Colab\"/></a>"
      ]
    },
    {
      "cell_type": "markdown",
      "source": [
        "# Objective\n",
        "Text classification using 20 news group\n",
        "\n",
        "Perform below activities\n",
        "1. Get dataset\n",
        "2. Preapare Data for classification\n",
        "3. Feature extraction and explore vectorization\n",
        "  *  Count vector\n",
        "  *  TF-IDF vector\n",
        "  *  Word level TF-IDF\n",
        "  *  N-Gram level TF-IDF\n",
        "  *  Character level TF-IDF\n",
        "  *  Hashing vercor\n",
        "4. Use of classifiers\n"
      ],
      "metadata": {
        "id": "KcZm__zzO9Sx"
      }
    },
    {
      "cell_type": "code",
      "execution_count": 3,
      "metadata": {
        "colab": {
          "base_uri": "https://localhost:8080/"
        },
        "id": "2-gQ2WsROP3h",
        "outputId": "e520454f-3820-462e-a6b0-d1af7c218b94"
      },
      "outputs": [
        {
          "output_type": "stream",
          "name": "stderr",
          "text": [
            "[nltk_data] Downloading package stopwords to /root/nltk_data...\n",
            "[nltk_data]   Package stopwords is already up-to-date!\n"
          ]
        },
        {
          "output_type": "execute_result",
          "data": {
            "text/plain": [
              "True"
            ]
          },
          "metadata": {},
          "execution_count": 3
        }
      ],
      "source": [
        "import nltk\n",
        "nltk.download('stopwords')"
      ]
    },
    {
      "cell_type": "markdown",
      "source": [
        "# Load Packages"
      ],
      "metadata": {
        "id": "otRRACAClw51"
      }
    },
    {
      "cell_type": "code",
      "source": [
        "# load packages\n",
        "from sklearn import model_selection, preprocessing, linear_model, naive_bayes, metrics\n",
        "from sklearn.svm import SVC\n",
        "from sklearn.feature_extraction.text import TfidfVectorizer, CountVectorizer,HashingVectorizer\n",
        "from sklearn import decomposition, ensemble\n",
        "\n",
        "import numpy as np\n",
        "import pandas as pd\n",
        "import csv\n"
      ],
      "metadata": {
        "id": "5ErYXahKTQEo"
      },
      "execution_count": 4,
      "outputs": []
    },
    {
      "cell_type": "markdown",
      "source": [
        "# Import 20News Group Dataset"
      ],
      "metadata": {
        "id": "gsN0tCHfl3wL"
      }
    },
    {
      "cell_type": "code",
      "source": [
        "#import dataset\n",
        "from sklearn.datasets import fetch_20newsgroups\n",
        "newsgroups = fetch_20newsgroups(subset='all')\n",
        "\n",
        "trainDF = pd.DataFrame(newsgroups.data, columns=['text'])\n",
        "trainDF['categories'] = [newsgroups.target_names[index] for index in newsgroups.target]\n",
        "trainDF=trainDF[:1000]\n",
        "trainDF.head()\n",
        "len(trainDF)"
      ],
      "metadata": {
        "colab": {
          "base_uri": "https://localhost:8080/"
        },
        "id": "cHvud_hxU26Z",
        "outputId": "b6550edb-e096-46f7-c0dd-99d19703db0b"
      },
      "execution_count": 11,
      "outputs": [
        {
          "output_type": "execute_result",
          "data": {
            "text/plain": [
              "1000"
            ]
          },
          "metadata": {},
          "execution_count": 11
        }
      ]
    },
    {
      "cell_type": "code",
      "source": [
        "trainDF.shape"
      ],
      "metadata": {
        "id": "r0L-Wbazpfgy",
        "outputId": "d35e2fd0-9744-4b37-c011-fc99248a0947",
        "colab": {
          "base_uri": "https://localhost:8080/"
        }
      },
      "execution_count": 12,
      "outputs": [
        {
          "output_type": "execute_result",
          "data": {
            "text/plain": [
              "(1000, 2)"
            ]
          },
          "metadata": {},
          "execution_count": 12
        }
      ]
    },
    {
      "cell_type": "code",
      "source": [
        "trainDF.columns"
      ],
      "metadata": {
        "id": "NQ9KBa7NubV-",
        "outputId": "fa278317-1625-4072-8a92-c9650e3e2f1e",
        "colab": {
          "base_uri": "https://localhost:8080/"
        }
      },
      "execution_count": 13,
      "outputs": [
        {
          "output_type": "execute_result",
          "data": {
            "text/plain": [
              "Index(['text', 'categories'], dtype='object')"
            ]
          },
          "metadata": {},
          "execution_count": 13
        }
      ]
    },
    {
      "cell_type": "code",
      "source": [
        "# change datatype to string\n",
        "trainDF = trainDF[[\"categories\",\"text\"]].astype(str)"
      ],
      "metadata": {
        "id": "sFY6AS7vugku"
      },
      "execution_count": 6,
      "outputs": []
    },
    {
      "cell_type": "code",
      "source": [
        "# check labels in category\n",
        "trainDF['categories'].unique()"
      ],
      "metadata": {
        "id": "96k8w2Fbur5v",
        "outputId": "32a2805d-30b6-4999-a128-ec36ef8f10f4",
        "colab": {
          "base_uri": "https://localhost:8080/"
        }
      },
      "execution_count": 14,
      "outputs": [
        {
          "output_type": "execute_result",
          "data": {
            "text/plain": [
              "array(['rec.sport.hockey', 'comp.sys.ibm.pc.hardware',\n",
              "       'talk.politics.mideast', 'comp.sys.mac.hardware',\n",
              "       'sci.electronics', 'talk.religion.misc', 'sci.crypt', 'sci.med',\n",
              "       'alt.atheism', 'rec.motorcycles', 'rec.autos', 'comp.windows.x',\n",
              "       'comp.graphics', 'sci.space', 'talk.politics.guns', 'misc.forsale',\n",
              "       'rec.sport.baseball', 'talk.politics.misc',\n",
              "       'comp.os.ms-windows.misc', 'soc.religion.christian'], dtype=object)"
            ]
          },
          "metadata": {},
          "execution_count": 14
        }
      ]
    },
    {
      "cell_type": "code",
      "source": [
        "# check counts of each category\n",
        "trainDF['categories'].value_counts()"
      ],
      "metadata": {
        "id": "z4CfOwh-u2IS",
        "outputId": "d70e77a4-4731-4206-9526-245bea08195b",
        "colab": {
          "base_uri": "https://localhost:8080/"
        }
      },
      "execution_count": 15,
      "outputs": [
        {
          "output_type": "execute_result",
          "data": {
            "text/plain": [
              "comp.windows.x              68\n",
              "comp.sys.ibm.pc.hardware    59\n",
              "sci.electronics             58\n",
              "rec.sport.hockey            57\n",
              "comp.sys.mac.hardware       57\n",
              "comp.graphics               56\n",
              "comp.os.ms-windows.misc     54\n",
              "soc.religion.christian      54\n",
              "rec.motorcycles             51\n",
              "sci.med                     50\n",
              "sci.space                   50\n",
              "rec.sport.baseball          49\n",
              "alt.atheism                 46\n",
              "sci.crypt                   45\n",
              "talk.politics.mideast       44\n",
              "talk.religion.misc          43\n",
              "misc.forsale                42\n",
              "rec.autos                   42\n",
              "talk.politics.guns          41\n",
              "talk.politics.misc          34\n",
              "Name: categories, dtype: int64"
            ]
          },
          "metadata": {},
          "execution_count": 15
        }
      ]
    },
    {
      "cell_type": "code",
      "source": [
        "# count plot\n",
        "import seaborn as sns\n",
        "sns.set(rc={'figure.figsize':(10,10)})\n",
        "sns.countplot(trainDF['categories'])"
      ],
      "metadata": {
        "id": "fy_EjjUJvJMq",
        "outputId": "3e17611b-5f89-4bb2-d80f-4e62f0216e47",
        "colab": {
          "base_uri": "https://localhost:8080/",
          "height": 683
        }
      },
      "execution_count": 16,
      "outputs": [
        {
          "output_type": "stream",
          "name": "stderr",
          "text": [
            "/usr/local/lib/python3.7/dist-packages/seaborn/_decorators.py:43: FutureWarning: Pass the following variable as a keyword arg: x. From version 0.12, the only valid positional argument will be `data`, and passing other arguments without an explicit keyword will result in an error or misinterpretation.\n",
            "  FutureWarning\n"
          ]
        },
        {
          "output_type": "execute_result",
          "data": {
            "text/plain": [
              "<matplotlib.axes._subplots.AxesSubplot at 0x7fd70855bcd0>"
            ]
          },
          "metadata": {},
          "execution_count": 16
        },
        {
          "output_type": "display_data",
          "data": {
            "text/plain": [
              "<Figure size 720x720 with 1 Axes>"
            ],
            "image/png": "[encoded data removed]"
          },
          "metadata": {}
        }
      ]
    },
    {
      "cell_type": "code",
      "source": [
        "from sklearn.feature_extraction._stop_words import ENGLISH_STOP_WORDS\n",
        "from nltk.corpus import stopwords\n",
        "import string\n",
        "# Stop words and special characters \n",
        "STOPLIST = set(stopwords.words('english') + list(ENGLISH_STOP_WORDS)) \n",
        "SYMBOLS = \" \".join(string.punctuation).split(\" \") + [\"-\", \"...\", \"”\", \"”\",\"''\"]"
      ],
      "metadata": {
        "id": "0iHzcKOlxJXA"
      },
      "execution_count": 17,
      "outputs": []
    },
    {
      "cell_type": "code",
      "source": [
        "# Data Cleaner and tokenizer\n",
        "import spacy\n",
        "from spacy.lang.en import English\n",
        "from spacy.lang.en.examples import sentences #sample sentences\n",
        "nlp = spacy.load('en_core_web_sm')\n",
        "def tokenizeText(text):\n",
        "\n",
        "    text = text.strip().replace(\"\\n\", \" \").replace(\"\\r\", \" \")\n",
        "    text = text.lower()\n",
        "    \n",
        "    # tokens = parser(text)\n",
        "    tokens = nlp(text)\n",
        "\n",
        "    # print('Initial Tokens:', tokens)\n",
        "    \n",
        "    lemmas = []\n",
        "    for tok in tokens:\n",
        "        lemmas.append(tok.lemma_)\n",
        "    tokens = lemmas\n",
        "    # print('\\nLemmatized Tokens:', tokens)\n",
        "\n",
        "    \n",
        "    # remove stop words and special charaters\n",
        "    tokens = [tok for tok in tokens if tok.lower() not in STOPLIST]\n",
        "    tokens = [tok for tok in tokens if tok not in SYMBOLS]\n",
        "    tokens = [tok for tok in tokens if len(tok) >= 3]\n",
        "    # print('\\nStopword- and Special-Character Removed Tokens:', tokens)\n",
        "    \n",
        "    # remove remaining tokens that are not alphabetic\n",
        "    tokens = [tok for tok in tokens if tok.isalpha()]\n",
        "    \n",
        "    # stemming of words\n",
        "    #porter = PorterStemmer()\n",
        "    #tokens = [porter.stem(word) for word in tokens]\n",
        "    \n",
        "    tokens = list(set(tokens)) #comment this if you want to keep the position of the words\n",
        "    # print('\\nFinal Tokens:', tokens)\n",
        "\n",
        "    #return tokens\n",
        "    return ' '.join(tokens[:])"
      ],
      "metadata": {
        "id": "Ks1JwehsyBC3"
      },
      "execution_count": 18,
      "outputs": []
    },
    {
      "cell_type": "code",
      "source": [
        "# Data cleaning\n",
        "trainDF['text_tokenized'] = trainDF['text'].apply(lambda x:tokenizeText(x))\n",
        "trainDF.head()"
      ],
      "metadata": {
        "id": "wnFfCfn8ySet",
        "outputId": "b04799a2-3625-4e65-a751-d1ad6f05690d",
        "colab": {
          "base_uri": "https://localhost:8080/",
          "height": 206
        }
      },
      "execution_count": 20,
      "outputs": [
        {
          "output_type": "execute_result",
          "data": {
            "text/plain": [
              "                                                text  \\\n",
              "0  From: Mamatha Devineni Ratnam <mr47+@andrew.cm...   \n",
              "1  From: mblawson@midway.ecn.uoknor.edu (Matthew ...   \n",
              "2  From: hilmi-er@dsv.su.se (Hilmi Eren)\\nSubject...   \n",
              "3  From: guyd@austin.ibm.com (Guy Dawson)\\nSubjec...   \n",
              "4  From: Alexander Samuel McDiarmid <am2o+@andrew...   \n",
              "\n",
              "                 categories                                     text_tokenized  \n",
              "0          rec.sport.hockey  fan stat watch recent relief bad beat lose mel...  \n",
              "1  comp.sys.ibm.pc.hardware  ram heaven recommendation lawson orchid exalt ...  \n",
              "2     talk.politics.mideast  iran real regional sea intercept fabrication t...  \n",
              "3  comp.sys.ibm.pc.hardware  feature multi real similar standard second cpu...  \n",
              "4     comp.sys.mac.hardware  device modern understanding tape new samuel me...  "
            ],
            "text/html": [
              "\n",
              "  <div id=\"df-30809fc4-6841-4d1b-88e6-994e5f571999\">\n",
              "    <div class=\"colab-df-container\">\n",
              "      <div>\n",
              "<style scoped>\n",
              "    .dataframe tbody tr th:only-of-type {\n",
              "        vertical-align: middle;\n",
              "    }\n",
              "\n",
              "    .dataframe tbody tr th {\n",
              "        vertical-align: top;\n",
              "    }\n",
              "\n",
              "    .dataframe thead th {\n",
              "        text-align: right;\n",
              "    }\n",
              "</style>\n",
              "<table border=\"1\" class=\"dataframe\">\n",
              "  <thead>\n",
              "    <tr style=\"text-align: right;\">\n",
              "      <th></th>\n",
              "      <th>text</th>\n",
              "      <th>categories</th>\n",
              "      <th>text_tokenized</th>\n",
              "    </tr>\n",
              "  </thead>\n",
              "  <tbody>\n",
              "    <tr>\n",
              "      <th>0</th>\n",
              "      <td>From: Mamatha Devineni Ratnam &lt;mr47+@andrew.cm...</td>\n",
              "      <td>rec.sport.hockey</td>\n",
              "      <td>fan stat watch recent relief bad beat lose mel...</td>\n",
              "    </tr>\n",
              "    <tr>\n",
              "      <th>1</th>\n",
              "      <td>From: mblawson@midway.ecn.uoknor.edu (Matthew ...</td>\n",
              "      <td>comp.sys.ibm.pc.hardware</td>\n",
              "      <td>ram heaven recommendation lawson orchid exalt ...</td>\n",
              "    </tr>\n",
              "    <tr>\n",
              "      <th>2</th>\n",
              "      <td>From: hilmi-er@dsv.su.se (Hilmi Eren)\\nSubject...</td>\n",
              "      <td>talk.politics.mideast</td>\n",
              "      <td>iran real regional sea intercept fabrication t...</td>\n",
              "    </tr>\n",
              "    <tr>\n",
              "      <th>3</th>\n",
              "      <td>From: guyd@austin.ibm.com (Guy Dawson)\\nSubjec...</td>\n",
              "      <td>comp.sys.ibm.pc.hardware</td>\n",
              "      <td>feature multi real similar standard second cpu...</td>\n",
              "    </tr>\n",
              "    <tr>\n",
              "      <th>4</th>\n",
              "      <td>From: Alexander Samuel McDiarmid &lt;am2o+@andrew...</td>\n",
              "      <td>comp.sys.mac.hardware</td>\n",
              "      <td>device modern understanding tape new samuel me...</td>\n",
              "    </tr>\n",
              "  </tbody>\n",
              "</table>\n",
              "</div>\n",
              "      <button class=\"colab-df-convert\" onclick=\"convertToInteractive('df-30809fc4-6841-4d1b-88e6-994e5f571999')\"\n",
              "              title=\"Convert this dataframe to an interactive table.\"\n",
              "              style=\"display:none;\">\n",
              "        \n",
              "  <svg xmlns=\"http://www.w3.org/2000/svg\" height=\"24px\"viewBox=\"0 0 24 24\"\n",
              "       width=\"24px\">\n",
              "    <path d=\"M0 0h24v24H0V0z\" fill=\"none\"/>\n",
              "    <path d=\"M18.56 5.44l.94 2.06.94-2.06 2.06-.94-2.06-.94-.94-2.06-.94 2.06-2.06.94zm-11 1L8.5 8.5l.94-2.06 2.06-.94-2.06-.94L8.5 2.5l-.94 2.06-2.06.94zm10 10l.94 2.06.94-2.06 2.06-.94-2.06-.94-.94-2.06-.94 2.06-2.06.94z\"/><path d=\"M17.41 7.96l-1.37-1.37c-.4-.4-.92-.59-1.43-.59-.52 0-1.04.2-1.43.59L10.3 9.45l-7.72 7.72c-.78.78-.78 2.05 0 2.83L4 21.41c.39.39.9.59 1.41.59.51 0 1.02-.2 1.41-.59l7.78-7.78 2.81-2.81c.8-.78.8-2.07 0-2.86zM5.41 20L4 18.59l7.72-7.72 1.47 1.35L5.41 20z\"/>\n",
              "  </svg>\n",
              "      </button>\n",
              "      \n",
              "  <style>\n",
              "    .colab-df-container {\n",
              "      display:flex;\n",
              "      flex-wrap:wrap;\n",
              "      gap: 12px;\n",
              "    }\n",
              "\n",
              "    .colab-df-convert {\n",
              "      background-color: #E8F0FE;\n",
              "      border: none;\n",
              "      border-radius: 50%;\n",
              "      cursor: pointer;\n",
              "      display: none;\n",
              "      fill: #1967D2;\n",
              "      height: 32px;\n",
              "      padding: 0 0 0 0;\n",
              "      width: 32px;\n",
              "    }\n",
              "\n",
              "    .colab-df-convert:hover {\n",
              "      background-color: #E2EBFA;\n",
              "      box-shadow: 0px 1px 2px rgba(60, 64, 67, 0.3), 0px 1px 3px 1px rgba(60, 64, 67, 0.15);\n",
              "      fill: #174EA6;\n",
              "    }\n",
              "\n",
              "    [theme=dark] .colab-df-convert {\n",
              "      background-color: #3B4455;\n",
              "      fill: #D2E3FC;\n",
              "    }\n",
              "\n",
              "    [theme=dark] .colab-df-convert:hover {\n",
              "      background-color: #434B5C;\n",
              "      box-shadow: 0px 1px 3px 1px rgba(0, 0, 0, 0.15);\n",
              "      filter: drop-shadow(0px 1px 2px rgba(0, 0, 0, 0.3));\n",
              "      fill: #FFFFFF;\n",
              "    }\n",
              "  </style>\n",
              "\n",
              "      <script>\n",
              "        const buttonEl =\n",
              "          document.querySelector('#df-30809fc4-6841-4d1b-88e6-994e5f571999 button.colab-df-convert');\n",
              "        buttonEl.style.display =\n",
              "          google.colab.kernel.accessAllowed ? 'block' : 'none';\n",
              "\n",
              "        async function convertToInteractive(key) {\n",
              "          const element = document.querySelector('#df-30809fc4-6841-4d1b-88e6-994e5f571999');\n",
              "          const dataTable =\n",
              "            await google.colab.kernel.invokeFunction('convertToInteractive',\n",
              "                                                     [key], {});\n",
              "          if (!dataTable) return;\n",
              "\n",
              "          const docLinkHtml = 'Like what you see? Visit the ' +\n",
              "            '<a target=\"_blank\" href=https://colab.research.google.com/notebooks/data_table.ipynb>data table notebook</a>'\n",
              "            + ' to learn more about interactive tables.';\n",
              "          element.innerHTML = '';\n",
              "          dataTable['output_type'] = 'display_data';\n",
              "          await google.colab.output.renderOutput(dataTable, element);\n",
              "          const docLink = document.createElement('div');\n",
              "          docLink.innerHTML = docLinkHtml;\n",
              "          element.appendChild(docLink);\n",
              "        }\n",
              "      </script>\n",
              "    </div>\n",
              "  </div>\n",
              "  "
            ]
          },
          "metadata": {},
          "execution_count": 20
        }
      ]
    },
    {
      "cell_type": "code",
      "source": [
        "# split the dataset into training and validation datasets \n",
        "train_x, valid_x, train_y, valid_y = model_selection.train_test_split(trainDF['text'], trainDF['categories'])\n"
      ],
      "metadata": {
        "id": "qGdp6V7t27xw"
      },
      "execution_count": 21,
      "outputs": []
    },
    {
      "cell_type": "markdown",
      "source": [
        "##Count Vectors"
      ],
      "metadata": {
        "id": "CRYcdnbX2lOR"
      }
    },
    {
      "cell_type": "code",
      "source": [
        "# Count Vectors as features\n",
        "# create a count vectorizer object \n",
        "count_vect = CountVectorizer(analyzer='word', token_pattern=r'\\w{1,}')\n",
        "count_vect.fit(trainDF['text'])\n",
        "\n",
        "# transform the training and validation data using count vectorizer object\n",
        "xtrain_count =  count_vect.transform(train_x)\n",
        "xvalid_count =  count_vect.transform(valid_x)"
      ],
      "metadata": {
        "id": "RCpXW_sw2zBA"
      },
      "execution_count": 22,
      "outputs": []
    },
    {
      "cell_type": "code",
      "source": [
        "xtrain_count.shape"
      ],
      "metadata": {
        "id": "7y0HfC3_3K3g",
        "outputId": "3b26719f-17e3-46ca-fc18-50803b93d942",
        "colab": {
          "base_uri": "https://localhost:8080/"
        }
      },
      "execution_count": 23,
      "outputs": [
        {
          "output_type": "execute_result",
          "data": {
            "text/plain": [
              "(750, 29511)"
            ]
          },
          "metadata": {},
          "execution_count": 23
        }
      ]
    },
    {
      "cell_type": "code",
      "source": [
        "#reduce data dimension using PCA\n",
        "from sklearn.decomposition import PCA\n",
        "pca = PCA(n_components=2).fit(count_vect.transform(trainDF['text']).toarray())\n",
        "data2D = pca.transform(count_vect.transform(trainDF['text']).toarray())"
      ],
      "metadata": {
        "id": "ymdX061f33XM"
      },
      "execution_count": 24,
      "outputs": []
    },
    {
      "cell_type": "code",
      "source": [
        "# plot the features\n",
        "ax = sns.scatterplot(data2D[:,0], data2D[:,1], hue=trainDF['categories'].tolist(),size=trainDF['categories'].tolist(),palette=\"husl\")"
      ],
      "metadata": {
        "id": "S-Nbdyth4NAj",
        "outputId": "c6a06bfe-1904-4bd1-b400-894ded1ff404",
        "colab": {
          "base_uri": "https://localhost:8080/",
          "height": 649
        }
      },
      "execution_count": 25,
      "outputs": [
        {
          "output_type": "stream",
          "name": "stderr",
          "text": [
            "/usr/local/lib/python3.7/dist-packages/seaborn/_decorators.py:43: FutureWarning: Pass the following variables as keyword args: x, y. From version 0.12, the only valid positional argument will be `data`, and passing other arguments without an explicit keyword will result in an error or misinterpretation.\n",
            "  FutureWarning\n"
          ]
        },
        {
          "output_type": "display_data",
          "data": {
            "text/plain": [
              "<Figure size 720x720 with 1 Axes>"
            ],
            "image/png": "[encoded data removed]"
          },
          "metadata": {}
        }
      ]
    }
  ]
}