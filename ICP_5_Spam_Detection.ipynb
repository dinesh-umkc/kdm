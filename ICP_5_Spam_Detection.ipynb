{
  "nbformat": 4,
  "nbformat_minor": 0,
  "metadata": {
    "colab": {
      "provenance": [],
      "authorship_tag": "ABX9TyN4+D2/R2o5scYPlgqNtpNw",
      "include_colab_link": true
    },
    "kernelspec": {
      "name": "python3",
      "display_name": "Python 3"
    },
    "language_info": {
      "name": "python"
    }
  },
  "cells": [
    {
      "cell_type": "markdown",
      "metadata": {
        "id": "view-in-github",
        "colab_type": "text"
      },
      "source": [
        "<a href=\"https://colab.research.google.com/github/dinesh-umkc/kdm/blob/main/ICP_5_Spam_Detection.ipynb\" target=\"_parent\"><img src=\"https://colab.research.google.com/assets/colab-badge.svg\" alt=\"Open In Colab\"/></a>"
      ]
    },
    {
      "cell_type": "markdown",
      "source": [
        "#Objective\n",
        "1. Read spam dataset and create visualizations Word Cloud with diffrent shapes\n",
        "2. Use TF-IDF vectors (Word, N-Gram, Hash)\n",
        "3. Use diffrent classifier to classifiy the dataset between spam or ham\n",
        "4. Compare the classification accuracy of diffrent alogorithms  "
      ],
      "metadata": {
        "id": "uVq3a_cHkD1Y"
      }
    }
  ]
}