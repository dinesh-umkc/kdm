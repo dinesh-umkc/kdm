{
  "cells": [
    {
      "cell_type": "markdown",
      "metadata": {
        "id": "view-in-github",
        "colab_type": "text"
      },
      "source": [
        "<a href=\"https://colab.research.google.com/github/dinesh-umkc/kdm/blob/main/NLTK_Basics_ICP1.ipynb\" target=\"_parent\"><img src=\"https://colab.research.google.com/assets/colab-badge.svg\" alt=\"Open In Colab\"/></a>"
      ]
    },
    {
      "cell_type": "markdown",
      "metadata": {
        "id": "PgInTTk57g5F"
      },
      "source": [
        "# Text Analysis Using nltk.text"
      ]
    },
    {
      "cell_type": "code",
      "source": [
        "import nltk\n",
        "nltk.download('punkt')\n",
        "#Use of word tokenizer\n",
        "from nltk.tokenize import word_tokenize\n",
        "text = \"As the war in Ukraine has passed the six-month mark, US and European officials say Ukraine has successfully used a method of resistance warfare developed by US special operations forces to fight back against Russia and bog down its vastly superior military.\"\n",
        "wtokenizedtext=word_tokenize(text)\n",
        "print(wtokenizedtext)\n",
        "#Use of Sentence tokenizer\n",
        "from nltk.tokenize import sent_tokenize\n",
        "stokenizedtext=sent_tokenize(text)\n",
        "print(stokenizedtext)"
      ],
      "metadata": {
        "colab": {
          "base_uri": "https://localhost:8080/"
        },
        "id": "KKBz2ohjZB2R",
        "outputId": "f19aa49e-633c-4305-c700-df3d17f116d6"
      },
      "execution_count": 11,
      "outputs": [
        {
          "output_type": "stream",
          "name": "stdout",
          "text": [
            "['As', 'the', 'war', 'in', 'Ukraine', 'has', 'passed', 'the', 'six-month', 'mark', ',', 'US', 'and', 'European', 'officials', 'say', 'Ukraine', 'has', 'successfully', 'used', 'a', 'method', 'of', 'resistance', 'warfare', 'developed', 'by', 'US', 'special', 'operations', 'forces', 'to', 'fight', 'back', 'against', 'Russia', 'and', 'bog', 'down', 'its', 'vastly', 'superior', 'military', '.']\n",
            "['As the war in Ukraine has passed the six-month mark, US and European officials say Ukraine has successfully used a method of resistance warfare developed by US special operations forces to fight back against Russia and bog down its vastly superior military.']\n"
          ]
        },
        {
          "output_type": "stream",
          "name": "stderr",
          "text": [
            "[nltk_data] Downloading package punkt to /root/nltk_data...\n",
            "[nltk_data]   Package punkt is already up-to-date!\n"
          ]
        }
      ]
    },
    {
      "cell_type": "code",
      "execution_count": 12,
      "metadata": {
        "id": "u644nm427g5I",
        "colab": {
          "base_uri": "https://localhost:8080/"
        },
        "outputId": "9c88e306-4337-4131-b3a6-6507bcabb45d"
      },
      "outputs": [
        {
          "output_type": "stream",
          "name": "stdout",
          "text": [
            "After Token: [('As', 'IN'), ('the', 'DT'), ('war', 'NN'), ('in', 'IN'), ('Ukraine', 'NNP'), ('has', 'VBZ'), ('passed', 'VBN'), ('the', 'DT'), ('six-month', 'JJ'), ('mark', 'NN'), (',', ','), ('US', 'NNP'), ('and', 'CC'), ('European', 'JJ'), ('officials', 'NNS'), ('say', 'VBP'), ('Ukraine', 'NNP'), ('has', 'VBZ'), ('successfully', 'RB'), ('used', 'VBN'), ('a', 'DT'), ('method', 'NN'), ('of', 'IN'), ('resistance', 'NN'), ('warfare', 'NN'), ('developed', 'VBN'), ('by', 'IN'), ('US', 'NNP'), ('special', 'JJ'), ('operations', 'NNS'), ('forces', 'NNS'), ('to', 'TO'), ('fight', 'VB'), ('back', 'RB'), ('against', 'IN'), ('Russia', 'NNP'), ('and', 'CC'), ('bog', 'VB'), ('down', 'RP'), ('its', 'PRP$'), ('vastly', 'RB'), ('superior', 'JJ'), ('military', 'JJ'), ('.', '.')]\n"
          ]
        },
        {
          "output_type": "stream",
          "name": "stderr",
          "text": [
            "[nltk_data] Downloading package averaged_perceptron_tagger to\n",
            "[nltk_data]     /root/nltk_data...\n",
            "[nltk_data]   Package averaged_perceptron_tagger is already up-to-\n",
            "[nltk_data]       date!\n"
          ]
        }
      ],
      "source": [
        "# Parts of Speech(POS) tagging\n",
        "from nltk import pos_tag\n",
        "nltk.download('averaged_perceptron_tagger')\n",
        "poswordTag = pos_tag(wtokenizedtext)\n",
        "print(\"After Token:\",poswordTag)\n"
      ]
    },
    {
      "cell_type": "code",
      "source": [
        "#Chunking- Get Singlular Noun NN, Prural Noun NNS, Proper Noun NNP, Verb VB \n",
        "from nltk import RegexpParser\n",
        "patterns= \"\"\"testchunk:{<NN.?>*<NNS.?>*<NNP.?>*<VB>?}\"\"\"\n",
        "chunker = RegexpParser(patterns)\n",
        "print(\"After Regex:\",chunker)\n",
        "chunkedOutput = chunker.parse(poswordTag)\n",
        "print(\"After Chunking\",chunkedOutput)"
      ],
      "metadata": {
        "colab": {
          "base_uri": "https://localhost:8080/"
        },
        "id": "RfIMtK_anh_k",
        "outputId": "f1504cb0-9019-437e-f311-2a55c3c746af"
      },
      "execution_count": 19,
      "outputs": [
        {
          "output_type": "stream",
          "name": "stdout",
          "text": [
            "After Regex: chunk.RegexpParser with 1 stages:\n",
            "RegexpChunkParser with 1 rules:\n",
            "       <ChunkRule: '<NN.?>*<NNS.?>*<NNP.?>*<VB>?'>\n",
            "After Chunking (S\n",
            "  As/IN\n",
            "  the/DT\n",
            "  (testchunk war/NN)\n",
            "  in/IN\n",
            "  (testchunk Ukraine/NNP)\n",
            "  has/VBZ\n",
            "  passed/VBN\n",
            "  the/DT\n",
            "  six-month/JJ\n",
            "  (testchunk mark/NN)\n",
            "  ,/,\n",
            "  (testchunk US/NNP)\n",
            "  and/CC\n",
            "  European/JJ\n",
            "  (testchunk officials/NNS)\n",
            "  say/VBP\n",
            "  (testchunk Ukraine/NNP)\n",
            "  has/VBZ\n",
            "  successfully/RB\n",
            "  used/VBN\n",
            "  a/DT\n",
            "  (testchunk method/NN)\n",
            "  of/IN\n",
            "  (testchunk resistance/NN warfare/NN)\n",
            "  developed/VBN\n",
            "  by/IN\n",
            "  (testchunk US/NNP)\n",
            "  special/JJ\n",
            "  (testchunk operations/NNS forces/NNS)\n",
            "  to/TO\n",
            "  (testchunk fight/VB)\n",
            "  back/RB\n",
            "  against/IN\n",
            "  (testchunk Russia/NNP)\n",
            "  and/CC\n",
            "  (testchunk bog/VB)\n",
            "  down/RP\n",
            "  its/PRP$\n",
            "  vastly/RB\n",
            "  superior/JJ\n",
            "  military/JJ\n",
            "  ./.)\n"
          ]
        }
      ]
    },
    {
      "cell_type": "code",
      "source": [
        "#Counting of POS tag\n",
        "from collections import Counter\n",
        "counts = Counter( tag for word,  tag in poswordTag)\n",
        "print(counts)"
      ],
      "metadata": {
        "colab": {
          "base_uri": "https://localhost:8080/"
        },
        "id": "U3lSjV8AuhPX",
        "outputId": "6b0e921e-cb35-4911-ab77-52422f8fb0aa"
      },
      "execution_count": 20,
      "outputs": [
        {
          "output_type": "stream",
          "name": "stdout",
          "text": [
            "Counter({'IN': 5, 'NN': 5, 'NNP': 5, 'JJ': 5, 'DT': 3, 'VBN': 3, 'NNS': 3, 'RB': 3, 'VBZ': 2, 'CC': 2, 'VB': 2, ',': 1, 'VBP': 1, 'TO': 1, 'RP': 1, 'PRP$': 1, '.': 1})\n"
          ]
        }
      ]
    },
    {
      "cell_type": "code",
      "source": [
        "#Frequency Distribution\n",
        "from nltk import FreqDist\n",
        "fd = FreqDist(wtokenizedtext)\n",
        "fd.plot()"
      ],
      "metadata": {
        "id": "TH6kgtb6zJW3",
        "outputId": "39d079cf-cbc0-47b9-97f4-a972814dc4b5",
        "colab": {
          "base_uri": "https://localhost:8080/",
          "height": 347
        }
      },
      "execution_count": 21,
      "outputs": [
        {
          "output_type": "display_data",
          "data": {
            "text/plain": [
              "<Figure size 432x288 with 1 Axes>"
            ],
            "image/png": "[encoded data removed]"
          },
          "metadata": {
            "needs_background": "light"
          }
        },
        {
          "output_type": "execute_result",
          "data": {
            "text/plain": [
              "<matplotlib.axes._subplots.AxesSubplot at 0x7f1febddb510>"
            ]
          },
          "metadata": {},
          "execution_count": 21
        }
      ]
    },
    {
      "cell_type": "code",
      "source": [
        "#Bigrams and Trigrams\n",
        "from nltk import bigrams \n",
        "bigramOutput = list(bigrams(wtokenizedtext))\n",
        "print(\"bigramOutput\",bigramOutput)\n",
        "from nltk import trigrams\n",
        "trigramOutput = list(trigrams(wtokenizedtext))\n",
        "print(\"trigramOutput\",trigramOutput)"
      ],
      "metadata": {
        "id": "xat3CO_h0dJX",
        "outputId": "08c06492-40ac-42ba-e626-887a23af804e",
        "colab": {
          "base_uri": "https://localhost:8080/"
        }
      },
      "execution_count": 23,
      "outputs": [
        {
          "output_type": "stream",
          "name": "stdout",
          "text": [
            "bigramOutput [('As', 'the'), ('the', 'war'), ('war', 'in'), ('in', 'Ukraine'), ('Ukraine', 'has'), ('has', 'passed'), ('passed', 'the'), ('the', 'six-month'), ('six-month', 'mark'), ('mark', ','), (',', 'US'), ('US', 'and'), ('and', 'European'), ('European', 'officials'), ('officials', 'say'), ('say', 'Ukraine'), ('Ukraine', 'has'), ('has', 'successfully'), ('successfully', 'used'), ('used', 'a'), ('a', 'method'), ('method', 'of'), ('of', 'resistance'), ('resistance', 'warfare'), ('warfare', 'developed'), ('developed', 'by'), ('by', 'US'), ('US', 'special'), ('special', 'operations'), ('operations', 'forces'), ('forces', 'to'), ('to', 'fight'), ('fight', 'back'), ('back', 'against'), ('against', 'Russia'), ('Russia', 'and'), ('and', 'bog'), ('bog', 'down'), ('down', 'its'), ('its', 'vastly'), ('vastly', 'superior'), ('superior', 'military'), ('military', '.')]\n",
            "trigramOutput [('As', 'the', 'war'), ('the', 'war', 'in'), ('war', 'in', 'Ukraine'), ('in', 'Ukraine', 'has'), ('Ukraine', 'has', 'passed'), ('has', 'passed', 'the'), ('passed', 'the', 'six-month'), ('the', 'six-month', 'mark'), ('six-month', 'mark', ','), ('mark', ',', 'US'), (',', 'US', 'and'), ('US', 'and', 'European'), ('and', 'European', 'officials'), ('European', 'officials', 'say'), ('officials', 'say', 'Ukraine'), ('say', 'Ukraine', 'has'), ('Ukraine', 'has', 'successfully'), ('has', 'successfully', 'used'), ('successfully', 'used', 'a'), ('used', 'a', 'method'), ('a', 'method', 'of'), ('method', 'of', 'resistance'), ('of', 'resistance', 'warfare'), ('resistance', 'warfare', 'developed'), ('warfare', 'developed', 'by'), ('developed', 'by', 'US'), ('by', 'US', 'special'), ('US', 'special', 'operations'), ('special', 'operations', 'forces'), ('operations', 'forces', 'to'), ('forces', 'to', 'fight'), ('to', 'fight', 'back'), ('fight', 'back', 'against'), ('back', 'against', 'Russia'), ('against', 'Russia', 'and'), ('Russia', 'and', 'bog'), ('and', 'bog', 'down'), ('bog', 'down', 'its'), ('down', 'its', 'vastly'), ('its', 'vastly', 'superior'), ('vastly', 'superior', 'military'), ('superior', 'military', '.')]\n"
          ]
        }
      ]
    },
    {
      "cell_type": "code",
      "execution_count": null,
      "metadata": {
        "colab": {
          "base_uri": "https://localhost:8080/"
        },
        "id": "Jr_Nw2bb7g5J",
        "outputId": "6337ebc9-4290-4d74-f0c6-fc3f01efc8ab"
      },
      "outputs": [
        {
          "output_type": "execute_result",
          "data": {
            "text/plain": [
              "['two',\n",
              " 'plus',\n",
              " 'two',\n",
              " 'is',\n",
              " 'four',\n",
              " ',',\n",
              " 'minus',\n",
              " 'one',\n",
              " 'that',\n",
              " \"'s\",\n",
              " 'three',\n",
              " '—',\n",
              " 'quick',\n",
              " 'maths']"
            ]
          },
          "metadata": {},
          "execution_count": 10
        }
      ],
      "source": [
        "my_string = \"Two plus two is four, minus one that's three — quick maths. Every day man's on the block. Smoke trees. See your girl in the park, that girl is an uckers. When the thing went quack quack quack, your men were ducking! Hold tight Asznee, my brother. He's got a pumpy. Hold tight my man, my guy. He's got a frisbee. I trap, trap, trap on the phone. Moving that cornflakes, rice crispies. Hold tight my girl Whitney.\"\n",
        "tokens = word_tokenize(my_string)\n",
        "tokens = [word.lower() for word in tokens]\n",
        "tokens[:14]"
      ]
    },
    {
      "cell_type": "code",
      "execution_count": null,
      "metadata": {
        "colab": {
          "base_uri": "https://localhost:8080/"
        },
        "id": "twi80mod7g5K",
        "outputId": "448c084b-d846-4ad3-d3ba-f3ecae26015b"
      },
      "outputs": [
        {
          "output_type": "execute_result",
          "data": {
            "text/plain": [
              "<Text: two plus two is four , minus one...>"
            ]
          },
          "metadata": {},
          "execution_count": 4
        }
      ],
      "source": [
        "t = Text(tokens)\n",
        "t"
      ]
    },
    {
      "cell_type": "code",
      "execution_count": null,
      "metadata": {
        "colab": {
          "base_uri": "https://localhost:8080/"
        },
        "id": "1dvn0KtV7g5M",
        "outputId": "1f683c08-3708-4de4-d693-41fd8f23c6f0"
      },
      "outputs": [
        {
          "output_type": "stream",
          "name": "stdout",
          "text": [
            "Displaying 1 of 1 matches:\n",
            "ur , minus one that 's three — quick maths . every day man 's on the block . sm\n"
          ]
        }
      ],
      "source": [
        "t.concordance('maths') # concordance() is a method of the Text class of NLTK. It finds words and displays a context window. Word matching is not case-sensitive.\n",
        "# concordance() is defined as follows: concordance(self, word, width=79, lines=25). Note default values for optional params."
      ]
    },
    {
      "cell_type": "markdown",
      "source": [
        "Collocation is ‘a predictable combination of words‘  for example we can say heavy rain but not strong rain because it does not sound right’ likewise, we can say ‘do exercise’ but not ‘make exercise’.  Collocations can be made up of any kinds of words such as verbs, nouns, adverbs and adjectives. There are no rules for collocations, they are just combinations of words that we can become familiar with and then use correctly."
      ],
      "metadata": {
        "id": "Md1mFXcVaMgA"
      }
    },
    {
      "cell_type": "code",
      "execution_count": null,
      "metadata": {
        "colab": {
          "base_uri": "https://localhost:8080/"
        },
        "id": "IIoDG76P7g5M",
        "outputId": "2dded70e-76cc-4899-cacd-04b33533ffcd"
      },
      "outputs": [
        {
          "output_type": "stream",
          "name": "stdout",
          "text": [
            "hold tight; quack quack\n"
          ]
        }
      ],
      "source": [
        "t.collocations() # def collocations(self, num=20, window_size=2). num is the max no. of collocations to print."
      ]
    },
    {
      "cell_type": "code",
      "execution_count": null,
      "metadata": {
        "colab": {
          "base_uri": "https://localhost:8080/"
        },
        "id": "e5cjD72N7g5N",
        "outputId": "84576a68-3a95-41ec-8507-30e0238bfb90"
      },
      "outputs": [
        {
          "output_type": "execute_result",
          "data": {
            "text/plain": [
              "3"
            ]
          },
          "metadata": {},
          "execution_count": 7
        }
      ],
      "source": [
        "t.count('quack')"
      ]
    },
    {
      "cell_type": "code",
      "execution_count": null,
      "metadata": {
        "colab": {
          "base_uri": "https://localhost:8080/"
        },
        "id": "9cO2pazn7g5O",
        "outputId": "bcaea50e-aaae-4d4d-d8c7-f90599e2f459"
      },
      "outputs": [
        {
          "output_type": "execute_result",
          "data": {
            "text/plain": [
              "53"
            ]
          },
          "metadata": {},
          "execution_count": 21
        }
      ],
      "source": [
        "t.index('tight')"
      ]
    },
    {
      "cell_type": "code",
      "execution_count": null,
      "metadata": {
        "colab": {
          "base_uri": "https://localhost:8080/"
        },
        "id": "hQUHVCBC7g5O",
        "outputId": "f30cb5ff-0228-4452-8085-c90d4ef71bec"
      },
      "outputs": [
        {
          "output_type": "stream",
          "name": "stdout",
          "text": [
            "powerful\n"
          ]
        }
      ],
      "source": [
        "text = \"Tom said the iPhone is beautiful because it's new. Tom said the iPhone is powerful because it's new.\"\n",
        "tokens = word_tokenize(text)\n",
        "tokens = [word.lower() for word in tokens]\n",
        "t2 = Text(tokens)\n",
        "\n",
        "t2.similar('beautiful') # similar(self, word, num=20). Distributional similarity: find other words which appear in the same contexts as the specified word; list most similar words first."
      ]
    },
    {
      "cell_type": "code",
      "execution_count": null,
      "metadata": {
        "colab": {
          "base_uri": "https://localhost:8080/",
          "height": 295
        },
        "id": "GSQkPGJ57g5P",
        "outputId": "eb884d3b-18c8-480c-e4ce-e36b19bb028e"
      },
      "outputs": [
        {
          "output_type": "display_data",
          "data": {
            "text/plain": [
              "<Figure size 432x288 with 1 Axes>"
            ],
            "image/png": "[encoded data removed]"
          },
          "metadata": {
            "needs_background": "light"
          }
        }
      ],
      "source": [
        "t.dispersion_plot(['man', 'thing', 'quack']) # Reveals patterns in word positions. Each stripe represents an instance of a word, and each row represents the entire text."
      ]
    },
    {
      "cell_type": "code",
      "execution_count": null,
      "metadata": {
        "colab": {
          "base_uri": "https://localhost:8080/",
          "height": 317
        },
        "id": "0eoPA8OJ7g5P",
        "outputId": "1c835ddf-b5fc-47b6-b09d-f24855d1d830"
      },
      "outputs": [
        {
          "output_type": "display_data",
          "data": {
            "text/plain": [
              "<Figure size 432x288 with 1 Axes>"
            ],
            "image/png": "[encoded data removed]"
          },
          "metadata": {
            "needs_background": "light"
          }
        },
        {
          "output_type": "execute_result",
          "data": {
            "text/plain": [
              "<matplotlib.axes._subplots.AxesSubplot at 0x7f9cf9d9c710>"
            ]
          },
          "metadata": {},
          "execution_count": 13
        }
      ],
      "source": [
        "t.plot(20) # plots 20 most common tokens"
      ]
    },
    {
      "cell_type": "code",
      "execution_count": null,
      "metadata": {
        "colab": {
          "base_uri": "https://localhost:8080/"
        },
        "id": "K6sYUUb87g5Q",
        "outputId": "bfcb2ef6-e15f-4132-a2ba-6326697cd80f"
      },
      "outputs": [
        {
          "output_type": "execute_result",
          "data": {
            "text/plain": [
              "FreqDist({'.': 11, ',': 8, \"'s\": 4, 'the': 4, 'my': 4, 'that': 3, 'girl': 3, 'quack': 3, 'hold': 3, 'tight': 3, ...})"
            ]
          },
          "metadata": {},
          "execution_count": 14
        }
      ],
      "source": [
        "t.vocab()"
      ]
    },
    {
      "cell_type": "markdown",
      "metadata": {
        "id": "iUQHnbKU7g5L"
      },
      "source": [
        "NLTK `Text` instances can be used when reading text from a file. For instance:\n",
        "```python\n",
        "f = open('my-file.txt','rU') # Opening a file with the mode 'U' or 'rU' will open a file for reading in universal newline mode. All three line ending conventions will be translated to a \"\\n\"\n",
        "raw = f.read()\n",
        "```"
      ]
    },
    {
      "cell_type": "markdown",
      "metadata": {
        "id": "IYkTt5yM7g5Q"
      },
      "source": [
        "Another thing that might be useful in analysis is finding common contexts. Our text is too small so we will use a bigger one.\n",
        "\n",
        "NLTK comes with several interesting **corpora**, which are large collections of text. You can check out what kinds of corpora are found in `nltk.corpus` in Section 1 [here](http://www.nltk.org/book/ch02.html).\n",
        "\n",
        "`reuters` is a corpus of news documents. More specifically, `reuters` is a *corpus reader* for the Reuters corpus which provides us with methods to access the corpus:"
      ]
    },
    {
      "cell_type": "code",
      "execution_count": null,
      "metadata": {
        "colab": {
          "base_uri": "https://localhost:8080/"
        },
        "id": "jqm8zUBi7g5R",
        "outputId": "94fb9bf3-2ba9-4771-c0b8-37ea5187e882"
      },
      "outputs": [
        {
          "output_type": "execute_result",
          "data": {
            "text/plain": [
              "<Text: ASIAN EXPORTERS FEAR DAMAGE FROM U . S...>"
            ]
          },
          "metadata": {},
          "execution_count": 5
        }
      ],
      "source": [
        "from nltk.corpus import reuters\n",
        "text = Text(reuters.words()) # .words() is one method corpus readers provide for reading data from a corpus. We will learn more about these methods in Chapter 2.\n",
        "text"
      ]
    },
    {
      "cell_type": "markdown",
      "metadata": {
        "id": "9zRNX0rn7g5R"
      },
      "source": [
        "# ICP: Print sentences and paragraphs from another corpus of your choice from NLTK. \n",
        "Find the supported corpora [here](https://www.nltk.org/book/ch02.html)\n",
        "\n",
        "Hint: use `words`, `sents` and `paras` methods from NLTK\n"
      ]
    },
    {
      "cell_type": "code",
      "source": [],
      "metadata": {
        "id": "iChdAvpKhPEO"
      },
      "execution_count": null,
      "outputs": []
    }
  ],
  "metadata": {
    "kernelspec": {
      "display_name": "Python 3",
      "language": "python",
      "name": "python3"
    },
    "language_info": {
      "codemirror_mode": {
        "name": "ipython",
        "version": 3
      },
      "file_extension": ".py",
      "mimetype": "text/x-python",
      "name": "python",
      "nbconvert_exporter": "python",
      "pygments_lexer": "ipython3",
      "version": "3.6.4"
    },
    "colab": {
      "name": "Copy of NLTK Basics.ipynb",
      "provenance": [],
      "collapsed_sections": [],
      "include_colab_link": true
    }
  },
  "nbformat": 4,
  "nbformat_minor": 0
}