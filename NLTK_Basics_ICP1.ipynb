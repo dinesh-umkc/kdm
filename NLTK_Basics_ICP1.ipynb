{
  "cells": [
    {
      "cell_type": "markdown",
      "metadata": {
        "id": "view-in-github",
        "colab_type": "text"
      },
      "source": [
        "<a href=\"https://colab.research.google.com/github/dinesh-umkc/kdm/blob/main/NLTK_Basics_ICP1.ipynb\" target=\"_parent\"><img src=\"https://colab.research.google.com/assets/colab-badge.svg\" alt=\"Open In Colab\"/></a>"
      ]
    },
    {
      "cell_type": "markdown",
      "metadata": {
        "id": "PgInTTk57g5F"
      },
      "source": [
        "# Text Analysis Using nltk.text"
      ]
    },
    {
      "cell_type": "code",
      "source": [
        "import nltk\n",
        "nltk.download('punkt')\n",
        "#Use of word tokenizer\n",
        "from nltk.tokenize import word_tokenize\n",
        "text = \"As the war in Ukraine has passed the six-month mark, US and European officials say Ukraine has successfully used a method of resistance warfare developed by US special operations forces to fight back against Russia and bog down its vastly superior military.\"\n",
        "wtokenizedtext=word_tokenize(text)\n",
        "print(wtokenizedtext)\n",
        "#Use of Sentence tokenizer\n",
        "from nltk.tokenize import sent_tokenize\n",
        "stokenizedtext=sent_tokenize(text)\n",
        "print(stokenizedtext)"
      ],
      "metadata": {
        "colab": {
          "base_uri": "https://localhost:8080/"
        },
        "id": "KKBz2ohjZB2R",
        "outputId": "a31d2959-293c-420c-bff4-34063637fe4d"
      },
      "execution_count": 8,
      "outputs": [
        {
          "output_type": "stream",
          "name": "stderr",
          "text": [
            "[nltk_data] Downloading package punkt to /root/nltk_data...\n",
            "[nltk_data]   Unzipping tokenizers/punkt.zip.\n"
          ]
        },
        {
          "output_type": "stream",
          "name": "stdout",
          "text": [
            "['As', 'the', 'war', 'in', 'Ukraine', 'has', 'passed', 'the', 'six-month', 'mark', ',', 'US', 'and', 'European', 'officials', 'say', 'Ukraine', 'has', 'successfully', 'used', 'a', 'method', 'of', 'resistance', 'warfare', 'developed', 'by', 'US', 'special', 'operations', 'forces', 'to', 'fight', 'back', 'against', 'Russia', 'and', 'bog', 'down', 'its', 'vastly', 'superior', 'military', '.']\n",
            "['As the war in Ukraine has passed the six-month mark, US and European officials say Ukraine has successfully used a method of resistance warfare developed by US special operations forces to fight back against Russia and bog down its vastly superior military.']\n"
          ]
        }
      ]
    },
    {
      "cell_type": "code",
      "execution_count": 12,
      "metadata": {
        "id": "u644nm427g5I",
        "colab": {
          "base_uri": "https://localhost:8080/"
        },
        "outputId": "9c88e306-4337-4131-b3a6-6507bcabb45d"
      },
      "outputs": [
        {
          "output_type": "stream",
          "name": "stdout",
          "text": [
            "After Token: [('As', 'IN'), ('the', 'DT'), ('war', 'NN'), ('in', 'IN'), ('Ukraine', 'NNP'), ('has', 'VBZ'), ('passed', 'VBN'), ('the', 'DT'), ('six-month', 'JJ'), ('mark', 'NN'), (',', ','), ('US', 'NNP'), ('and', 'CC'), ('European', 'JJ'), ('officials', 'NNS'), ('say', 'VBP'), ('Ukraine', 'NNP'), ('has', 'VBZ'), ('successfully', 'RB'), ('used', 'VBN'), ('a', 'DT'), ('method', 'NN'), ('of', 'IN'), ('resistance', 'NN'), ('warfare', 'NN'), ('developed', 'VBN'), ('by', 'IN'), ('US', 'NNP'), ('special', 'JJ'), ('operations', 'NNS'), ('forces', 'NNS'), ('to', 'TO'), ('fight', 'VB'), ('back', 'RB'), ('against', 'IN'), ('Russia', 'NNP'), ('and', 'CC'), ('bog', 'VB'), ('down', 'RP'), ('its', 'PRP$'), ('vastly', 'RB'), ('superior', 'JJ'), ('military', 'JJ'), ('.', '.')]\n"
          ]
        },
        {
          "output_type": "stream",
          "name": "stderr",
          "text": [
            "[nltk_data] Downloading package averaged_perceptron_tagger to\n",
            "[nltk_data]     /root/nltk_data...\n",
            "[nltk_data]   Package averaged_perceptron_tagger is already up-to-\n",
            "[nltk_data]       date!\n"
          ]
        }
      ],
      "source": [
        "# Parts of Speech(POS) tagging\n",
        "from nltk import pos_tag\n",
        "nltk.download('averaged_perceptron_tagger')\n",
        "poswordTag = pos_tag(wtokenizedtext)\n",
        "print(\"After Token:\",poswordTag)\n"
      ]
    },
    {
      "cell_type": "code",
      "source": [
        "#Chunking- Get Singlular Noun NN, Prural Noun NNS, Proper Noun NNP, Verb VB \n",
        "from nltk import RegexpParser\n",
        "patterns= \"\"\"testchunk:{<NN.?>*<NNS.?>*<NNP.?>*<VB>?}\"\"\"\n",
        "chunker = RegexpParser(patterns)\n",
        "print(\"After Regex:\",chunker)\n",
        "chunkedOutput = chunker.parse(poswordTag)\n",
        "print(\"After Chunking\",chunkedOutput)"
      ],
      "metadata": {
        "colab": {
          "base_uri": "https://localhost:8080/"
        },
        "id": "RfIMtK_anh_k",
        "outputId": "f1504cb0-9019-437e-f311-2a55c3c746af"
      },
      "execution_count": 19,
      "outputs": [
        {
          "output_type": "stream",
          "name": "stdout",
          "text": [
            "After Regex: chunk.RegexpParser with 1 stages:\n",
            "RegexpChunkParser with 1 rules:\n",
            "       <ChunkRule: '<NN.?>*<NNS.?>*<NNP.?>*<VB>?'>\n",
            "After Chunking (S\n",
            "  As/IN\n",
            "  the/DT\n",
            "  (testchunk war/NN)\n",
            "  in/IN\n",
            "  (testchunk Ukraine/NNP)\n",
            "  has/VBZ\n",
            "  passed/VBN\n",
            "  the/DT\n",
            "  six-month/JJ\n",
            "  (testchunk mark/NN)\n",
            "  ,/,\n",
            "  (testchunk US/NNP)\n",
            "  and/CC\n",
            "  European/JJ\n",
            "  (testchunk officials/NNS)\n",
            "  say/VBP\n",
            "  (testchunk Ukraine/NNP)\n",
            "  has/VBZ\n",
            "  successfully/RB\n",
            "  used/VBN\n",
            "  a/DT\n",
            "  (testchunk method/NN)\n",
            "  of/IN\n",
            "  (testchunk resistance/NN warfare/NN)\n",
            "  developed/VBN\n",
            "  by/IN\n",
            "  (testchunk US/NNP)\n",
            "  special/JJ\n",
            "  (testchunk operations/NNS forces/NNS)\n",
            "  to/TO\n",
            "  (testchunk fight/VB)\n",
            "  back/RB\n",
            "  against/IN\n",
            "  (testchunk Russia/NNP)\n",
            "  and/CC\n",
            "  (testchunk bog/VB)\n",
            "  down/RP\n",
            "  its/PRP$\n",
            "  vastly/RB\n",
            "  superior/JJ\n",
            "  military/JJ\n",
            "  ./.)\n"
          ]
        }
      ]
    },
    {
      "cell_type": "code",
      "source": [
        "#Counting of POS tag\n",
        "from collections import Counter\n",
        "counts = Counter( tag for word,  tag in poswordTag)\n",
        "print(counts)"
      ],
      "metadata": {
        "colab": {
          "base_uri": "https://localhost:8080/"
        },
        "id": "U3lSjV8AuhPX",
        "outputId": "6b0e921e-cb35-4911-ab77-52422f8fb0aa"
      },
      "execution_count": 20,
      "outputs": [
        {
          "output_type": "stream",
          "name": "stdout",
          "text": [
            "Counter({'IN': 5, 'NN': 5, 'NNP': 5, 'JJ': 5, 'DT': 3, 'VBN': 3, 'NNS': 3, 'RB': 3, 'VBZ': 2, 'CC': 2, 'VB': 2, ',': 1, 'VBP': 1, 'TO': 1, 'RP': 1, 'PRP$': 1, '.': 1})\n"
          ]
        }
      ]
    },
    {
      "cell_type": "code",
      "source": [
        "#Frequency Distribution\n",
        "from nltk import FreqDist\n",
        "fd = FreqDist(wtokenizedtext)\n",
        "fd.plot()"
      ],
      "metadata": {
        "colab": {
          "base_uri": "https://localhost:8080/",
          "height": 347
        },
        "id": "TH6kgtb6zJW3",
        "outputId": "39d079cf-cbc0-47b9-97f4-a972814dc4b5"
      },
      "execution_count": 21,
      "outputs": [
        {
          "output_type": "display_data",
          "data": {
            "text/plain": [
              "<Figure size 432x288 with 1 Axes>"
            ],
            "image/png": "[encoded data removed]"
          },
          "metadata": {
            "needs_background": "light"
          }
        },
        {
          "output_type": "execute_result",
          "data": {
            "text/plain": [
              "<matplotlib.axes._subplots.AxesSubplot at 0x7f1febddb510>"
            ]
          },
          "metadata": {},
          "execution_count": 21
        }
      ]
    },
    {
      "cell_type": "code",
      "source": [
        "#Bigrams and Trigrams\n",
        "from nltk import bigrams \n",
        "bigramOutput = list(bigrams(wtokenizedtext))\n",
        "print(\"bigramOutput\",bigramOutput)\n",
        "from nltk import trigrams\n",
        "trigramOutput = list(trigrams(wtokenizedtext))\n",
        "print(\"trigramOutput\",trigramOutput)"
      ],
      "metadata": {
        "colab": {
          "base_uri": "https://localhost:8080/"
        },
        "id": "xat3CO_h0dJX",
        "outputId": "08c06492-40ac-42ba-e626-887a23af804e"
      },
      "execution_count": 23,
      "outputs": [
        {
          "output_type": "stream",
          "name": "stdout",
          "text": [
            "bigramOutput [('As', 'the'), ('the', 'war'), ('war', 'in'), ('in', 'Ukraine'), ('Ukraine', 'has'), ('has', 'passed'), ('passed', 'the'), ('the', 'six-month'), ('six-month', 'mark'), ('mark', ','), (',', 'US'), ('US', 'and'), ('and', 'European'), ('European', 'officials'), ('officials', 'say'), ('say', 'Ukraine'), ('Ukraine', 'has'), ('has', 'successfully'), ('successfully', 'used'), ('used', 'a'), ('a', 'method'), ('method', 'of'), ('of', 'resistance'), ('resistance', 'warfare'), ('warfare', 'developed'), ('developed', 'by'), ('by', 'US'), ('US', 'special'), ('special', 'operations'), ('operations', 'forces'), ('forces', 'to'), ('to', 'fight'), ('fight', 'back'), ('back', 'against'), ('against', 'Russia'), ('Russia', 'and'), ('and', 'bog'), ('bog', 'down'), ('down', 'its'), ('its', 'vastly'), ('vastly', 'superior'), ('superior', 'military'), ('military', '.')]\n",
            "trigramOutput [('As', 'the', 'war'), ('the', 'war', 'in'), ('war', 'in', 'Ukraine'), ('in', 'Ukraine', 'has'), ('Ukraine', 'has', 'passed'), ('has', 'passed', 'the'), ('passed', 'the', 'six-month'), ('the', 'six-month', 'mark'), ('six-month', 'mark', ','), ('mark', ',', 'US'), (',', 'US', 'and'), ('US', 'and', 'European'), ('and', 'European', 'officials'), ('European', 'officials', 'say'), ('officials', 'say', 'Ukraine'), ('say', 'Ukraine', 'has'), ('Ukraine', 'has', 'successfully'), ('has', 'successfully', 'used'), ('successfully', 'used', 'a'), ('used', 'a', 'method'), ('a', 'method', 'of'), ('method', 'of', 'resistance'), ('of', 'resistance', 'warfare'), ('resistance', 'warfare', 'developed'), ('warfare', 'developed', 'by'), ('developed', 'by', 'US'), ('by', 'US', 'special'), ('US', 'special', 'operations'), ('special', 'operations', 'forces'), ('operations', 'forces', 'to'), ('forces', 'to', 'fight'), ('to', 'fight', 'back'), ('fight', 'back', 'against'), ('back', 'against', 'Russia'), ('against', 'Russia', 'and'), ('Russia', 'and', 'bog'), ('and', 'bog', 'down'), ('bog', 'down', 'its'), ('down', 'its', 'vastly'), ('its', 'vastly', 'superior'), ('vastly', 'superior', 'military'), ('superior', 'military', '.')]\n"
          ]
        }
      ]
    },
    {
      "cell_type": "code",
      "source": [
        "#Stemming - Getting the base word by removing prefix or suffix\n",
        "from nltk.stem import PorterStemmer\n",
        "sample_words =[\"happy\", \"happier\", \"unhappy\",\"happiness\",\"dog\",\"dogs\",\"playing\",\"played\"]\n",
        "ps =PorterStemmer()\n",
        "for word in sample_words:\n",
        "    baseword=ps.stem(word)\n",
        "    print(baseword)"
      ],
      "metadata": {
        "id": "oshF0yXQ4i2o",
        "outputId": "8195a39d-e6fe-4306-9c2c-5b84c010a616",
        "colab": {
          "base_uri": "https://localhost:8080/"
        }
      },
      "execution_count": 5,
      "outputs": [
        {
          "output_type": "stream",
          "name": "stdout",
          "text": [
            "happi\n",
            "happier\n",
            "unhappi\n",
            "happi\n",
            "dog\n",
            "dog\n",
            "play\n",
            "play\n"
          ]
        }
      ]
    },
    {
      "cell_type": "code",
      "source": [
        "#Lemmatization - Getting the base word by morphological analysis\n",
        "nltk.download('wordnet')\n",
        "nltk.download('omw-1.4')\n",
        "from nltk.stem import WordNetLemmatizer\n",
        "sample_words =[\"happy\", \"happier\", \"unhappy\",\"happiness\",\"dog\",\"dogs\",\"playing\",\"played\"]\n",
        "wl =WordNetLemmatizer()\n",
        "for word in sample_words:\n",
        "    baseword=wl.lemmatize(word)\n",
        "    print(baseword)"
      ],
      "metadata": {
        "id": "mQWXJWSE6AlH",
        "outputId": "54551815-59a4-41c9-fc4b-b32647be6e40",
        "colab": {
          "base_uri": "https://localhost:8080/"
        }
      },
      "execution_count": 10,
      "outputs": [
        {
          "output_type": "stream",
          "name": "stderr",
          "text": [
            "[nltk_data] Downloading package wordnet to /root/nltk_data...\n",
            "[nltk_data]   Package wordnet is already up-to-date!\n",
            "[nltk_data] Downloading package omw-1.4 to /root/nltk_data...\n"
          ]
        },
        {
          "output_type": "stream",
          "name": "stdout",
          "text": [
            "happy\n",
            "happier\n",
            "unhappy\n",
            "happiness\n",
            "dog\n",
            "dog\n",
            "playing\n",
            "played\n"
          ]
        }
      ]
    },
    {
      "cell_type": "code",
      "source": [
        "#Use of wordnet\n",
        "from nltk.corpus import wordnet\n",
        "synonyms = []\n",
        "antonyms = []\n",
        "\n",
        "for syn in wordnet.synsets(\"healthy\"):#synsets(\"courage\"):\n",
        "  for lem in syn.lemmas():\n",
        "\t\t\tsynonyms.append(lem.name())\n",
        "\t\t\tif lem.antonyms():\n",
        "\t\t\t\t antonyms.append(lem.antonyms()[0].name())\n",
        "print(set(synonyms))\n",
        "print(set(antonyms))"
      ],
      "metadata": {
        "id": "UqOUu5JyKih6",
        "outputId": "41980ef9-e020-4653-b67b-7a0f6e2e7515",
        "colab": {
          "base_uri": "https://localhost:8080/"
        }
      },
      "execution_count": 12,
      "outputs": [
        {
          "output_type": "stream",
          "name": "stdout",
          "text": [
            "{'healthy', 'sizeable', 'good_for_you', 'sound', 'levelheaded', 'goodish', 'goodly', 'hefty', 'respectable', 'salubrious', 'tidy', 'sizable', 'intelligent', 'level-headed'}\n",
            "{'unhealthy'}\n"
          ]
        }
      ]
    },
    {
      "cell_type": "markdown",
      "metadata": {
        "id": "9zRNX0rn7g5R"
      },
      "source": [
        "# ICP: Print sentences and paragraphs from another corpus of your choice from NLTK. \n",
        "Find the supported corpora [here](https://www.nltk.org/book/ch02.html)\n",
        "\n",
        "Hint: use `words`, `sents` and `paras` methods from NLTK\n"
      ]
    },
    {
      "cell_type": "code",
      "source": [],
      "metadata": {
        "id": "iChdAvpKhPEO"
      },
      "execution_count": null,
      "outputs": []
    }
  ],
  "metadata": {
    "kernelspec": {
      "display_name": "Python 3",
      "language": "python",
      "name": "python3"
    },
    "language_info": {
      "codemirror_mode": {
        "name": "ipython",
        "version": 3
      },
      "file_extension": ".py",
      "mimetype": "text/x-python",
      "name": "python",
      "nbconvert_exporter": "python",
      "pygments_lexer": "ipython3",
      "version": "3.6.4"
    },
    "colab": {
      "name": "Copy of NLTK Basics.ipynb",
      "provenance": [],
      "collapsed_sections": [],
      "include_colab_link": true
    }
  },
  "nbformat": 4,
  "nbformat_minor": 0
}