{
  "cells": [
    {
      "cell_type": "markdown",
      "metadata": {
        "id": "view-in-github",
        "colab_type": "text"
      },
      "source": [
        "<a href=\"https://colab.research.google.com/github/dinesh-umkc/kdm/blob/main/Gender_Prediction_by_Name_ICP2_sklearn_b.ipynb\" target=\"_parent\"><img src=\"https://colab.research.google.com/assets/colab-badge.svg\" alt=\"Open In Colab\"/></a>"
      ]
    },
    {
      "cell_type": "markdown",
      "metadata": {
        "id": "C3vKn1HhWPGa"
      },
      "source": [
        "#Objective Name Gender Identifier\n",
        "Use of SKLearn and Naive Bayes classifer to identify gender"
      ]
    },
    {
      "cell_type": "code",
      "execution_count": null,
      "metadata": {
        "id": "R8y5VrHjWPGg",
        "outputId": "c7be3e21-3bec-4775-ef49-d51d29cfea54",
        "colab": {
          "base_uri": "https://localhost:8080/"
        }
      },
      "outputs": [
        {
          "output_type": "stream",
          "name": "stderr",
          "text": [
            "[nltk_data] Downloading package names to /root/nltk_data...\n",
            "[nltk_data]   Package names is already up-to-date!\n"
          ]
        },
        {
          "output_type": "stream",
          "name": "stdout",
          "text": [
            "[{'name': 'chane', 'first_letter': 'c', 'suffix1': 'e', 'suffix2': 'ne', 'suffix3': 'ane', 'gender': 'male'}, {'name': 'nydia', 'first_letter': 'n', 'suffix1': 'a', 'suffix2': 'ia', 'suffix3': 'dia', 'gender': 'female'}, {'name': 'jean-christophe', 'first_letter': 'j', 'suffix1': 'e', 'suffix2': 'he', 'suffix3': 'phe', 'gender': 'male'}, {'name': 'carolin', 'first_letter': 'c', 'suffix1': 'n', 'suffix2': 'in', 'suffix3': 'lin', 'gender': 'female'}, {'name': 'mace', 'first_letter': 'm', 'suffix1': 'e', 'suffix2': 'ce', 'suffix3': 'ace', 'gender': 'male'}]\n",
            "[{'name': 'chane', 'first_letter': 'c', 'suffix1': 'e', 'suffix2': 'ne', 'suffix3': 'ane'}, {'name': 'nydia', 'first_letter': 'n', 'suffix1': 'a', 'suffix2': 'ia', 'suffix3': 'dia'}, {'name': 'jean-christophe', 'first_letter': 'j', 'suffix1': 'e', 'suffix2': 'he', 'suffix3': 'phe'}, {'name': 'carolin', 'first_letter': 'c', 'suffix1': 'n', 'suffix2': 'in', 'suffix3': 'lin'}, {'name': 'mace', 'first_letter': 'm', 'suffix1': 'e', 'suffix2': 'ce', 'suffix3': 'ace'}]\n",
            "Gender Classification accuracy = 59.34550031466331\n"
          ]
        }
      ],
      "source": [
        "# Feature extractor\n",
        "def gender_features(word):\n",
        "    return {'last_letter': word[-1]}\n",
        "def gender_features2(name):\n",
        "    features = {}\n",
        "    features[\"first_letter\"] = name[0].lower()\n",
        "    features[\"last_letter\"] = name[-1].lower()\n",
        "    for letter in 'abcdefghijklmnopqrstuvwxyz':\n",
        "        features[\"count({})\".format(letter)] = name.lower().count(letter)\n",
        "        features[\"has({})\".format(letter)] = (letter in name.lower())\n",
        "    return features\n",
        "def gender_features3(word,gender):\n",
        "    features = {}\n",
        "    features[\"name\"] = word.lower()\n",
        "    features[\"first_letter\"] = word[0].lower()\n",
        "    features[\"suffix1\"] = word[-1].lower()\n",
        "    features[\"suffix2\"] = word[-2:].lower()\n",
        "    features[\"suffix3\"] = word[-3:].lower()\n",
        "    features[\"gender\"] = gender\n",
        "    return features\n",
        "\n",
        "def gender_features4(word):\n",
        "    features = {}\n",
        "    features[\"name\"] = word.lower()\n",
        "    features[\"first_letter\"] = word[0].lower()\n",
        "    features[\"suffix1\"] = word[-1].lower()\n",
        "    features[\"suffix2\"] = word[-2:].lower()\n",
        "    features[\"suffix3\"] = word[-3:].lower()\n",
        "    return features\n",
        "\n",
        "import nltk\n",
        "import random\n",
        "nltk.download('names')\n",
        "from nltk.corpus import names\n",
        "labeled_names = ([(name, 'female') for name in names.words('female.txt')] + [(name, 'male') for name in names.words('male.txt')])\n",
        "random.shuffle(labeled_names) # We shuffle the data so that we can split it by index into training and test data.\n",
        "labeled_names[:5]\n",
        "\n",
        "#Convert labeled names into feature sets v3\n",
        "featuresets3 = [gender_features3(n,gender) for (n, gender) in labeled_names]\n",
        "print(featuresets3[:5])\n",
        "import pandas as pd\n",
        "df_train = pd.json_normalize(featuresets3) \n",
        "df_train.head()\n",
        "featuresets4 = [gender_features4(n) for (n, gender) in labeled_names]\n",
        "print(featuresets4[:5])\n",
        "df_test = pd.json_normalize(featuresets4) \n",
        "#df_test.head()\n",
        "#print(df)\n",
        "from sklearn.feature_extraction.text import CountVectorizer\n",
        "from sklearn.model_selection import train_test_split \n",
        "\n",
        "train, valid = train_test_split(df_train, test_size=0.2)\n",
        "\n",
        "count_vect = CountVectorizer()\n",
        "train_set = count_vect.fit_transform(train['name'])\n",
        "train_tags = train['gender']\n",
        "\n",
        "valid_set = count_vect.transform(valid['name'])\n",
        "valid_tags = valid['gender']\n",
        "\n",
        "test_set = count_vect.transform(df_test['name'])\n",
        "\n",
        "#Naive Bayes classifier\n",
        "from sklearn.naive_bayes import MultinomialNB\n",
        "clf = MultinomialNB() \n",
        "\n",
        "clf.fit(train_set, train_tags) \n",
        "\n",
        "from sklearn.metrics import accuracy_score\n",
        "predictions_valid = clf.predict(valid_set)\n",
        "\n",
        "print('Gender Classification accuracy = {}'.format(\n",
        "        accuracy_score(predictions_valid, valid_tags) * 100)\n",
        "     )"
      ]
    },
    {
      "cell_type": "markdown",
      "source": [
        "#Observation\n",
        "Accuracy is reduced with Naive Bayes classifier compared to manual feature extraction "
      ],
      "metadata": {
        "id": "zUuGZTyhlEyl"
      }
    }
  ],
  "metadata": {
    "kernelspec": {
      "display_name": "Python 3",
      "language": "python",
      "name": "python3"
    },
    "language_info": {
      "codemirror_mode": {
        "name": "ipython",
        "version": 3
      },
      "file_extension": ".py",
      "mimetype": "text/x-python",
      "name": "python",
      "nbconvert_exporter": "python",
      "pygments_lexer": "ipython3",
      "version": "3.6.4"
    },
    "colab": {
      "provenance": [],
      "collapsed_sections": [],
      "toc_visible": true,
      "include_colab_link": true
    }
  },
  "nbformat": 4,
  "nbformat_minor": 0
}