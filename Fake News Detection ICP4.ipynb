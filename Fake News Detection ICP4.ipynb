{
  "nbformat": 4,
  "nbformat_minor": 0,
  "metadata": {
    "colab": {
      "provenance": [],
      "authorship_tag": "ABX9TyOUFEs/eXZLmjnIyPGOvrTK",
      "include_colab_link": true
    },
    "kernelspec": {
      "name": "python3",
      "display_name": "Python 3"
    },
    "language_info": {
      "name": "python"
    }
  },
  "cells": [
    {
      "cell_type": "markdown",
      "metadata": {
        "id": "view-in-github",
        "colab_type": "text"
      },
      "source": [
        "<a href=\"https://colab.research.google.com/github/dinesh-umkc/kdm/blob/main/Fake%20News%20Detection%20ICP4.ipynb\" target=\"_parent\"><img src=\"https://colab.research.google.com/assets/colab-badge.svg\" alt=\"Open In Colab\"/></a>"
      ]
    },
    {
      "cell_type": "markdown",
      "source": [
        "#Objective\n",
        "Fake news detaction\n",
        "\n",
        "Try below vectorization method\n",
        "1. Count vectorization\n",
        "2. Word Level tf-idf\n",
        "3. Ngram level tf-ifd  \n",
        "4. Character tf-idf\n",
        "5. Hashing Vector\n",
        "\n",
        "Use below Classifiers\n",
        "\n",
        "1. Logistic regression\n",
        "2. Navie Bayes\n",
        "3. SVM  \n",
        "\n",
        "\n"
      ],
      "metadata": {
        "id": "lQW24E1zlZM5"
      }
    },
    {
      "cell_type": "code",
      "execution_count": null,
      "metadata": {
        "id": "0cNJzC_wlUGS"
      },
      "outputs": [],
      "source": []
    }
  ]
}