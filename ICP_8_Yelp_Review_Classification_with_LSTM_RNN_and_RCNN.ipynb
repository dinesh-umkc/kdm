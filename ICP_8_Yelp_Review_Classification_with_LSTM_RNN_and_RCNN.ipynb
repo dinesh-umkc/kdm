{
  "cells": [
    {
      "cell_type": "markdown",
      "metadata": {
        "id": "view-in-github",
        "colab_type": "text"
      },
      "source": [
        "<a href=\"https://colab.research.google.com/github/dinesh-umkc/kdm/blob/main/ICP_8_Yelp_Review_Classification_with_LSTM_RNN_and_RCNN.ipynb\" target=\"_parent\"><img src=\"https://colab.research.google.com/assets/colab-badge.svg\" alt=\"Open In Colab\"/></a>"
      ]
    },
    {
      "cell_type": "code",
      "source": [
        "from google.colab import drive\n",
        "drive.mount('/content/drive')"
      ],
      "metadata": {
        "colab": {
          "base_uri": "https://localhost:8080/"
        },
        "id": "kxlPHSqHvjKz",
        "outputId": "18fd4530-1b40-4bb0-ef2c-ac7f18c2938f"
      },
      "execution_count": 1,
      "outputs": [
        {
          "output_type": "stream",
          "name": "stdout",
          "text": [
            "Mounted at /content/drive\n"
          ]
        }
      ]
    },
    {
      "cell_type": "code",
      "source": [
        "!pip install scikit-plot"
      ],
      "metadata": {
        "colab": {
          "base_uri": "https://localhost:8080/"
        },
        "id": "227mhGcRriSC",
        "outputId": "2760ed6a-7fa6-437f-a6e9-f4f1e701188c"
      },
      "execution_count": 2,
      "outputs": [
        {
          "output_type": "stream",
          "name": "stdout",
          "text": [
            "Looking in indexes: https://pypi.org/simple, https://us-python.pkg.dev/colab-wheels/public/simple/\n",
            "Collecting scikit-plot\n",
            "  Downloading scikit_plot-0.3.7-py3-none-any.whl (33 kB)\n",
            "Requirement already satisfied: scipy>=0.9 in /usr/local/lib/python3.7/dist-packages (from scikit-plot) (1.7.3)\n",
            "Requirement already satisfied: joblib>=0.10 in /usr/local/lib/python3.7/dist-packages (from scikit-plot) (1.2.0)\n",
            "Requirement already satisfied: scikit-learn>=0.18 in /usr/local/lib/python3.7/dist-packages (from scikit-plot) (1.0.2)\n",
            "Requirement already satisfied: matplotlib>=1.4.0 in /usr/local/lib/python3.7/dist-packages (from scikit-plot) (3.2.2)\n",
            "Requirement already satisfied: pyparsing!=2.0.4,!=2.1.2,!=2.1.6,>=2.0.1 in /usr/local/lib/python3.7/dist-packages (from matplotlib>=1.4.0->scikit-plot) (3.0.9)\n",
            "Requirement already satisfied: python-dateutil>=2.1 in /usr/local/lib/python3.7/dist-packages (from matplotlib>=1.4.0->scikit-plot) (2.8.2)\n",
            "Requirement already satisfied: cycler>=0.10 in /usr/local/lib/python3.7/dist-packages (from matplotlib>=1.4.0->scikit-plot) (0.11.0)\n",
            "Requirement already satisfied: numpy>=1.11 in /usr/local/lib/python3.7/dist-packages (from matplotlib>=1.4.0->scikit-plot) (1.21.6)\n",
            "Requirement already satisfied: kiwisolver>=1.0.1 in /usr/local/lib/python3.7/dist-packages (from matplotlib>=1.4.0->scikit-plot) (1.4.4)\n",
            "Requirement already satisfied: typing-extensions in /usr/local/lib/python3.7/dist-packages (from kiwisolver>=1.0.1->matplotlib>=1.4.0->scikit-plot) (4.1.1)\n",
            "Requirement already satisfied: six>=1.5 in /usr/local/lib/python3.7/dist-packages (from python-dateutil>=2.1->matplotlib>=1.4.0->scikit-plot) (1.15.0)\n",
            "Requirement already satisfied: threadpoolctl>=2.0.0 in /usr/local/lib/python3.7/dist-packages (from scikit-learn>=0.18->scikit-plot) (3.1.0)\n",
            "Installing collected packages: scikit-plot\n",
            "Successfully installed scikit-plot-0.3.7\n"
          ]
        }
      ]
    },
    {
      "cell_type": "code",
      "source": [
        "import tensorflow as tf\n",
        "physical_devices = tf.config.list_physical_devices('GPU')\n",
        "tf.config.experimental.set_memory_growth(physical_devices[0], enable=True)"
      ],
      "metadata": {
        "id": "I27-p7OZCWP-"
      },
      "execution_count": 3,
      "outputs": []
    },
    {
      "cell_type": "code",
      "execution_count": 4,
      "metadata": {
        "id": "_ig34EYapC5z"
      },
      "outputs": [],
      "source": [
        "from keras.preprocessing.text import Tokenizer\n",
        "# from keras.preprocessing.sequence import pad_sequences\n",
        "from keras_preprocessing.sequence import pad_sequences\n",
        "import numpy as np\n",
        "import pandas as pd\n",
        "import matplotlib.pyplot as plt\n",
        "%matplotlib inline \n",
        "from keras.models import Sequential\n",
        "from keras.layers import Embedding, Conv1D,MaxPooling1D, Flatten, Dense,Dropout,LSTM,Bidirectional, CuDNNLSTM\n",
        "from tensorflow.keras.optimizers import RMSprop\n",
        "from sklearn.model_selection import train_test_split\n",
        "from sklearn.feature_extraction.text import CountVectorizer, TfidfTransformer \n",
        "from sklearn.metrics import accuracy_score, confusion_matrix, classification_report #\n",
        "import scikitplot as skplt #\n"
      ]
    },
    {
      "cell_type": "markdown",
      "metadata": {
        "id": "pImZjueupC51"
      },
      "source": [
        "### Load Data"
      ]
    },
    {
      "cell_type": "code",
      "execution_count": 5,
      "metadata": {
        "id": "_I93txRBpC51"
      },
      "outputs": [],
      "source": [
        "data = pd.read_csv('/content/drive/MyDrive/Projects/Data/yelp_academic_dataset_review_1M.csv')"
      ]
    },
    {
      "cell_type": "code",
      "source": [
        "data.head()"
      ],
      "metadata": {
        "colab": {
          "base_uri": "https://localhost:8080/",
          "height": 389
        },
        "id": "CP1hFB38FeZI",
        "outputId": "71ed6e19-890b-4b32-8ab6-17da39640513"
      },
      "execution_count": 6,
      "outputs": [
        {
          "output_type": "execute_result",
          "data": {
            "text/plain": [
              "                   review_id                    user_id  cool  \\\n",
              "0  b'Suur9K3VyARIJEdYNLlajg'  b'K8D22KUbpfCxvK91lt5sxw'     0   \n",
              "1  b'y3Fo8hd5KH7H63lX3T-zVA'  b'XQpnAMe8uluv63TrDR5CgQ'     0   \n",
              "2  b'yTKU-LrQeThd7qldY3ZIiw'  b'76_fiFy4Q3ao46WVSrKByg'     0   \n",
              "3  b'ftrOgQ68B1dJvDDMIDcpIw'  b'9p-deRHVfTM12virS2oP7w'     0   \n",
              "4  b'u7RW2ke8d0FUnooLbFcP8g'  b'_A8HDRZBBWIB5d7zLtezbQ'     0   \n",
              "\n",
              "                                                text  \\\n",
              "0  b\"I'm addicted!  Love choosing my own toppings...   \n",
              "1  b\"Our issue is something that unfortunately se...   \n",
              "2  b'All about the location. What a great spot. E...   \n",
              "3  b\"The staff was so nice.  You can't find a pla...   \n",
              "4  b'We have Marcus and Amenda for our company Fa...   \n",
              "\n",
              "                 business_id  stars                    date  funny  useful  \n",
              "0  b'DU2KrvS9kBBV-HwzE2fQrA'    5.0  b'2017-02-06 13:50:41'      0       1  \n",
              "1  b'1fy9fS3UH2k4TfQcryNKkA'    1.0  b'2016-12-16 16:34:41'      0       5  \n",
              "2  b'Un-UDVOuv1co3TMmGaumxA'    4.0  b'2018-05-05 21:25:49'      0       0  \n",
              "3  b'5dtNc-kauiPwdrLNZbCqvg'    2.0  b'2015-01-29 19:19:42'      0       2  \n",
              "4  b'0IjDqJexP6jTH4F_Kg4mrQ'    5.0  b'2012-08-21 20:54:03'      0       0  "
            ],
            "text/html": [
              "\n",
              "  <div id=\"df-d0795247-8904-46bd-a8f1-da385dfefa6a\">\n",
              "    <div class=\"colab-df-container\">\n",
              "      <div>\n",
              "<style scoped>\n",
              "    .dataframe tbody tr th:only-of-type {\n",
              "        vertical-align: middle;\n",
              "    }\n",
              "\n",
              "    .dataframe tbody tr th {\n",
              "        vertical-align: top;\n",
              "    }\n",
              "\n",
              "    .dataframe thead th {\n",
              "        text-align: right;\n",
              "    }\n",
              "</style>\n",
              "<table border=\"1\" class=\"dataframe\">\n",
              "  <thead>\n",
              "    <tr style=\"text-align: right;\">\n",
              "      <th></th>\n",
              "      <th>review_id</th>\n",
              "      <th>user_id</th>\n",
              "      <th>cool</th>\n",
              "      <th>text</th>\n",
              "      <th>business_id</th>\n",
              "      <th>stars</th>\n",
              "      <th>date</th>\n",
              "      <th>funny</th>\n",
              "      <th>useful</th>\n",
              "    </tr>\n",
              "  </thead>\n",
              "  <tbody>\n",
              "    <tr>\n",
              "      <th>0</th>\n",
              "      <td>b'Suur9K3VyARIJEdYNLlajg'</td>\n",
              "      <td>b'K8D22KUbpfCxvK91lt5sxw'</td>\n",
              "      <td>0</td>\n",
              "      <td>b\"I'm addicted!  Love choosing my own toppings...</td>\n",
              "      <td>b'DU2KrvS9kBBV-HwzE2fQrA'</td>\n",
              "      <td>5.0</td>\n",
              "      <td>b'2017-02-06 13:50:41'</td>\n",
              "      <td>0</td>\n",
              "      <td>1</td>\n",
              "    </tr>\n",
              "    <tr>\n",
              "      <th>1</th>\n",
              "      <td>b'y3Fo8hd5KH7H63lX3T-zVA'</td>\n",
              "      <td>b'XQpnAMe8uluv63TrDR5CgQ'</td>\n",
              "      <td>0</td>\n",
              "      <td>b\"Our issue is something that unfortunately se...</td>\n",
              "      <td>b'1fy9fS3UH2k4TfQcryNKkA'</td>\n",
              "      <td>1.0</td>\n",
              "      <td>b'2016-12-16 16:34:41'</td>\n",
              "      <td>0</td>\n",
              "      <td>5</td>\n",
              "    </tr>\n",
              "    <tr>\n",
              "      <th>2</th>\n",
              "      <td>b'yTKU-LrQeThd7qldY3ZIiw'</td>\n",
              "      <td>b'76_fiFy4Q3ao46WVSrKByg'</td>\n",
              "      <td>0</td>\n",
              "      <td>b'All about the location. What a great spot. E...</td>\n",
              "      <td>b'Un-UDVOuv1co3TMmGaumxA'</td>\n",
              "      <td>4.0</td>\n",
              "      <td>b'2018-05-05 21:25:49'</td>\n",
              "      <td>0</td>\n",
              "      <td>0</td>\n",
              "    </tr>\n",
              "    <tr>\n",
              "      <th>3</th>\n",
              "      <td>b'ftrOgQ68B1dJvDDMIDcpIw'</td>\n",
              "      <td>b'9p-deRHVfTM12virS2oP7w'</td>\n",
              "      <td>0</td>\n",
              "      <td>b\"The staff was so nice.  You can't find a pla...</td>\n",
              "      <td>b'5dtNc-kauiPwdrLNZbCqvg'</td>\n",
              "      <td>2.0</td>\n",
              "      <td>b'2015-01-29 19:19:42'</td>\n",
              "      <td>0</td>\n",
              "      <td>2</td>\n",
              "    </tr>\n",
              "    <tr>\n",
              "      <th>4</th>\n",
              "      <td>b'u7RW2ke8d0FUnooLbFcP8g'</td>\n",
              "      <td>b'_A8HDRZBBWIB5d7zLtezbQ'</td>\n",
              "      <td>0</td>\n",
              "      <td>b'We have Marcus and Amenda for our company Fa...</td>\n",
              "      <td>b'0IjDqJexP6jTH4F_Kg4mrQ'</td>\n",
              "      <td>5.0</td>\n",
              "      <td>b'2012-08-21 20:54:03'</td>\n",
              "      <td>0</td>\n",
              "      <td>0</td>\n",
              "    </tr>\n",
              "  </tbody>\n",
              "</table>\n",
              "</div>\n",
              "      <button class=\"colab-df-convert\" onclick=\"convertToInteractive('df-d0795247-8904-46bd-a8f1-da385dfefa6a')\"\n",
              "              title=\"Convert this dataframe to an interactive table.\"\n",
              "              style=\"display:none;\">\n",
              "        \n",
              "  <svg xmlns=\"http://www.w3.org/2000/svg\" height=\"24px\"viewBox=\"0 0 24 24\"\n",
              "       width=\"24px\">\n",
              "    <path d=\"M0 0h24v24H0V0z\" fill=\"none\"/>\n",
              "    <path d=\"M18.56 5.44l.94 2.06.94-2.06 2.06-.94-2.06-.94-.94-2.06-.94 2.06-2.06.94zm-11 1L8.5 8.5l.94-2.06 2.06-.94-2.06-.94L8.5 2.5l-.94 2.06-2.06.94zm10 10l.94 2.06.94-2.06 2.06-.94-2.06-.94-.94-2.06-.94 2.06-2.06.94z\"/><path d=\"M17.41 7.96l-1.37-1.37c-.4-.4-.92-.59-1.43-.59-.52 0-1.04.2-1.43.59L10.3 9.45l-7.72 7.72c-.78.78-.78 2.05 0 2.83L4 21.41c.39.39.9.59 1.41.59.51 0 1.02-.2 1.41-.59l7.78-7.78 2.81-2.81c.8-.78.8-2.07 0-2.86zM5.41 20L4 18.59l7.72-7.72 1.47 1.35L5.41 20z\"/>\n",
              "  </svg>\n",
              "      </button>\n",
              "      \n",
              "  <style>\n",
              "    .colab-df-container {\n",
              "      display:flex;\n",
              "      flex-wrap:wrap;\n",
              "      gap: 12px;\n",
              "    }\n",
              "\n",
              "    .colab-df-convert {\n",
              "      background-color: #E8F0FE;\n",
              "      border: none;\n",
              "      border-radius: 50%;\n",
              "      cursor: pointer;\n",
              "      display: none;\n",
              "      fill: #1967D2;\n",
              "      height: 32px;\n",
              "      padding: 0 0 0 0;\n",
              "      width: 32px;\n",
              "    }\n",
              "\n",
              "    .colab-df-convert:hover {\n",
              "      background-color: #E2EBFA;\n",
              "      box-shadow: 0px 1px 2px rgba(60, 64, 67, 0.3), 0px 1px 3px 1px rgba(60, 64, 67, 0.15);\n",
              "      fill: #174EA6;\n",
              "    }\n",
              "\n",
              "    [theme=dark] .colab-df-convert {\n",
              "      background-color: #3B4455;\n",
              "      fill: #D2E3FC;\n",
              "    }\n",
              "\n",
              "    [theme=dark] .colab-df-convert:hover {\n",
              "      background-color: #434B5C;\n",
              "      box-shadow: 0px 1px 3px 1px rgba(0, 0, 0, 0.15);\n",
              "      filter: drop-shadow(0px 1px 2px rgba(0, 0, 0, 0.3));\n",
              "      fill: #FFFFFF;\n",
              "    }\n",
              "  </style>\n",
              "\n",
              "      <script>\n",
              "        const buttonEl =\n",
              "          document.querySelector('#df-d0795247-8904-46bd-a8f1-da385dfefa6a button.colab-df-convert');\n",
              "        buttonEl.style.display =\n",
              "          google.colab.kernel.accessAllowed ? 'block' : 'none';\n",
              "\n",
              "        async function convertToInteractive(key) {\n",
              "          const element = document.querySelector('#df-d0795247-8904-46bd-a8f1-da385dfefa6a');\n",
              "          const dataTable =\n",
              "            await google.colab.kernel.invokeFunction('convertToInteractive',\n",
              "                                                     [key], {});\n",
              "          if (!dataTable) return;\n",
              "\n",
              "          const docLinkHtml = 'Like what you see? Visit the ' +\n",
              "            '<a target=\"_blank\" href=https://colab.research.google.com/notebooks/data_table.ipynb>data table notebook</a>'\n",
              "            + ' to learn more about interactive tables.';\n",
              "          element.innerHTML = '';\n",
              "          dataTable['output_type'] = 'display_data';\n",
              "          await google.colab.output.renderOutput(dataTable, element);\n",
              "          const docLink = document.createElement('div');\n",
              "          docLink.innerHTML = docLinkHtml;\n",
              "          element.appendChild(docLink);\n",
              "        }\n",
              "      </script>\n",
              "    </div>\n",
              "  </div>\n",
              "  "
            ]
          },
          "metadata": {},
          "execution_count": 6
        }
      ]
    },
    {
      "cell_type": "code",
      "source": [
        "def simple_stars(stars): \n",
        "  if stars>3:\n",
        "    return 1\n",
        "  else:\n",
        "    return 0"
      ],
      "metadata": {
        "id": "CkVm03oR4SaU"
      },
      "execution_count": 7,
      "outputs": []
    },
    {
      "cell_type": "code",
      "source": [
        "data['stars_binary'] = data['stars'].map(simple_stars)"
      ],
      "metadata": {
        "id": "2POrVImCGXs9"
      },
      "execution_count": 8,
      "outputs": []
    },
    {
      "cell_type": "code",
      "execution_count": 9,
      "metadata": {
        "collapsed": true,
        "id": "i516JMhGpC51"
      },
      "outputs": [],
      "source": [
        "data = data.dropna()\n",
        "text = data['text'].tolist()\n",
        "# binstars = data['stars'].tolist()\n",
        "binstars = data['stars_binary'].tolist()\n",
        "\n",
        "binstars = [int(star) for star in binstars]"
      ]
    },
    {
      "cell_type": "markdown",
      "metadata": {
        "id": "i2uSU4mppC52"
      },
      "source": [
        "### Make a balanced dataset of positive and negative review -- 50:50"
      ]
    },
    {
      "cell_type": "code",
      "source": [
        "df_pos = data[data['stars_binary'] == 1].sample(25000, random_state = 5560)\n",
        "df_neg = data[data['stars_binary'] == 0].sample(25000, random_state = 5560)\n",
        "df_balanced = pd.concat([df_pos, df_neg]).reset_index(drop=True)\n",
        "df_balanced.head()"
      ],
      "metadata": {
        "colab": {
          "base_uri": "https://localhost:8080/",
          "height": 478
        },
        "id": "6wew8-YNPMV7",
        "outputId": "19e91749-ac70-470d-d1b5-9b68e77af8c2"
      },
      "execution_count": 10,
      "outputs": [
        {
          "output_type": "execute_result",
          "data": {
            "text/plain": [
              "                   review_id                    user_id  cool  \\\n",
              "0  b'rdutMrXH5QOkayDBBLmQyQ'  b'bmbJ-uH0bmr2SV73TKEwyw'     0   \n",
              "1  b'F0IvWLU3xozOeTgw8_nzqw'  b'LLqno28QBXZAxO94PMGSzw'     0   \n",
              "2  b'_IcuqvMS_m-2dcdFpLqfpQ'  b'5MYa3BbBU359oqcEYwY94w'     1   \n",
              "3  b'F6U5H6CoVjH2LNpAJhsU3Q'  b'rMaiCxwiOYAwtLk3UsH2cA'     0   \n",
              "4  b'Q0S-CfhQAcQPlh8TehYn9w'  b'AQGMTHae70n3MnONotAuYQ'     4   \n",
              "\n",
              "                                                text  \\\n",
              "0  b\"My go to for a Philly cheesesteak. Steak wit...   \n",
              "1  b'This is a story of welcome rediscovery.  My ...   \n",
              "2  b'Food is pretty good but my boyfriend and I l...   \n",
              "3  b'Outstanding food and great service staff was...   \n",
              "4  b'21C is the tits!\\n\\nDisclaimer: I did not st...   \n",
              "\n",
              "                 business_id  stars                    date  funny  useful  \\\n",
              "0  b'RQAF6a0akMiot5lZZnMNNw'    4.0  b'2022-01-11 21:24:20'      1       1   \n",
              "1  b'_9Z3cuZQBOGv_XzSG4ewHA'    4.0  b'2015-02-09 04:23:21'      0       3   \n",
              "2  b'ZTjEoBreuWsPx_q-k1Llvg'    4.0  b'2014-03-02 22:36:48'      0       0   \n",
              "3  b'OM5beWRkxZSu1TShUC3EDw'    5.0  b'2020-01-16 04:41:11'      0       2   \n",
              "4  b'P2UDTyHD4KX6OpzYlH3TZw'    5.0  b'2018-10-14 21:05:45'      0       3   \n",
              "\n",
              "   stars_binary  \n",
              "0             1  \n",
              "1             1  \n",
              "2             1  \n",
              "3             1  \n",
              "4             1  "
            ],
            "text/html": [
              "\n",
              "  <div id=\"df-b4eb47c3-c4d3-4855-a407-08fb018185da\">\n",
              "    <div class=\"colab-df-container\">\n",
              "      <div>\n",
              "<style scoped>\n",
              "    .dataframe tbody tr th:only-of-type {\n",
              "        vertical-align: middle;\n",
              "    }\n",
              "\n",
              "    .dataframe tbody tr th {\n",
              "        vertical-align: top;\n",
              "    }\n",
              "\n",
              "    .dataframe thead th {\n",
              "        text-align: right;\n",
              "    }\n",
              "</style>\n",
              "<table border=\"1\" class=\"dataframe\">\n",
              "  <thead>\n",
              "    <tr style=\"text-align: right;\">\n",
              "      <th></th>\n",
              "      <th>review_id</th>\n",
              "      <th>user_id</th>\n",
              "      <th>cool</th>\n",
              "      <th>text</th>\n",
              "      <th>business_id</th>\n",
              "      <th>stars</th>\n",
              "      <th>date</th>\n",
              "      <th>funny</th>\n",
              "      <th>useful</th>\n",
              "      <th>stars_binary</th>\n",
              "    </tr>\n",
              "  </thead>\n",
              "  <tbody>\n",
              "    <tr>\n",
              "      <th>0</th>\n",
              "      <td>b'rdutMrXH5QOkayDBBLmQyQ'</td>\n",
              "      <td>b'bmbJ-uH0bmr2SV73TKEwyw'</td>\n",
              "      <td>0</td>\n",
              "      <td>b\"My go to for a Philly cheesesteak. Steak wit...</td>\n",
              "      <td>b'RQAF6a0akMiot5lZZnMNNw'</td>\n",
              "      <td>4.0</td>\n",
              "      <td>b'2022-01-11 21:24:20'</td>\n",
              "      <td>1</td>\n",
              "      <td>1</td>\n",
              "      <td>1</td>\n",
              "    </tr>\n",
              "    <tr>\n",
              "      <th>1</th>\n",
              "      <td>b'F0IvWLU3xozOeTgw8_nzqw'</td>\n",
              "      <td>b'LLqno28QBXZAxO94PMGSzw'</td>\n",
              "      <td>0</td>\n",
              "      <td>b'This is a story of welcome rediscovery.  My ...</td>\n",
              "      <td>b'_9Z3cuZQBOGv_XzSG4ewHA'</td>\n",
              "      <td>4.0</td>\n",
              "      <td>b'2015-02-09 04:23:21'</td>\n",
              "      <td>0</td>\n",
              "      <td>3</td>\n",
              "      <td>1</td>\n",
              "    </tr>\n",
              "    <tr>\n",
              "      <th>2</th>\n",
              "      <td>b'_IcuqvMS_m-2dcdFpLqfpQ'</td>\n",
              "      <td>b'5MYa3BbBU359oqcEYwY94w'</td>\n",
              "      <td>1</td>\n",
              "      <td>b'Food is pretty good but my boyfriend and I l...</td>\n",
              "      <td>b'ZTjEoBreuWsPx_q-k1Llvg'</td>\n",
              "      <td>4.0</td>\n",
              "      <td>b'2014-03-02 22:36:48'</td>\n",
              "      <td>0</td>\n",
              "      <td>0</td>\n",
              "      <td>1</td>\n",
              "    </tr>\n",
              "    <tr>\n",
              "      <th>3</th>\n",
              "      <td>b'F6U5H6CoVjH2LNpAJhsU3Q'</td>\n",
              "      <td>b'rMaiCxwiOYAwtLk3UsH2cA'</td>\n",
              "      <td>0</td>\n",
              "      <td>b'Outstanding food and great service staff was...</td>\n",
              "      <td>b'OM5beWRkxZSu1TShUC3EDw'</td>\n",
              "      <td>5.0</td>\n",
              "      <td>b'2020-01-16 04:41:11'</td>\n",
              "      <td>0</td>\n",
              "      <td>2</td>\n",
              "      <td>1</td>\n",
              "    </tr>\n",
              "    <tr>\n",
              "      <th>4</th>\n",
              "      <td>b'Q0S-CfhQAcQPlh8TehYn9w'</td>\n",
              "      <td>b'AQGMTHae70n3MnONotAuYQ'</td>\n",
              "      <td>4</td>\n",
              "      <td>b'21C is the tits!\\n\\nDisclaimer: I did not st...</td>\n",
              "      <td>b'P2UDTyHD4KX6OpzYlH3TZw'</td>\n",
              "      <td>5.0</td>\n",
              "      <td>b'2018-10-14 21:05:45'</td>\n",
              "      <td>0</td>\n",
              "      <td>3</td>\n",
              "      <td>1</td>\n",
              "    </tr>\n",
              "  </tbody>\n",
              "</table>\n",
              "</div>\n",
              "      <button class=\"colab-df-convert\" onclick=\"convertToInteractive('df-b4eb47c3-c4d3-4855-a407-08fb018185da')\"\n",
              "              title=\"Convert this dataframe to an interactive table.\"\n",
              "              style=\"display:none;\">\n",
              "        \n",
              "  <svg xmlns=\"http://www.w3.org/2000/svg\" height=\"24px\"viewBox=\"0 0 24 24\"\n",
              "       width=\"24px\">\n",
              "    <path d=\"M0 0h24v24H0V0z\" fill=\"none\"/>\n",
              "    <path d=\"M18.56 5.44l.94 2.06.94-2.06 2.06-.94-2.06-.94-.94-2.06-.94 2.06-2.06.94zm-11 1L8.5 8.5l.94-2.06 2.06-.94-2.06-.94L8.5 2.5l-.94 2.06-2.06.94zm10 10l.94 2.06.94-2.06 2.06-.94-2.06-.94-.94-2.06-.94 2.06-2.06.94z\"/><path d=\"M17.41 7.96l-1.37-1.37c-.4-.4-.92-.59-1.43-.59-.52 0-1.04.2-1.43.59L10.3 9.45l-7.72 7.72c-.78.78-.78 2.05 0 2.83L4 21.41c.39.39.9.59 1.41.59.51 0 1.02-.2 1.41-.59l7.78-7.78 2.81-2.81c.8-.78.8-2.07 0-2.86zM5.41 20L4 18.59l7.72-7.72 1.47 1.35L5.41 20z\"/>\n",
              "  </svg>\n",
              "      </button>\n",
              "      \n",
              "  <style>\n",
              "    .colab-df-container {\n",
              "      display:flex;\n",
              "      flex-wrap:wrap;\n",
              "      gap: 12px;\n",
              "    }\n",
              "\n",
              "    .colab-df-convert {\n",
              "      background-color: #E8F0FE;\n",
              "      border: none;\n",
              "      border-radius: 50%;\n",
              "      cursor: pointer;\n",
              "      display: none;\n",
              "      fill: #1967D2;\n",
              "      height: 32px;\n",
              "      padding: 0 0 0 0;\n",
              "      width: 32px;\n",
              "    }\n",
              "\n",
              "    .colab-df-convert:hover {\n",
              "      background-color: #E2EBFA;\n",
              "      box-shadow: 0px 1px 2px rgba(60, 64, 67, 0.3), 0px 1px 3px 1px rgba(60, 64, 67, 0.15);\n",
              "      fill: #174EA6;\n",
              "    }\n",
              "\n",
              "    [theme=dark] .colab-df-convert {\n",
              "      background-color: #3B4455;\n",
              "      fill: #D2E3FC;\n",
              "    }\n",
              "\n",
              "    [theme=dark] .colab-df-convert:hover {\n",
              "      background-color: #434B5C;\n",
              "      box-shadow: 0px 1px 3px 1px rgba(0, 0, 0, 0.15);\n",
              "      filter: drop-shadow(0px 1px 2px rgba(0, 0, 0, 0.3));\n",
              "      fill: #FFFFFF;\n",
              "    }\n",
              "  </style>\n",
              "\n",
              "      <script>\n",
              "        const buttonEl =\n",
              "          document.querySelector('#df-b4eb47c3-c4d3-4855-a407-08fb018185da button.colab-df-convert');\n",
              "        buttonEl.style.display =\n",
              "          google.colab.kernel.accessAllowed ? 'block' : 'none';\n",
              "\n",
              "        async function convertToInteractive(key) {\n",
              "          const element = document.querySelector('#df-b4eb47c3-c4d3-4855-a407-08fb018185da');\n",
              "          const dataTable =\n",
              "            await google.colab.kernel.invokeFunction('convertToInteractive',\n",
              "                                                     [key], {});\n",
              "          if (!dataTable) return;\n",
              "\n",
              "          const docLinkHtml = 'Like what you see? Visit the ' +\n",
              "            '<a target=\"_blank\" href=https://colab.research.google.com/notebooks/data_table.ipynb>data table notebook</a>'\n",
              "            + ' to learn more about interactive tables.';\n",
              "          element.innerHTML = '';\n",
              "          dataTable['output_type'] = 'display_data';\n",
              "          await google.colab.output.renderOutput(dataTable, element);\n",
              "          const docLink = document.createElement('div');\n",
              "          docLink.innerHTML = docLinkHtml;\n",
              "          element.appendChild(docLink);\n",
              "        }\n",
              "      </script>\n",
              "    </div>\n",
              "  </div>\n",
              "  "
            ]
          },
          "metadata": {},
          "execution_count": 10
        }
      ]
    },
    {
      "cell_type": "code",
      "source": [
        "X = df_balanced['text'].values\n",
        "y = df_balanced['stars_binary'].values\n",
        "X_train, X_test, y_train, y_test = train_test_split(X, y, test_size=0.20, random_state=5560)"
      ],
      "metadata": {
        "id": "R467Ji5oPDtH"
      },
      "execution_count": 11,
      "outputs": []
    },
    {
      "cell_type": "code",
      "execution_count": 12,
      "metadata": {
        "collapsed": true,
        "id": "HKQBo4-epC53"
      },
      "outputs": [],
      "source": [
        "# cut reviews after 200 words\n",
        "maxlen = 200 \n",
        "# Number of words to consider as features\n",
        "# restrict the yelp reviews to the top 10000 most common words\n",
        "max_words = 10000  "
      ]
    },
    {
      "cell_type": "code",
      "source": [
        "# create a tokenizer and it will ignore all except the 10000 most-common words\n",
        "tokenizer = Tokenizer(num_words = max_words)\n",
        "# use tokenizer to calculate the frequency of each word in dataset.\n",
        "# tokenizer.fit_on_texts(X_train)\n",
        "tokenizer.fit_on_texts(X)\n",
        "\n",
        "# convert all of reviews to lists of integers\n",
        "# sequences = tokenizer.texts_to_sequences(balanced_texts)\n",
        "# integer encode the documents\n",
        "encoded_train = tokenizer.texts_to_sequences(X_train)\n",
        "encoded_test = tokenizer.texts_to_sequences(X_test)\n",
        "print(encoded_train[0:2])\n",
        "\n",
        "# use pad_sequence to make traning samples the same size, fill with zeros\n",
        "# data_input = pad_sequences(sequences, maxlen = maxlen)\n",
        "padded_train = pad_sequences(encoded_train, maxlen=maxlen)\n",
        "padded_test = pad_sequences(encoded_test, maxlen=maxlen)"
      ],
      "metadata": {
        "colab": {
          "base_uri": "https://localhost:8080/"
        },
        "id": "bYBiIoy7P6qL",
        "outputId": "2d4c7c77-5ea3-4bf1-fac2-81893e39475c"
      },
      "execution_count": 13,
      "outputs": [
        {
          "output_type": "stream",
          "name": "stdout",
          "text": [
            "[[736, 87, 250, 58, 676, 2796, 2, 4, 3415, 2691, 2796, 2, 179, 6, 44, 14, 87, 991, 9, 146, 39, 40, 84, 6, 20, 45, 2, 226, 37], [527, 641, 121, 7342, 2379, 34, 1, 361, 6, 38, 358, 2, 3081, 5, 70, 89, 108, 37]]\n"
          ]
        }
      ]
    },
    {
      "cell_type": "code",
      "source": [
        "padded_train"
      ],
      "metadata": {
        "colab": {
          "base_uri": "https://localhost:8080/"
        },
        "id": "_0ki9PhQTue4",
        "outputId": "0c9c587a-3939-4b6e-fb7a-013618914136"
      },
      "execution_count": null,
      "outputs": [
        {
          "output_type": "execute_result",
          "data": {
            "text/plain": [
              "array([[   0,    0,    0, ...,    2,  226,   37],\n",
              "       [   0,    0,    0, ...,   89,  108,   37],\n",
              "       [   0,    0,    0, ...,  373,  168,   69],\n",
              "       ...,\n",
              "       [   0,    0,    0, ...,  224, 4733,   16],\n",
              "       [   0,    0,    0, ...,  785,  447,   37],\n",
              "       [  18,    8,  541, ..., 9872,   10, 1693]], dtype=int32)"
            ]
          },
          "metadata": {},
          "execution_count": 45
        }
      ]
    },
    {
      "cell_type": "code",
      "source": [
        "y_train"
      ],
      "metadata": {
        "colab": {
          "base_uri": "https://localhost:8080/"
        },
        "id": "_AWDGUaLXdS_",
        "outputId": "32d82fd8-c6f2-4d2c-b42f-5cafc09d0f72"
      },
      "execution_count": null,
      "outputs": [
        {
          "output_type": "execute_result",
          "data": {
            "text/plain": [
              "array([[1.],\n",
              "       [0.],\n",
              "       [1.],\n",
              "       ...,\n",
              "       [0.],\n",
              "       [1.],\n",
              "       [1.]], dtype=float32)"
            ]
          },
          "metadata": {},
          "execution_count": 46
        }
      ]
    },
    {
      "cell_type": "markdown",
      "metadata": {
        "id": "tgDbgPDspC56"
      },
      "source": [
        " ### Model 1 - Using Embedding layer and LSTM"
      ]
    },
    {
      "cell_type": "markdown",
      "source": [
        "My first model consisted of an embedding layer, a LSTM layer and the output from LSTM was fed into a hidden fully connected layer. This layer has an output size of 1, meaning it will always output 1 or 0, 1 for positive reviews and 0 for negative ones."
      ],
      "metadata": {
        "id": "oXs9G_lJ5WEE"
      }
    },
    {
      "cell_type": "markdown",
      "source": [
        "The requirements to use the cuDNN implementation are:\n",
        "```python\n",
        "activation == tanh\n",
        "recurrent_activation == sigmoid\n",
        "recurrent_dropout == 0\n",
        "unroll is False\n",
        "use_bias is True\n",
        "Inputs, if use masking, are strictly right-padded.\n",
        "Eager execution is enabled in the outermost context.\n",
        "```"
      ],
      "metadata": {
        "id": "1Be984IQtGqQ"
      }
    },
    {
      "cell_type": "code",
      "execution_count": 14,
      "metadata": {
        "id": "P4rxjH0CpC57",
        "outputId": "9278ed9e-a747-46d5-a0d7-b145edd20b66",
        "colab": {
          "base_uri": "https://localhost:8080/"
        }
      },
      "outputs": [
        {
          "output_type": "stream",
          "name": "stderr",
          "text": [
            "WARNING:tensorflow:Layer lstm will not use cuDNN kernels since it doesn't meet the criteria. It will use a generic GPU kernel as fallback when running on GPU.\n"
          ]
        },
        {
          "output_type": "stream",
          "name": "stdout",
          "text": [
            "Model: \"sequential\"\n",
            "_________________________________________________________________\n",
            " Layer (type)                Output Shape              Param #   \n",
            "=================================================================\n",
            " embedding (Embedding)       (None, 200, 64)           640000    \n",
            "                                                                 \n",
            " lstm (LSTM)                 (None, 64)                33024     \n",
            "                                                                 \n",
            " dense (Dense)               (None, 1)                 65        \n",
            "                                                                 \n",
            "=================================================================\n",
            "Total params: 673,089\n",
            "Trainable params: 673,089\n",
            "Non-trainable params: 0\n",
            "_________________________________________________________________\n"
          ]
        }
      ],
      "source": [
        "max_words = 10000 \n",
        "maxlen = 200\n",
        "model = Sequential()\n",
        "model.add(Embedding(max_words, 64,input_length = maxlen))\n",
        "model.add(LSTM(64,dropout=0.2, recurrent_dropout=0.2))\n",
        "model.add(Dense(1, activation='sigmoid'))\n",
        "\n",
        "model.compile(optimizer='rmsprop',\n",
        "              loss='binary_crossentropy',\n",
        "              metrics=['acc'])\n",
        "model.summary()"
      ]
    },
    {
      "cell_type": "code",
      "source": [
        "max_words = 10000 \n",
        "maxlen = 200\n",
        "model = Sequential()\n",
        "model.add(Embedding(max_words, 64,input_length = maxlen))\n",
        "model.add(LSTM(64))\n",
        "model.add(Dense(1, activation='sigmoid'))\n",
        "\n",
        "model.compile(optimizer='rmsprop',\n",
        "              loss='binary_crossentropy',\n",
        "              metrics=['acc'])\n",
        "model.summary()"
      ],
      "metadata": {
        "colab": {
          "base_uri": "https://localhost:8080/"
        },
        "id": "F2Y1uTHkAOqm",
        "outputId": "c9755f93-5f0e-4241-f268-78b0be4c719d"
      },
      "execution_count": 15,
      "outputs": [
        {
          "output_type": "stream",
          "name": "stdout",
          "text": [
            "Model: \"sequential_1\"\n",
            "_________________________________________________________________\n",
            " Layer (type)                Output Shape              Param #   \n",
            "=================================================================\n",
            " embedding_1 (Embedding)     (None, 200, 64)           640000    \n",
            "                                                                 \n",
            " lstm_1 (LSTM)               (None, 64)                33024     \n",
            "                                                                 \n",
            " dense_1 (Dense)             (None, 1)                 65        \n",
            "                                                                 \n",
            "=================================================================\n",
            "Total params: 673,089\n",
            "Trainable params: 673,089\n",
            "Non-trainable params: 0\n",
            "_________________________________________________________________\n"
          ]
        }
      ]
    },
    {
      "cell_type": "code",
      "execution_count": 16,
      "metadata": {
        "id": "qBIze677pC57",
        "outputId": "5b5ec44e-ad87-416a-bd62-d0491fefeefb",
        "colab": {
          "base_uri": "https://localhost:8080/"
        }
      },
      "outputs": [
        {
          "output_type": "stream",
          "name": "stdout",
          "text": [
            "Epoch 1/5\n",
            "250/250 [==============================] - 11s 17ms/step - loss: 0.3853 - acc: 0.8295 - val_loss: 0.2743 - val_acc: 0.8891\n",
            "Epoch 2/5\n",
            "250/250 [==============================] - 4s 15ms/step - loss: 0.2603 - acc: 0.9003 - val_loss: 0.2659 - val_acc: 0.8882\n",
            "Epoch 3/5\n",
            "250/250 [==============================] - 4s 15ms/step - loss: 0.2277 - acc: 0.9119 - val_loss: 0.2581 - val_acc: 0.8930\n",
            "Epoch 4/5\n",
            "250/250 [==============================] - 4s 15ms/step - loss: 0.2071 - acc: 0.9219 - val_loss: 0.2951 - val_acc: 0.8854\n",
            "Epoch 5/5\n",
            "250/250 [==============================] - 4s 15ms/step - loss: 0.1914 - acc: 0.9277 - val_loss: 0.2760 - val_acc: 0.8882\n"
          ]
        }
      ],
      "source": [
        "history = model.fit(padded_train, y_train,\n",
        "                    epochs=5,\n",
        "                    batch_size=128,\n",
        "                    validation_split=0.2)"
      ]
    },
    {
      "cell_type": "code",
      "execution_count": 17,
      "metadata": {
        "id": "4uiHPjQopC57",
        "outputId": "c5a41f57-6f01-4795-e94b-d742fbc378b7",
        "colab": {
          "base_uri": "https://localhost:8080/",
          "height": 545
        }
      },
      "outputs": [
        {
          "output_type": "display_data",
          "data": {
            "text/plain": [
              "<Figure size 432x288 with 1 Axes>"
            ],
            "image/png": "[encoded data removed]"
          },
          "metadata": {
            "needs_background": "light"
          }
        },
        {
          "output_type": "display_data",
          "data": {
            "text/plain": [
              "<Figure size 432x288 with 1 Axes>"
            ],
            "image/png": "[encoded data removed]"
          },
          "metadata": {
            "needs_background": "light"
          }
        }
      ],
      "source": [
        "acc = history.history['acc']\n",
        "val_acc = history.history['val_acc']\n",
        "loss = history.history['loss']\n",
        "val_loss = history.history['val_loss']\n",
        "\n",
        "epochs = range(len(acc))\n",
        "\n",
        "plt.plot(epochs, acc, 'bo', label='Training acc')\n",
        "plt.plot(epochs, val_acc, 'b', label='Validation acc')\n",
        "plt.title('Training and validation accuracy')\n",
        "plt.legend()\n",
        "\n",
        "plt.figure()\n",
        "\n",
        "plt.plot(epochs, loss, 'bo', label='Training loss')\n",
        "plt.plot(epochs, val_loss, 'b', label='Validation loss')\n",
        "plt.title('Training and validation loss')\n",
        "plt.legend()\n",
        "\n",
        "plt.show()"
      ]
    },
    {
      "cell_type": "code",
      "execution_count": 18,
      "metadata": {
        "id": "cgzzn5TupC58",
        "outputId": "6a926891-4b82-4624-98e4-2b0d253fbfb6",
        "colab": {
          "base_uri": "https://localhost:8080/"
        }
      },
      "outputs": [
        {
          "output_type": "stream",
          "name": "stdout",
          "text": [
            "313/313 [==============================] - 2s 6ms/step - loss: 0.2610 - acc: 0.8986\n"
          ]
        },
        {
          "output_type": "execute_result",
          "data": {
            "text/plain": [
              "[0.2609557509422302, 0.8985999822616577]"
            ]
          },
          "metadata": {},
          "execution_count": 18
        }
      ],
      "source": [
        "model.evaluate(padded_test, y_test)"
      ]
    },
    {
      "cell_type": "code",
      "source": [
        "predictions = {}\n",
        "y_preds = (model.predict(padded_test) > 0.5).astype(\"int32\")\n",
        "print(y_preds)\n",
        "accuracy_LSTM = accuracy_score(y_test, y_preds)\n",
        "\n",
        "predictions['LSTM_Only'] = accuracy_LSTM * 100\n"
      ],
      "metadata": {
        "colab": {
          "base_uri": "https://localhost:8080/"
        },
        "id": "GY7Jedo_rIaa",
        "outputId": "f61fdeb4-a634-4110-9a99-e183042da2d5"
      },
      "execution_count": 19,
      "outputs": [
        {
          "output_type": "stream",
          "name": "stdout",
          "text": [
            "313/313 [==============================] - 2s 6ms/step\n",
            "[[0]\n",
            " [1]\n",
            " [0]\n",
            " ...\n",
            " [0]\n",
            " [0]\n",
            " [1]]\n"
          ]
        }
      ]
    },
    {
      "cell_type": "code",
      "source": [
        "skplt.metrics.plot_confusion_matrix(y_test, y_preds, normalize = True, cmap = 'RdYlGn')"
      ],
      "metadata": {
        "colab": {
          "base_uri": "https://localhost:8080/",
          "height": 312
        },
        "id": "oyk7JsEArmI5",
        "outputId": "4b0bd5ae-82c9-4996-b8a8-7c2ef7fa9386"
      },
      "execution_count": 20,
      "outputs": [
        {
          "output_type": "execute_result",
          "data": {
            "text/plain": [
              "<matplotlib.axes._subplots.AxesSubplot at 0x7f45d51b2bd0>"
            ]
          },
          "metadata": {},
          "execution_count": 20
        },
        {
          "output_type": "display_data",
          "data": {
            "text/plain": [
              "<Figure size 432x288 with 2 Axes>"
            ],
            "image/png": "[encoded data removed]"
          },
          "metadata": {
            "needs_background": "light"
          }
        }
      ]
    },
    {
      "cell_type": "markdown",
      "source": [
        "This paper (https://arxiv.org/pdf/1903.07288.pdf) studied the effect of padding types on LSTM and CNN. They found that post-padding achieved substantially lower accuracy (nearly half) compared to pre-padding in LSTMs, although there wasn't a significant difference for CNNs (post-padding was only slightly worse).\n",
        "\n",
        "A simple/intuitive explanation for RNNs is that, post-padding seems to add noise to what has been learned from the sequence through time, and there aren't more timesteps for the RNN to recover from this noise. With pre-padding, however, the RNN is better able to adjust to the added noise of zeros at the beginning as it learns from the sequence through time."
      ],
      "metadata": {
        "id": "62MFFLqeS7pB"
      }
    },
    {
      "cell_type": "markdown",
      "metadata": {
        "id": "p5KzLRiXpC5-"
      },
      "source": [
        " ### Model 2 -  Using combination of CNN and RNN\n",
        "\n",
        " For my second model, I used combination of recurrent neural network with LSTM and convolutional neural network. I had a dropout layer right after embedding layer and added a convolutional layer, a max pooling layer.\n"
      ]
    },
    {
      "cell_type": "code",
      "execution_count": 21,
      "metadata": {
        "id": "Y7BHPkzupC5-",
        "outputId": "dd65454e-ac24-4c0e-dfe7-e2020ff20a08",
        "colab": {
          "base_uri": "https://localhost:8080/"
        }
      },
      "outputs": [
        {
          "output_type": "stream",
          "name": "stdout",
          "text": [
            "Model: \"sequential_2\"\n",
            "_________________________________________________________________\n",
            " Layer (type)                Output Shape              Param #   \n",
            "=================================================================\n",
            " embedding_2 (Embedding)     (None, 200, 128)          1280000   \n",
            "                                                                 \n",
            " dropout (Dropout)           (None, 200, 128)          0         \n",
            "                                                                 \n",
            " conv1d (Conv1D)             (None, 196, 64)           41024     \n",
            "                                                                 \n",
            " max_pooling1d (MaxPooling1D  (None, 65, 64)           0         \n",
            " )                                                               \n",
            "                                                                 \n",
            " lstm_2 (LSTM)               (None, 64)                33024     \n",
            "                                                                 \n",
            " dense_2 (Dense)             (None, 1)                 65        \n",
            "                                                                 \n",
            "=================================================================\n",
            "Total params: 1,354,113\n",
            "Trainable params: 1,354,113\n",
            "Non-trainable params: 0\n",
            "_________________________________________________________________\n"
          ]
        }
      ],
      "source": [
        "model_conv = Sequential()\n",
        "model_conv.add(Embedding(max_words, 128, input_length=maxlen))\n",
        "model_conv.add(Dropout(0.2))\n",
        "model_conv.add(Conv1D(64, 5, activation='relu'))\n",
        "model_conv.add(MaxPooling1D(pool_size=3))\n",
        "model_conv.add(LSTM(64))\n",
        "model_conv.add(Dense(1, activation='sigmoid'))\n",
        "model_conv.compile(loss='binary_crossentropy', optimizer='adam', metrics=['acc'])\n",
        "model_conv.summary()"
      ]
    },
    {
      "cell_type": "code",
      "execution_count": 22,
      "metadata": {
        "id": "807R1vCVpC5-",
        "outputId": "796875b4-0f9b-41ad-d266-f6beedbabfd2",
        "colab": {
          "base_uri": "https://localhost:8080/"
        }
      },
      "outputs": [
        {
          "output_type": "stream",
          "name": "stdout",
          "text": [
            "Epoch 1/5\n",
            "250/250 [==============================] - 9s 16ms/step - loss: 0.3657 - acc: 0.8299 - val_loss: 0.2652 - val_acc: 0.8934\n",
            "Epoch 2/5\n",
            "250/250 [==============================] - 3s 12ms/step - loss: 0.2162 - acc: 0.9191 - val_loss: 0.2558 - val_acc: 0.8979\n",
            "Epoch 3/5\n",
            "250/250 [==============================] - 3s 12ms/step - loss: 0.1596 - acc: 0.9425 - val_loss: 0.2728 - val_acc: 0.8879\n",
            "Epoch 4/5\n",
            "250/250 [==============================] - 3s 12ms/step - loss: 0.1142 - acc: 0.9623 - val_loss: 0.3218 - val_acc: 0.8832\n",
            "Epoch 5/5\n",
            "250/250 [==============================] - 3s 12ms/step - loss: 0.0799 - acc: 0.9748 - val_loss: 0.3694 - val_acc: 0.8836\n"
          ]
        }
      ],
      "source": [
        "history = model_conv.fit(padded_train, y_train,\n",
        "                    epochs=5,\n",
        "                    batch_size=128,\n",
        "                    validation_split=0.2)"
      ]
    },
    {
      "cell_type": "code",
      "execution_count": 23,
      "metadata": {
        "id": "CsZlM_IhpC5_",
        "outputId": "cabb4dbf-8232-4a0c-9418-049b2e959e9d",
        "colab": {
          "base_uri": "https://localhost:8080/",
          "height": 545
        }
      },
      "outputs": [
        {
          "output_type": "display_data",
          "data": {
            "text/plain": [
              "<Figure size 432x288 with 1 Axes>"
            ],
            "image/png": "[encoded data removed]"
          },
          "metadata": {
            "needs_background": "light"
          }
        },
        {
          "output_type": "display_data",
          "data": {
            "text/plain": [
              "<Figure size 432x288 with 1 Axes>"
            ],
            "image/png": "[encoded data removed]"
          },
          "metadata": {
            "needs_background": "light"
          }
        }
      ],
      "source": [
        "acc = history.history['acc']\n",
        "val_acc = history.history['val_acc']\n",
        "loss = history.history['loss']\n",
        "val_loss = history.history['val_loss']\n",
        "\n",
        "epochs = range(len(acc))\n",
        "\n",
        "plt.plot(epochs, acc, 'bo', label='Training acc')\n",
        "plt.plot(epochs, val_acc, 'b', label='Validation acc')\n",
        "plt.title('Training and validation accuracy')\n",
        "plt.legend()\n",
        "\n",
        "plt.figure()\n",
        "\n",
        "plt.plot(epochs, loss, 'bo', label='Training loss')\n",
        "plt.plot(epochs, val_loss, 'b', label='Validation loss')\n",
        "plt.title('Training and validation loss')\n",
        "plt.legend()\n",
        "\n",
        "plt.show()"
      ]
    },
    {
      "cell_type": "code",
      "execution_count": 24,
      "metadata": {
        "id": "sQvB7gpNpC5_",
        "outputId": "3a06a363-aad6-4721-a283-415fb0137a31",
        "colab": {
          "base_uri": "https://localhost:8080/"
        }
      },
      "outputs": [
        {
          "output_type": "stream",
          "name": "stdout",
          "text": [
            "313/313 [==============================] - 1s 4ms/step - loss: 0.3563 - acc: 0.8907\n"
          ]
        },
        {
          "output_type": "execute_result",
          "data": {
            "text/plain": [
              "[0.3562619984149933, 0.8906999826431274]"
            ]
          },
          "metadata": {},
          "execution_count": 24
        }
      ],
      "source": [
        "model_conv.evaluate(padded_test, y_test)"
      ]
    },
    {
      "cell_type": "code",
      "source": [
        "y_preds = (model_conv.predict(padded_test) > 0.5).astype(\"int32\")\n",
        "print(y_preds)\n",
        "accuracy_LSTM_CNN = accuracy_score(y_test, y_preds)\n",
        "\n",
        "predictions['LSTM_CNN'] = accuracy_LSTM_CNN * 100"
      ],
      "metadata": {
        "colab": {
          "base_uri": "https://localhost:8080/"
        },
        "id": "OYJnukeytXgL",
        "outputId": "f6537e93-9a0e-4ac4-e0d5-2695d25c9b82"
      },
      "execution_count": 25,
      "outputs": [
        {
          "output_type": "stream",
          "name": "stdout",
          "text": [
            "313/313 [==============================] - 1s 3ms/step\n",
            "[[0]\n",
            " [1]\n",
            " [0]\n",
            " ...\n",
            " [0]\n",
            " [0]\n",
            " [1]]\n"
          ]
        }
      ]
    },
    {
      "cell_type": "markdown",
      "source": [
        "Compare this with model using a LSTM layer only, the accuracy was lower, 89.592% vs 88.28%. The model was overfitting after one epoch. However, adding a convolutional layer did speed up the training"
      ],
      "metadata": {
        "id": "jBLwG5A8tqQQ"
      }
    },
    {
      "cell_type": "markdown",
      "metadata": {
        "id": "xDBKqtwApC5_"
      },
      "source": [
        "CNN overfits the training data fairly quickly, leading to lower performance in validation/test data."
      ]
    },
    {
      "cell_type": "markdown",
      "metadata": {
        "id": "IMoo0M_hpC5_"
      },
      "source": [
        "#Assignment #1:  Use bidirectional RNNs\n",
        "Bidirectional LSTM (BiLSTM) is a recurrent neural network used primarily on natural language processing. Unlike standard LSTM, the input flows in both directions, and it’s capable of utilizing information from both sides. It’s also a powerful tool for modeling the sequential dependencies between words and phrases in both directions of the sequence.\n",
        "\n",
        "* Wrap the `Bidirectional` Layer around the `LSTM` layer to create a BiLSTM layer\n",
        "* Train and report accuracy\n",
        "\n",
        "![image.png](data:image/png;base64,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)\n"
      ]
    },
    {
      "cell_type": "code",
      "execution_count": 26,
      "metadata": {
        "collapsed": true,
        "id": "2aG9X40EpC5_"
      },
      "outputs": [],
      "source": [
        "from keras import backend as K\n",
        "K.clear_session()"
      ]
    },
    {
      "cell_type": "code",
      "execution_count": 27,
      "metadata": {
        "id": "3XReHVsUpC6A",
        "outputId": "af323520-68a7-4954-d52e-9e0e6505ebc6",
        "colab": {
          "base_uri": "https://localhost:8080/"
        }
      },
      "outputs": [
        {
          "output_type": "stream",
          "name": "stdout",
          "text": [
            "Model: \"sequential\"\n",
            "_________________________________________________________________\n",
            " Layer (type)                Output Shape              Param #   \n",
            "=================================================================\n",
            " embedding (Embedding)       (None, 200, 128)          1280000   \n",
            "                                                                 \n",
            " dropout (Dropout)           (None, 200, 128)          0         \n",
            "                                                                 \n",
            " bidirectional (Bidirectiona  (None, 200, 128)         98816     \n",
            " l)                                                              \n",
            "                                                                 \n",
            " bidirectional_1 (Bidirectio  (None, 128)              98816     \n",
            " nal)                                                            \n",
            "                                                                 \n",
            " dense (Dense)               (None, 1)                 129       \n",
            "                                                                 \n",
            "=================================================================\n",
            "Total params: 1,477,761\n",
            "Trainable params: 1,477,761\n",
            "Non-trainable params: 0\n",
            "_________________________________________________________________\n"
          ]
        }
      ],
      "source": [
        "#Define and Compile your model architecture here\n",
        "model_bilstm = Sequential()\n",
        "model_bilstm.add(Embedding(max_words, 128, input_length=maxlen))\n",
        "model_bilstm.add(Dropout(0.2))\n",
        "model_bilstm.add(Bidirectional(LSTM(64, return_sequences=True)))\n",
        "model_bilstm.add(Bidirectional(LSTM(64)))\n",
        "model_bilstm.add(Dense(1, activation='sigmoid'))\n",
        "model_bilstm.compile(loss='binary_crossentropy', optimizer='adam', metrics=['acc'])\n",
        "model_bilstm.summary()"
      ]
    },
    {
      "cell_type": "code",
      "execution_count": 28,
      "metadata": {
        "id": "4Th1IOuhpC6A",
        "outputId": "fc4b5310-9c21-4812-888a-f793a32c9cd4",
        "colab": {
          "base_uri": "https://localhost:8080/"
        }
      },
      "outputs": [
        {
          "output_type": "stream",
          "name": "stdout",
          "text": [
            "Epoch 1/5\n",
            "250/250 [==============================] - 18s 54ms/step - loss: 0.3497 - acc: 0.8425 - val_loss: 0.2789 - val_acc: 0.8866\n",
            "Epoch 2/5\n",
            "250/250 [==============================] - 12s 48ms/step - loss: 0.2246 - acc: 0.9149 - val_loss: 0.2864 - val_acc: 0.8832\n",
            "Epoch 3/5\n",
            "250/250 [==============================] - 13s 53ms/step - loss: 0.1766 - acc: 0.9343 - val_loss: 0.3032 - val_acc: 0.8754\n",
            "Epoch 4/5\n",
            "250/250 [==============================] - 12s 48ms/step - loss: 0.1412 - acc: 0.9478 - val_loss: 0.3385 - val_acc: 0.8699\n",
            "Epoch 5/5\n",
            "250/250 [==============================] - 12s 49ms/step - loss: 0.1211 - acc: 0.9567 - val_loss: 0.4005 - val_acc: 0.8696\n"
          ]
        }
      ],
      "source": [
        "#Train your model here\n",
        "history = model_bilstm.fit(padded_train, y_train,\n",
        "                    epochs=5,\n",
        "                    batch_size=128,\n",
        "                    validation_split=0.2)"
      ]
    },
    {
      "cell_type": "code",
      "execution_count": 29,
      "metadata": {
        "id": "qZVA1hMEpC6A",
        "outputId": "155798dc-9ee1-4f6a-e0dc-81b07f524e01",
        "colab": {
          "base_uri": "https://localhost:8080/",
          "height": 545
        }
      },
      "outputs": [
        {
          "output_type": "display_data",
          "data": {
            "text/plain": [
              "<Figure size 432x288 with 1 Axes>"
            ],
            "image/png": "[encoded data removed]"
          },
          "metadata": {
            "needs_background": "light"
          }
        },
        {
          "output_type": "display_data",
          "data": {
            "text/plain": [
              "<Figure size 432x288 with 1 Axes>"
            ],
            "image/png": "[encoded data removed]"
          },
          "metadata": {
            "needs_background": "light"
          }
        }
      ],
      "source": [
        "import matplotlib.pyplot as plt\n",
        "%matplotlib inline \n",
        "acc = history.history['acc']\n",
        "val_acc = history.history['val_acc']\n",
        "loss = history.history['loss']\n",
        "val_loss = history.history['val_loss']\n",
        "\n",
        "epochs = range(len(acc))\n",
        "\n",
        "plt.plot(epochs, acc, 'bo', label='Training acc')\n",
        "plt.plot(epochs, val_acc, 'b', label='Validation acc')\n",
        "plt.title('Training and validation accuracy')\n",
        "plt.legend()\n",
        "\n",
        "plt.figure()\n",
        "\n",
        "plt.plot(epochs, loss, 'bo', label='Training loss')\n",
        "plt.plot(epochs, val_loss, 'b', label='Validation loss')\n",
        "plt.title('Training and validation loss')\n",
        "plt.legend()\n",
        "\n",
        "plt.show()"
      ]
    },
    {
      "cell_type": "code",
      "execution_count": 30,
      "metadata": {
        "scrolled": true,
        "id": "j5r5OVthpC6A",
        "outputId": "22bad649-ac44-4bfe-95a7-fe6651d19dce",
        "colab": {
          "base_uri": "https://localhost:8080/"
        }
      },
      "outputs": [
        {
          "output_type": "stream",
          "name": "stdout",
          "text": [
            "313/313 [==============================] - 5s 17ms/step - loss: 0.3729 - acc: 0.8817\n"
          ]
        },
        {
          "output_type": "execute_result",
          "data": {
            "text/plain": [
              "[0.3729468584060669, 0.8816999793052673]"
            ]
          },
          "metadata": {},
          "execution_count": 30
        }
      ],
      "source": [
        "model_bilstm.evaluate(padded_test, y_test)"
      ]
    },
    {
      "cell_type": "code",
      "source": [
        "y_preds = (model_bilstm.predict(padded_test) > 0.5).astype(\"int32\")\n",
        "print(y_preds)\n",
        "accuracy_BiLSTM = accuracy_score(y_test, y_preds)\n",
        "\n",
        "predictions['BiLSTM'] = accuracy_BiLSTM * 100"
      ],
      "metadata": {
        "colab": {
          "base_uri": "https://localhost:8080/"
        },
        "id": "riB7r62ewBEv",
        "outputId": "0748dd9b-6868-45b7-a781-ceffaf527a57"
      },
      "execution_count": 31,
      "outputs": [
        {
          "output_type": "stream",
          "name": "stdout",
          "text": [
            "313/313 [==============================] - 6s 15ms/step\n",
            "[[0]\n",
            " [1]\n",
            " [0]\n",
            " ...\n",
            " [0]\n",
            " [0]\n",
            " [1]]\n"
          ]
        }
      ]
    },
    {
      "cell_type": "code",
      "source": [
        "import seaborn as sns\n",
        "fig, (ax1) = plt.subplots(ncols = 1, sharey = True,figsize = (20,5))\n",
        "df = pd.DataFrame(list(predictions.items()),columns = ['Algorithms','Percentage'])\n",
        "display(df)\n",
        "sns.barplot(x = \"Algorithms\", y = \"Percentage\", data = df,ax = ax1);"
      ],
      "metadata": {
        "colab": {
          "base_uri": "https://localhost:8080/",
          "height": 448
        },
        "id": "hAS425IBv6EH",
        "outputId": "5195af56-81ab-4878-a9a0-a8126b16522b"
      },
      "execution_count": 32,
      "outputs": [
        {
          "output_type": "display_data",
          "data": {
            "text/plain": [
              "  Algorithms  Percentage\n",
              "0  LSTM_Only       89.86\n",
              "1   LSTM_CNN       89.07\n",
              "2     BiLSTM       88.17"
            ],
            "text/html": [
              "\n",
              "  <div id=\"df-aef95486-9ce7-45ac-b025-f0e26257ab6e\">\n",
              "    <div class=\"colab-df-container\">\n",
              "      <div>\n",
              "<style scoped>\n",
              "    .dataframe tbody tr th:only-of-type {\n",
              "        vertical-align: middle;\n",
              "    }\n",
              "\n",
              "    .dataframe tbody tr th {\n",
              "        vertical-align: top;\n",
              "    }\n",
              "\n",
              "    .dataframe thead th {\n",
              "        text-align: right;\n",
              "    }\n",
              "</style>\n",
              "<table border=\"1\" class=\"dataframe\">\n",
              "  <thead>\n",
              "    <tr style=\"text-align: right;\">\n",
              "      <th></th>\n",
              "      <th>Algorithms</th>\n",
              "      <th>Percentage</th>\n",
              "    </tr>\n",
              "  </thead>\n",
              "  <tbody>\n",
              "    <tr>\n",
              "      <th>0</th>\n",
              "      <td>LSTM_Only</td>\n",
              "      <td>89.86</td>\n",
              "    </tr>\n",
              "    <tr>\n",
              "      <th>1</th>\n",
              "      <td>LSTM_CNN</td>\n",
              "      <td>89.07</td>\n",
              "    </tr>\n",
              "    <tr>\n",
              "      <th>2</th>\n",
              "      <td>BiLSTM</td>\n",
              "      <td>88.17</td>\n",
              "    </tr>\n",
              "  </tbody>\n",
              "</table>\n",
              "</div>\n",
              "      <button class=\"colab-df-convert\" onclick=\"convertToInteractive('df-aef95486-9ce7-45ac-b025-f0e26257ab6e')\"\n",
              "              title=\"Convert this dataframe to an interactive table.\"\n",
              "              style=\"display:none;\">\n",
              "        \n",
              "  <svg xmlns=\"http://www.w3.org/2000/svg\" height=\"24px\"viewBox=\"0 0 24 24\"\n",
              "       width=\"24px\">\n",
              "    <path d=\"M0 0h24v24H0V0z\" fill=\"none\"/>\n",
              "    <path d=\"M18.56 5.44l.94 2.06.94-2.06 2.06-.94-2.06-.94-.94-2.06-.94 2.06-2.06.94zm-11 1L8.5 8.5l.94-2.06 2.06-.94-2.06-.94L8.5 2.5l-.94 2.06-2.06.94zm10 10l.94 2.06.94-2.06 2.06-.94-2.06-.94-.94-2.06-.94 2.06-2.06.94z\"/><path d=\"M17.41 7.96l-1.37-1.37c-.4-.4-.92-.59-1.43-.59-.52 0-1.04.2-1.43.59L10.3 9.45l-7.72 7.72c-.78.78-.78 2.05 0 2.83L4 21.41c.39.39.9.59 1.41.59.51 0 1.02-.2 1.41-.59l7.78-7.78 2.81-2.81c.8-.78.8-2.07 0-2.86zM5.41 20L4 18.59l7.72-7.72 1.47 1.35L5.41 20z\"/>\n",
              "  </svg>\n",
              "      </button>\n",
              "      \n",
              "  <style>\n",
              "    .colab-df-container {\n",
              "      display:flex;\n",
              "      flex-wrap:wrap;\n",
              "      gap: 12px;\n",
              "    }\n",
              "\n",
              "    .colab-df-convert {\n",
              "      background-color: #E8F0FE;\n",
              "      border: none;\n",
              "      border-radius: 50%;\n",
              "      cursor: pointer;\n",
              "      display: none;\n",
              "      fill: #1967D2;\n",
              "      height: 32px;\n",
              "      padding: 0 0 0 0;\n",
              "      width: 32px;\n",
              "    }\n",
              "\n",
              "    .colab-df-convert:hover {\n",
              "      background-color: #E2EBFA;\n",
              "      box-shadow: 0px 1px 2px rgba(60, 64, 67, 0.3), 0px 1px 3px 1px rgba(60, 64, 67, 0.15);\n",
              "      fill: #174EA6;\n",
              "    }\n",
              "\n",
              "    [theme=dark] .colab-df-convert {\n",
              "      background-color: #3B4455;\n",
              "      fill: #D2E3FC;\n",
              "    }\n",
              "\n",
              "    [theme=dark] .colab-df-convert:hover {\n",
              "      background-color: #434B5C;\n",
              "      box-shadow: 0px 1px 3px 1px rgba(0, 0, 0, 0.15);\n",
              "      filter: drop-shadow(0px 1px 2px rgba(0, 0, 0, 0.3));\n",
              "      fill: #FFFFFF;\n",
              "    }\n",
              "  </style>\n",
              "\n",
              "      <script>\n",
              "        const buttonEl =\n",
              "          document.querySelector('#df-aef95486-9ce7-45ac-b025-f0e26257ab6e button.colab-df-convert');\n",
              "        buttonEl.style.display =\n",
              "          google.colab.kernel.accessAllowed ? 'block' : 'none';\n",
              "\n",
              "        async function convertToInteractive(key) {\n",
              "          const element = document.querySelector('#df-aef95486-9ce7-45ac-b025-f0e26257ab6e');\n",
              "          const dataTable =\n",
              "            await google.colab.kernel.invokeFunction('convertToInteractive',\n",
              "                                                     [key], {});\n",
              "          if (!dataTable) return;\n",
              "\n",
              "          const docLinkHtml = 'Like what you see? Visit the ' +\n",
              "            '<a target=\"_blank\" href=https://colab.research.google.com/notebooks/data_table.ipynb>data table notebook</a>'\n",
              "            + ' to learn more about interactive tables.';\n",
              "          element.innerHTML = '';\n",
              "          dataTable['output_type'] = 'display_data';\n",
              "          await google.colab.output.renderOutput(dataTable, element);\n",
              "          const docLink = document.createElement('div');\n",
              "          docLink.innerHTML = docLinkHtml;\n",
              "          element.appendChild(docLink);\n",
              "        }\n",
              "      </script>\n",
              "    </div>\n",
              "  </div>\n",
              "  "
            ]
          },
          "metadata": {}
        },
        {
          "output_type": "display_data",
          "data": {
            "text/plain": [
              "<Figure size 1440x360 with 1 Axes>"
            ],
            "image/png": "[encoded data removed]"
          },
          "metadata": {
            "needs_background": "light"
          }
        }
      ]
    },
    {
      "cell_type": "markdown",
      "source": [
        "# Assignment #2: Use original labels instead of binary labels.\n",
        "\n",
        "* Use `stars` instead of `stars_binary` for classification and report accuracy.\n",
        "* Use another version of the dataset (`1M.csv` or full dataset)."
      ],
      "metadata": {
        "id": "JPADWH1PK-xA"
      }
    },
    {
      "cell_type": "code",
      "source": [],
      "metadata": {
        "id": "w4oUujczMU6y"
      },
      "execution_count": null,
      "outputs": []
    },
    {
      "cell_type": "code",
      "source": [
        "X = df_balanced['text'].values\n",
        "y = df_balanced['stars'].values\n",
        "X_train, X_test, y_train, y_test = train_test_split(X, y, test_size=0.20, random_state=5560)"
      ],
      "metadata": {
        "id": "fEVzc8jhDyHj"
      },
      "execution_count": 33,
      "outputs": []
    },
    {
      "cell_type": "code",
      "source": [
        "history = model_bilstm.fit(padded_train, y_train,\n",
        "                    epochs=5,\n",
        "                    batch_size=128,\n",
        "                    validation_split=0.2)"
      ],
      "metadata": {
        "id": "JMMV82TjF1_R",
        "outputId": "31d094c7-82bf-479e-d1a2-ff17aa5ce2a9",
        "colab": {
          "base_uri": "https://localhost:8080/"
        }
      },
      "execution_count": 34,
      "outputs": [
        {
          "output_type": "stream",
          "name": "stdout",
          "text": [
            "Epoch 1/5\n",
            "250/250 [==============================] - 16s 52ms/step - loss: -151.0878 - acc: 0.2268 - val_loss: -235.4353 - val_acc: 0.2298\n",
            "Epoch 2/5\n",
            "250/250 [==============================] - 14s 56ms/step - loss: -294.0965 - acc: 0.2286 - val_loss: -347.3069 - val_acc: 0.2298\n",
            "Epoch 3/5\n",
            "250/250 [==============================] - 12s 47ms/step - loss: -396.4378 - acc: 0.2286 - val_loss: -443.0946 - val_acc: 0.2298\n",
            "Epoch 4/5\n",
            "250/250 [==============================] - 12s 48ms/step - loss: -487.7674 - acc: 0.2286 - val_loss: -530.5282 - val_acc: 0.2298\n",
            "Epoch 5/5\n",
            "250/250 [==============================] - 12s 47ms/step - loss: -572.5240 - acc: 0.2286 - val_loss: -612.2729 - val_acc: 0.2298\n"
          ]
        }
      ]
    },
    {
      "cell_type": "code",
      "source": [
        "model_bilstm.evaluate(padded_test, y_test)"
      ],
      "metadata": {
        "id": "rAds3-O_GY_7",
        "outputId": "583a6019-0be1-414d-8517-85fc15e84de5",
        "colab": {
          "base_uri": "https://localhost:8080/"
        }
      },
      "execution_count": 35,
      "outputs": [
        {
          "output_type": "stream",
          "name": "stdout",
          "text": [
            "313/313 [==============================] - 5s 16ms/step - loss: -610.4890 - acc: 0.2369\n"
          ]
        },
        {
          "output_type": "execute_result",
          "data": {
            "text/plain": [
              "[-610.4889526367188, 0.23690000176429749]"
            ]
          },
          "metadata": {},
          "execution_count": 35
        }
      ]
    },
    {
      "cell_type": "code",
      "source": [
        "y_preds = (model_bilstm.predict(padded_test) > 0.5).astype(\"int32\")\n",
        "print(y_preds)\n",
        "accuracy_BiLSTM = accuracy_score(y_test, y_preds)\n",
        "\n",
        "predictions['BiLSTM-all'] = accuracy_BiLSTM * 100"
      ],
      "metadata": {
        "id": "c-dRi_FGGqeM",
        "outputId": "38d2e6e3-2547-42a4-e0ac-b01254c0c475",
        "colab": {
          "base_uri": "https://localhost:8080/"
        }
      },
      "execution_count": 37,
      "outputs": [
        {
          "output_type": "stream",
          "name": "stdout",
          "text": [
            "313/313 [==============================] - 5s 15ms/step\n",
            "[[1]\n",
            " [1]\n",
            " [1]\n",
            " ...\n",
            " [1]\n",
            " [1]\n",
            " [1]]\n"
          ]
        }
      ]
    },
    {
      "cell_type": "code",
      "source": [
        "history = model_conv.fit(padded_train, y_train,\n",
        "                    epochs=5,\n",
        "                    batch_size=128,\n",
        "                    validation_split=0.2)\n",
        "model_conv.evaluate(padded_test, y_test)\n",
        "y_preds = (model_conv.predict(padded_test) > 0.5).astype(\"int32\")\n",
        "print(y_preds)\n",
        "accuracy_Conv = accuracy_score(y_test, y_preds)\n",
        "\n",
        "predictions['CONV-all'] = accuracy_Conv * 100"
      ],
      "metadata": {
        "id": "bjIBSw0nHSwr",
        "outputId": "3fc7d8b5-1517-4911-e0bd-da675c3bdb1f",
        "colab": {
          "base_uri": "https://localhost:8080/"
        }
      },
      "execution_count": 40,
      "outputs": [
        {
          "output_type": "stream",
          "name": "stdout",
          "text": [
            "Epoch 1/5\n",
            "250/250 [==============================] - 3s 12ms/step - loss: -362.8530 - acc: 0.2286 - val_loss: -382.7462 - val_acc: 0.2298\n",
            "Epoch 2/5\n",
            "250/250 [==============================] - 3s 12ms/step - loss: -403.3069 - acc: 0.2286 - val_loss: -422.6057 - val_acc: 0.2298\n",
            "Epoch 3/5\n",
            "250/250 [==============================] - 3s 12ms/step - loss: -442.7991 - acc: 0.2286 - val_loss: -461.6102 - val_acc: 0.2298\n",
            "Epoch 4/5\n",
            "250/250 [==============================] - 3s 12ms/step - loss: -481.6225 - acc: 0.2286 - val_loss: -500.1074 - val_acc: 0.2298\n",
            "Epoch 5/5\n",
            "250/250 [==============================] - 4s 14ms/step - loss: -519.9728 - acc: 0.2286 - val_loss: -538.2252 - val_acc: 0.2298\n",
            "313/313 [==============================] - 1s 4ms/step - loss: -536.6573 - acc: 0.2369\n",
            "313/313 [==============================] - 1s 3ms/step\n",
            "[[1]\n",
            " [1]\n",
            " [1]\n",
            " ...\n",
            " [1]\n",
            " [1]\n",
            " [1]]\n"
          ]
        }
      ]
    },
    {
      "cell_type": "code",
      "source": [
        "import seaborn as sns\n",
        "fig, (ax1) = plt.subplots(ncols = 1, sharey = True,figsize = (20,5))\n",
        "df = pd.DataFrame(list(predictions.items()),columns = ['Algorithms','Percentage'])\n",
        "display(df)\n",
        "sns.barplot(x = \"Algorithms\", y = \"Percentage\", data = df,ax = ax1);"
      ],
      "metadata": {
        "id": "4NOSGvZpGfOL",
        "outputId": "6204e254-eb07-4d53-8fcd-3fc44f581c5e",
        "colab": {
          "base_uri": "https://localhost:8080/",
          "height": 510
        }
      },
      "execution_count": 41,
      "outputs": [
        {
          "output_type": "display_data",
          "data": {
            "text/plain": [
              "   Algorithms  Percentage\n",
              "0   LSTM_Only       89.86\n",
              "1    LSTM_CNN       89.07\n",
              "2      BiLSTM       88.17\n",
              "3  BiLSTM-all       23.69\n",
              "4    CONV-all       23.69"
            ],
            "text/html": [
              "\n",
              "  <div id=\"df-aa55c49b-aa33-4e17-91c2-970f3c7ff96d\">\n",
              "    <div class=\"colab-df-container\">\n",
              "      <div>\n",
              "<style scoped>\n",
              "    .dataframe tbody tr th:only-of-type {\n",
              "        vertical-align: middle;\n",
              "    }\n",
              "\n",
              "    .dataframe tbody tr th {\n",
              "        vertical-align: top;\n",
              "    }\n",
              "\n",
              "    .dataframe thead th {\n",
              "        text-align: right;\n",
              "    }\n",
              "</style>\n",
              "<table border=\"1\" class=\"dataframe\">\n",
              "  <thead>\n",
              "    <tr style=\"text-align: right;\">\n",
              "      <th></th>\n",
              "      <th>Algorithms</th>\n",
              "      <th>Percentage</th>\n",
              "    </tr>\n",
              "  </thead>\n",
              "  <tbody>\n",
              "    <tr>\n",
              "      <th>0</th>\n",
              "      <td>LSTM_Only</td>\n",
              "      <td>89.86</td>\n",
              "    </tr>\n",
              "    <tr>\n",
              "      <th>1</th>\n",
              "      <td>LSTM_CNN</td>\n",
              "      <td>89.07</td>\n",
              "    </tr>\n",
              "    <tr>\n",
              "      <th>2</th>\n",
              "      <td>BiLSTM</td>\n",
              "      <td>88.17</td>\n",
              "    </tr>\n",
              "    <tr>\n",
              "      <th>3</th>\n",
              "      <td>BiLSTM-all</td>\n",
              "      <td>23.69</td>\n",
              "    </tr>\n",
              "    <tr>\n",
              "      <th>4</th>\n",
              "      <td>CONV-all</td>\n",
              "      <td>23.69</td>\n",
              "    </tr>\n",
              "  </tbody>\n",
              "</table>\n",
              "</div>\n",
              "      <button class=\"colab-df-convert\" onclick=\"convertToInteractive('df-aa55c49b-aa33-4e17-91c2-970f3c7ff96d')\"\n",
              "              title=\"Convert this dataframe to an interactive table.\"\n",
              "              style=\"display:none;\">\n",
              "        \n",
              "  <svg xmlns=\"http://www.w3.org/2000/svg\" height=\"24px\"viewBox=\"0 0 24 24\"\n",
              "       width=\"24px\">\n",
              "    <path d=\"M0 0h24v24H0V0z\" fill=\"none\"/>\n",
              "    <path d=\"M18.56 5.44l.94 2.06.94-2.06 2.06-.94-2.06-.94-.94-2.06-.94 2.06-2.06.94zm-11 1L8.5 8.5l.94-2.06 2.06-.94-2.06-.94L8.5 2.5l-.94 2.06-2.06.94zm10 10l.94 2.06.94-2.06 2.06-.94-2.06-.94-.94-2.06-.94 2.06-2.06.94z\"/><path d=\"M17.41 7.96l-1.37-1.37c-.4-.4-.92-.59-1.43-.59-.52 0-1.04.2-1.43.59L10.3 9.45l-7.72 7.72c-.78.78-.78 2.05 0 2.83L4 21.41c.39.39.9.59 1.41.59.51 0 1.02-.2 1.41-.59l7.78-7.78 2.81-2.81c.8-.78.8-2.07 0-2.86zM5.41 20L4 18.59l7.72-7.72 1.47 1.35L5.41 20z\"/>\n",
              "  </svg>\n",
              "      </button>\n",
              "      \n",
              "  <style>\n",
              "    .colab-df-container {\n",
              "      display:flex;\n",
              "      flex-wrap:wrap;\n",
              "      gap: 12px;\n",
              "    }\n",
              "\n",
              "    .colab-df-convert {\n",
              "      background-color: #E8F0FE;\n",
              "      border: none;\n",
              "      border-radius: 50%;\n",
              "      cursor: pointer;\n",
              "      display: none;\n",
              "      fill: #1967D2;\n",
              "      height: 32px;\n",
              "      padding: 0 0 0 0;\n",
              "      width: 32px;\n",
              "    }\n",
              "\n",
              "    .colab-df-convert:hover {\n",
              "      background-color: #E2EBFA;\n",
              "      box-shadow: 0px 1px 2px rgba(60, 64, 67, 0.3), 0px 1px 3px 1px rgba(60, 64, 67, 0.15);\n",
              "      fill: #174EA6;\n",
              "    }\n",
              "\n",
              "    [theme=dark] .colab-df-convert {\n",
              "      background-color: #3B4455;\n",
              "      fill: #D2E3FC;\n",
              "    }\n",
              "\n",
              "    [theme=dark] .colab-df-convert:hover {\n",
              "      background-color: #434B5C;\n",
              "      box-shadow: 0px 1px 3px 1px rgba(0, 0, 0, 0.15);\n",
              "      filter: drop-shadow(0px 1px 2px rgba(0, 0, 0, 0.3));\n",
              "      fill: #FFFFFF;\n",
              "    }\n",
              "  </style>\n",
              "\n",
              "      <script>\n",
              "        const buttonEl =\n",
              "          document.querySelector('#df-aa55c49b-aa33-4e17-91c2-970f3c7ff96d button.colab-df-convert');\n",
              "        buttonEl.style.display =\n",
              "          google.colab.kernel.accessAllowed ? 'block' : 'none';\n",
              "\n",
              "        async function convertToInteractive(key) {\n",
              "          const element = document.querySelector('#df-aa55c49b-aa33-4e17-91c2-970f3c7ff96d');\n",
              "          const dataTable =\n",
              "            await google.colab.kernel.invokeFunction('convertToInteractive',\n",
              "                                                     [key], {});\n",
              "          if (!dataTable) return;\n",
              "\n",
              "          const docLinkHtml = 'Like what you see? Visit the ' +\n",
              "            '<a target=\"_blank\" href=https://colab.research.google.com/notebooks/data_table.ipynb>data table notebook</a>'\n",
              "            + ' to learn more about interactive tables.';\n",
              "          element.innerHTML = '';\n",
              "          dataTable['output_type'] = 'display_data';\n",
              "          await google.colab.output.renderOutput(dataTable, element);\n",
              "          const docLink = document.createElement('div');\n",
              "          docLink.innerHTML = docLinkHtml;\n",
              "          element.appendChild(docLink);\n",
              "        }\n",
              "      </script>\n",
              "    </div>\n",
              "  </div>\n",
              "  "
            ]
          },
          "metadata": {}
        },
        {
          "output_type": "display_data",
          "data": {
            "text/plain": [
              "<Figure size 1440x360 with 1 Axes>"
            ],
            "image/png": "[encoded data removed]"
          },
          "metadata": {
            "needs_background": "light"
          }
        }
      ]
    }
  ],
  "metadata": {
    "kernelspec": {
      "display_name": "Python 3",
      "language": "python",
      "name": "python3"
    },
    "language_info": {
      "codemirror_mode": {
        "name": "ipython",
        "version": 3
      },
      "file_extension": ".py",
      "mimetype": "text/x-python",
      "name": "python",
      "nbconvert_exporter": "python",
      "pygments_lexer": "ipython3",
      "version": "3.6.1"
    },
    "colab": {
      "provenance": [],
      "collapsed_sections": [],
      "toc_visible": true,
      "include_colab_link": true
    },
    "accelerator": "GPU"
  },
  "nbformat": 4,
  "nbformat_minor": 0
}