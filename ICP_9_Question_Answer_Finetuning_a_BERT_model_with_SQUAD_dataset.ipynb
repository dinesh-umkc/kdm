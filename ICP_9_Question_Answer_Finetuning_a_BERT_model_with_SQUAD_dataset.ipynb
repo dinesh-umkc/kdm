{
  "cells": [
    {
      "cell_type": "markdown",
      "metadata": {
        "id": "view-in-github",
        "colab_type": "text"
      },
      "source": [
        "<a href=\"https://colab.research.google.com/github/dinesh-umkc/kdm/blob/main/ICP_9_Question_Answer_Finetuning_a_BERT_model_with_SQUAD_dataset.ipynb\" target=\"_parent\"><img src=\"https://colab.research.google.com/assets/colab-badge.svg\" alt=\"Open In Colab\"/></a>"
      ]
    },
    {
      "cell_type": "markdown",
      "source": [
        "#Objective\n",
        "1. Explore question answering with BERT\n",
        "2. Use diffrent dataset\n",
        "3. Record accuracy metrics"
      ],
      "metadata": {
        "id": "Ajzz7UxQhVMl"
      }
    },
    {
      "cell_type": "code",
      "source": [
        "!pip install transformers"
      ],
      "metadata": {
        "id": "qOhNosy4hqkJ"
      },
      "execution_count": null,
      "outputs": []
    },
    {
      "cell_type": "markdown",
      "source": [
        "#Assignment: Use another question-answering dataset to finetune your model.\n",
        "* SQUAD-structured dataset is recommended (so you don't have to come up with your own pre-processing steps )\n",
        "* Use another base model\n",
        "* Record metrics with F1 score."
      ],
      "metadata": {
        "id": "AoWriYNLmtzl"
      }
    },
    {
      "cell_type": "code",
      "execution_count": null,
      "metadata": {
        "id": "GwuyRcCL7lWY"
      },
      "outputs": [],
      "source": []
    }
  ],
  "metadata": {
    "colab": {
      "provenance": [],
      "collapsed_sections": [],
      "include_colab_link": true
    },
    "accelerator": "GPU",
    "language_info": {
      "name": "python"
    },
    "kernelspec": {
      "name": "python3",
      "display_name": "Python 3"
    }
  },
  "nbformat": 4,
  "nbformat_minor": 0
}