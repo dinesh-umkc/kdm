{
  "nbformat": 4,
  "nbformat_minor": 0,
  "metadata": {
    "colab": {
      "provenance": [],
      "authorship_tag": "ABX9TyOV/agWs1mJkYlhiwNKNwF4",
      "include_colab_link": true
    },
    "kernelspec": {
      "name": "python3",
      "display_name": "Python 3"
    },
    "language_info": {
      "name": "python"
    },
    "widgets": {
      "application/vnd.jupyter.widget-state+json": {
        "bfa8ba0df1c44bafa6758ed6f2de6bec": {
          "model_module": "@jupyter-widgets/controls",
          "model_name": "HBoxModel",
          "model_module_version": "1.5.0",
          "state": {
            "_dom_classes": [],
            "_model_module": "@jupyter-widgets/controls",
            "_model_module_version": "1.5.0",
            "_model_name": "HBoxModel",
            "_view_count": null,
            "_view_module": "@jupyter-widgets/controls",
            "_view_module_version": "1.5.0",
            "_view_name": "HBoxView",
            "box_style": "",
            "children": [
              "IPY_MODEL_5b2c2235734549bfb466b889ebb11c5d",
              "IPY_MODEL_bf368fffc599451f9e3e8e2d6fc6a6e0",
              "IPY_MODEL_ae880adc5d9546b096bc7a4770cf1e01"
            ],
            "layout": "IPY_MODEL_3abd0cb914ed467ba7adc3c1c73b8446"
          }
        },
        "5b2c2235734549bfb466b889ebb11c5d": {
          "model_module": "@jupyter-widgets/controls",
          "model_name": "HTMLModel",
          "model_module_version": "1.5.0",
          "state": {
            "_dom_classes": [],
            "_model_module": "@jupyter-widgets/controls",
            "_model_module_version": "1.5.0",
            "_model_name": "HTMLModel",
            "_view_count": null,
            "_view_module": "@jupyter-widgets/controls",
            "_view_module_version": "1.5.0",
            "_view_name": "HTMLView",
            "description": "",
            "description_tooltip": null,
            "layout": "IPY_MODEL_9b4a1d26d26a4f5486e1266a1d6c8d6f",
            "placeholder": "​",
            "style": "IPY_MODEL_b7c418b1f5ba4fafa6ebd473a039d55b",
            "value": "100%"
          }
        },
        "bf368fffc599451f9e3e8e2d6fc6a6e0": {
          "model_module": "@jupyter-widgets/controls",
          "model_name": "FloatProgressModel",
          "model_module_version": "1.5.0",
          "state": {
            "_dom_classes": [],
            "_model_module": "@jupyter-widgets/controls",
            "_model_module_version": "1.5.0",
            "_model_name": "FloatProgressModel",
            "_view_count": null,
            "_view_module": "@jupyter-widgets/controls",
            "_view_module_version": "1.5.0",
            "_view_name": "ProgressView",
            "bar_style": "success",
            "description": "",
            "description_tooltip": null,
            "layout": "IPY_MODEL_7fa8b6eca3854b37ae73f66e5e408c7c",
            "max": 2,
            "min": 0,
            "orientation": "horizontal",
            "style": "IPY_MODEL_9fd844946f34449886b9d520a1f2b646",
            "value": 2
          }
        },
        "ae880adc5d9546b096bc7a4770cf1e01": {
          "model_module": "@jupyter-widgets/controls",
          "model_name": "HTMLModel",
          "model_module_version": "1.5.0",
          "state": {
            "_dom_classes": [],
            "_model_module": "@jupyter-widgets/controls",
            "_model_module_version": "1.5.0",
            "_model_name": "HTMLModel",
            "_view_count": null,
            "_view_module": "@jupyter-widgets/controls",
            "_view_module_version": "1.5.0",
            "_view_name": "HTMLView",
            "description": "",
            "description_tooltip": null,
            "layout": "IPY_MODEL_0f9e190786c8410e9b8654802f9a1304",
            "placeholder": "​",
            "style": "IPY_MODEL_e0ddcc65d0cf45aeae3f694e850d7f93",
            "value": " 2/2 [00:03&lt;00:00,  1.81s/it]"
          }
        },
        "3abd0cb914ed467ba7adc3c1c73b8446": {
          "model_module": "@jupyter-widgets/base",
          "model_name": "LayoutModel",
          "model_module_version": "1.2.0",
          "state": {
            "_model_module": "@jupyter-widgets/base",
            "_model_module_version": "1.2.0",
            "_model_name": "LayoutModel",
            "_view_count": null,
            "_view_module": "@jupyter-widgets/base",
            "_view_module_version": "1.2.0",
            "_view_name": "LayoutView",
            "align_content": null,
            "align_items": null,
            "align_self": null,
            "border": null,
            "bottom": null,
            "display": null,
            "flex": null,
            "flex_flow": null,
            "grid_area": null,
            "grid_auto_columns": null,
            "grid_auto_flow": null,
            "grid_auto_rows": null,
            "grid_column": null,
            "grid_gap": null,
            "grid_row": null,
            "grid_template_areas": null,
            "grid_template_columns": null,
            "grid_template_rows": null,
            "height": null,
            "justify_content": null,
            "justify_items": null,
            "left": null,
            "margin": null,
            "max_height": null,
            "max_width": null,
            "min_height": null,
            "min_width": null,
            "object_fit": null,
            "object_position": null,
            "order": null,
            "overflow": null,
            "overflow_x": null,
            "overflow_y": null,
            "padding": null,
            "right": null,
            "top": null,
            "visibility": null,
            "width": null
          }
        },
        "9b4a1d26d26a4f5486e1266a1d6c8d6f": {
          "model_module": "@jupyter-widgets/base",
          "model_name": "LayoutModel",
          "model_module_version": "1.2.0",
          "state": {
            "_model_module": "@jupyter-widgets/base",
            "_model_module_version": "1.2.0",
            "_model_name": "LayoutModel",
            "_view_count": null,
            "_view_module": "@jupyter-widgets/base",
            "_view_module_version": "1.2.0",
            "_view_name": "LayoutView",
            "align_content": null,
            "align_items": null,
            "align_self": null,
            "border": null,
            "bottom": null,
            "display": null,
            "flex": null,
            "flex_flow": null,
            "grid_area": null,
            "grid_auto_columns": null,
            "grid_auto_flow": null,
            "grid_auto_rows": null,
            "grid_column": null,
            "grid_gap": null,
            "grid_row": null,
            "grid_template_areas": null,
            "grid_template_columns": null,
            "grid_template_rows": null,
            "height": null,
            "justify_content": null,
            "justify_items": null,
            "left": null,
            "margin": null,
            "max_height": null,
            "max_width": null,
            "min_height": null,
            "min_width": null,
            "object_fit": null,
            "object_position": null,
            "order": null,
            "overflow": null,
            "overflow_x": null,
            "overflow_y": null,
            "padding": null,
            "right": null,
            "top": null,
            "visibility": null,
            "width": null
          }
        },
        "b7c418b1f5ba4fafa6ebd473a039d55b": {
          "model_module": "@jupyter-widgets/controls",
          "model_name": "DescriptionStyleModel",
          "model_module_version": "1.5.0",
          "state": {
            "_model_module": "@jupyter-widgets/controls",
            "_model_module_version": "1.5.0",
            "_model_name": "DescriptionStyleModel",
            "_view_count": null,
            "_view_module": "@jupyter-widgets/base",
            "_view_module_version": "1.2.0",
            "_view_name": "StyleView",
            "description_width": ""
          }
        },
        "7fa8b6eca3854b37ae73f66e5e408c7c": {
          "model_module": "@jupyter-widgets/base",
          "model_name": "LayoutModel",
          "model_module_version": "1.2.0",
          "state": {
            "_model_module": "@jupyter-widgets/base",
            "_model_module_version": "1.2.0",
            "_model_name": "LayoutModel",
            "_view_count": null,
            "_view_module": "@jupyter-widgets/base",
            "_view_module_version": "1.2.0",
            "_view_name": "LayoutView",
            "align_content": null,
            "align_items": null,
            "align_self": null,
            "border": null,
            "bottom": null,
            "display": null,
            "flex": null,
            "flex_flow": null,
            "grid_area": null,
            "grid_auto_columns": null,
            "grid_auto_flow": null,
            "grid_auto_rows": null,
            "grid_column": null,
            "grid_gap": null,
            "grid_row": null,
            "grid_template_areas": null,
            "grid_template_columns": null,
            "grid_template_rows": null,
            "height": null,
            "justify_content": null,
            "justify_items": null,
            "left": null,
            "margin": null,
            "max_height": null,
            "max_width": null,
            "min_height": null,
            "min_width": null,
            "object_fit": null,
            "object_position": null,
            "order": null,
            "overflow": null,
            "overflow_x": null,
            "overflow_y": null,
            "padding": null,
            "right": null,
            "top": null,
            "visibility": null,
            "width": null
          }
        },
        "9fd844946f34449886b9d520a1f2b646": {
          "model_module": "@jupyter-widgets/controls",
          "model_name": "ProgressStyleModel",
          "model_module_version": "1.5.0",
          "state": {
            "_model_module": "@jupyter-widgets/controls",
            "_model_module_version": "1.5.0",
            "_model_name": "ProgressStyleModel",
            "_view_count": null,
            "_view_module": "@jupyter-widgets/base",
            "_view_module_version": "1.2.0",
            "_view_name": "StyleView",
            "bar_color": null,
            "description_width": ""
          }
        },
        "0f9e190786c8410e9b8654802f9a1304": {
          "model_module": "@jupyter-widgets/base",
          "model_name": "LayoutModel",
          "model_module_version": "1.2.0",
          "state": {
            "_model_module": "@jupyter-widgets/base",
            "_model_module_version": "1.2.0",
            "_model_name": "LayoutModel",
            "_view_count": null,
            "_view_module": "@jupyter-widgets/base",
            "_view_module_version": "1.2.0",
            "_view_name": "LayoutView",
            "align_content": null,
            "align_items": null,
            "align_self": null,
            "border": null,
            "bottom": null,
            "display": null,
            "flex": null,
            "flex_flow": null,
            "grid_area": null,
            "grid_auto_columns": null,
            "grid_auto_flow": null,
            "grid_auto_rows": null,
            "grid_column": null,
            "grid_gap": null,
            "grid_row": null,
            "grid_template_areas": null,
            "grid_template_columns": null,
            "grid_template_rows": null,
            "height": null,
            "justify_content": null,
            "justify_items": null,
            "left": null,
            "margin": null,
            "max_height": null,
            "max_width": null,
            "min_height": null,
            "min_width": null,
            "object_fit": null,
            "object_position": null,
            "order": null,
            "overflow": null,
            "overflow_x": null,
            "overflow_y": null,
            "padding": null,
            "right": null,
            "top": null,
            "visibility": null,
            "width": null
          }
        },
        "e0ddcc65d0cf45aeae3f694e850d7f93": {
          "model_module": "@jupyter-widgets/controls",
          "model_name": "DescriptionStyleModel",
          "model_module_version": "1.5.0",
          "state": {
            "_model_module": "@jupyter-widgets/controls",
            "_model_module_version": "1.5.0",
            "_model_name": "DescriptionStyleModel",
            "_view_count": null,
            "_view_module": "@jupyter-widgets/base",
            "_view_module_version": "1.2.0",
            "_view_name": "StyleView",
            "description_width": ""
          }
        },
        "6b7251873d184233965ffe4843bb3001": {
          "model_module": "@jupyter-widgets/controls",
          "model_name": "HBoxModel",
          "model_module_version": "1.5.0",
          "state": {
            "_dom_classes": [],
            "_model_module": "@jupyter-widgets/controls",
            "_model_module_version": "1.5.0",
            "_model_name": "HBoxModel",
            "_view_count": null,
            "_view_module": "@jupyter-widgets/controls",
            "_view_module_version": "1.5.0",
            "_view_name": "HBoxView",
            "box_style": "",
            "children": [
              "IPY_MODEL_02f7e1f18aff4b2db9b3edf005f8a88a",
              "IPY_MODEL_625f6148532f40ca82c7003c2424c8ad",
              "IPY_MODEL_fdd9964e90664302b066ba29157182f2"
            ],
            "layout": "IPY_MODEL_723ed7f85ccb415c96e7edf044c16695"
          }
        },
        "02f7e1f18aff4b2db9b3edf005f8a88a": {
          "model_module": "@jupyter-widgets/controls",
          "model_name": "HTMLModel",
          "model_module_version": "1.5.0",
          "state": {
            "_dom_classes": [],
            "_model_module": "@jupyter-widgets/controls",
            "_model_module_version": "1.5.0",
            "_model_name": "HTMLModel",
            "_view_count": null,
            "_view_module": "@jupyter-widgets/controls",
            "_view_module_version": "1.5.0",
            "_view_name": "HTMLView",
            "description": "",
            "description_tooltip": null,
            "layout": "IPY_MODEL_ab5ec097c4be4829aeb17db97c51f1bf",
            "placeholder": "​",
            "style": "IPY_MODEL_2492b9f58c164a7f8664529b39d6d56b",
            "value": "100%"
          }
        },
        "625f6148532f40ca82c7003c2424c8ad": {
          "model_module": "@jupyter-widgets/controls",
          "model_name": "FloatProgressModel",
          "model_module_version": "1.5.0",
          "state": {
            "_dom_classes": [],
            "_model_module": "@jupyter-widgets/controls",
            "_model_module_version": "1.5.0",
            "_model_name": "FloatProgressModel",
            "_view_count": null,
            "_view_module": "@jupyter-widgets/controls",
            "_view_module_version": "1.5.0",
            "_view_name": "ProgressView",
            "bar_style": "success",
            "description": "",
            "description_tooltip": null,
            "layout": "IPY_MODEL_a176f2728a4a4a989dc5935cdd243d7b",
            "max": 1,
            "min": 0,
            "orientation": "horizontal",
            "style": "IPY_MODEL_ddfc1fc784b0466587778fbd4947bd5d",
            "value": 1
          }
        },
        "fdd9964e90664302b066ba29157182f2": {
          "model_module": "@jupyter-widgets/controls",
          "model_name": "HTMLModel",
          "model_module_version": "1.5.0",
          "state": {
            "_dom_classes": [],
            "_model_module": "@jupyter-widgets/controls",
            "_model_module_version": "1.5.0",
            "_model_name": "HTMLModel",
            "_view_count": null,
            "_view_module": "@jupyter-widgets/controls",
            "_view_module_version": "1.5.0",
            "_view_name": "HTMLView",
            "description": "",
            "description_tooltip": null,
            "layout": "IPY_MODEL_97f0a305f06c4e6e836ad1afd27650f0",
            "placeholder": "​",
            "style": "IPY_MODEL_cd16187e716b4fd29581d8b8ee0602bf",
            "value": " 1/1 [00:01&lt;00:00,  1.61s/it]"
          }
        },
        "723ed7f85ccb415c96e7edf044c16695": {
          "model_module": "@jupyter-widgets/base",
          "model_name": "LayoutModel",
          "model_module_version": "1.2.0",
          "state": {
            "_model_module": "@jupyter-widgets/base",
            "_model_module_version": "1.2.0",
            "_model_name": "LayoutModel",
            "_view_count": null,
            "_view_module": "@jupyter-widgets/base",
            "_view_module_version": "1.2.0",
            "_view_name": "LayoutView",
            "align_content": null,
            "align_items": null,
            "align_self": null,
            "border": null,
            "bottom": null,
            "display": null,
            "flex": null,
            "flex_flow": null,
            "grid_area": null,
            "grid_auto_columns": null,
            "grid_auto_flow": null,
            "grid_auto_rows": null,
            "grid_column": null,
            "grid_gap": null,
            "grid_row": null,
            "grid_template_areas": null,
            "grid_template_columns": null,
            "grid_template_rows": null,
            "height": null,
            "justify_content": null,
            "justify_items": null,
            "left": null,
            "margin": null,
            "max_height": null,
            "max_width": null,
            "min_height": null,
            "min_width": null,
            "object_fit": null,
            "object_position": null,
            "order": null,
            "overflow": null,
            "overflow_x": null,
            "overflow_y": null,
            "padding": null,
            "right": null,
            "top": null,
            "visibility": null,
            "width": null
          }
        },
        "ab5ec097c4be4829aeb17db97c51f1bf": {
          "model_module": "@jupyter-widgets/base",
          "model_name": "LayoutModel",
          "model_module_version": "1.2.0",
          "state": {
            "_model_module": "@jupyter-widgets/base",
            "_model_module_version": "1.2.0",
            "_model_name": "LayoutModel",
            "_view_count": null,
            "_view_module": "@jupyter-widgets/base",
            "_view_module_version": "1.2.0",
            "_view_name": "LayoutView",
            "align_content": null,
            "align_items": null,
            "align_self": null,
            "border": null,
            "bottom": null,
            "display": null,
            "flex": null,
            "flex_flow": null,
            "grid_area": null,
            "grid_auto_columns": null,
            "grid_auto_flow": null,
            "grid_auto_rows": null,
            "grid_column": null,
            "grid_gap": null,
            "grid_row": null,
            "grid_template_areas": null,
            "grid_template_columns": null,
            "grid_template_rows": null,
            "height": null,
            "justify_content": null,
            "justify_items": null,
            "left": null,
            "margin": null,
            "max_height": null,
            "max_width": null,
            "min_height": null,
            "min_width": null,
            "object_fit": null,
            "object_position": null,
            "order": null,
            "overflow": null,
            "overflow_x": null,
            "overflow_y": null,
            "padding": null,
            "right": null,
            "top": null,
            "visibility": null,
            "width": null
          }
        },
        "2492b9f58c164a7f8664529b39d6d56b": {
          "model_module": "@jupyter-widgets/controls",
          "model_name": "DescriptionStyleModel",
          "model_module_version": "1.5.0",
          "state": {
            "_model_module": "@jupyter-widgets/controls",
            "_model_module_version": "1.5.0",
            "_model_name": "DescriptionStyleModel",
            "_view_count": null,
            "_view_module": "@jupyter-widgets/base",
            "_view_module_version": "1.2.0",
            "_view_name": "StyleView",
            "description_width": ""
          }
        },
        "a176f2728a4a4a989dc5935cdd243d7b": {
          "model_module": "@jupyter-widgets/base",
          "model_name": "LayoutModel",
          "model_module_version": "1.2.0",
          "state": {
            "_model_module": "@jupyter-widgets/base",
            "_model_module_version": "1.2.0",
            "_model_name": "LayoutModel",
            "_view_count": null,
            "_view_module": "@jupyter-widgets/base",
            "_view_module_version": "1.2.0",
            "_view_name": "LayoutView",
            "align_content": null,
            "align_items": null,
            "align_self": null,
            "border": null,
            "bottom": null,
            "display": null,
            "flex": null,
            "flex_flow": null,
            "grid_area": null,
            "grid_auto_columns": null,
            "grid_auto_flow": null,
            "grid_auto_rows": null,
            "grid_column": null,
            "grid_gap": null,
            "grid_row": null,
            "grid_template_areas": null,
            "grid_template_columns": null,
            "grid_template_rows": null,
            "height": null,
            "justify_content": null,
            "justify_items": null,
            "left": null,
            "margin": null,
            "max_height": null,
            "max_width": null,
            "min_height": null,
            "min_width": null,
            "object_fit": null,
            "object_position": null,
            "order": null,
            "overflow": null,
            "overflow_x": null,
            "overflow_y": null,
            "padding": null,
            "right": null,
            "top": null,
            "visibility": null,
            "width": null
          }
        },
        "ddfc1fc784b0466587778fbd4947bd5d": {
          "model_module": "@jupyter-widgets/controls",
          "model_name": "ProgressStyleModel",
          "model_module_version": "1.5.0",
          "state": {
            "_model_module": "@jupyter-widgets/controls",
            "_model_module_version": "1.5.0",
            "_model_name": "ProgressStyleModel",
            "_view_count": null,
            "_view_module": "@jupyter-widgets/base",
            "_view_module_version": "1.2.0",
            "_view_name": "StyleView",
            "bar_color": null,
            "description_width": ""
          }
        },
        "97f0a305f06c4e6e836ad1afd27650f0": {
          "model_module": "@jupyter-widgets/base",
          "model_name": "LayoutModel",
          "model_module_version": "1.2.0",
          "state": {
            "_model_module": "@jupyter-widgets/base",
            "_model_module_version": "1.2.0",
            "_model_name": "LayoutModel",
            "_view_count": null,
            "_view_module": "@jupyter-widgets/base",
            "_view_module_version": "1.2.0",
            "_view_name": "LayoutView",
            "align_content": null,
            "align_items": null,
            "align_self": null,
            "border": null,
            "bottom": null,
            "display": null,
            "flex": null,
            "flex_flow": null,
            "grid_area": null,
            "grid_auto_columns": null,
            "grid_auto_flow": null,
            "grid_auto_rows": null,
            "grid_column": null,
            "grid_gap": null,
            "grid_row": null,
            "grid_template_areas": null,
            "grid_template_columns": null,
            "grid_template_rows": null,
            "height": null,
            "justify_content": null,
            "justify_items": null,
            "left": null,
            "margin": null,
            "max_height": null,
            "max_width": null,
            "min_height": null,
            "min_width": null,
            "object_fit": null,
            "object_position": null,
            "order": null,
            "overflow": null,
            "overflow_x": null,
            "overflow_y": null,
            "padding": null,
            "right": null,
            "top": null,
            "visibility": null,
            "width": null
          }
        },
        "cd16187e716b4fd29581d8b8ee0602bf": {
          "model_module": "@jupyter-widgets/controls",
          "model_name": "DescriptionStyleModel",
          "model_module_version": "1.5.0",
          "state": {
            "_model_module": "@jupyter-widgets/controls",
            "_model_module_version": "1.5.0",
            "_model_name": "DescriptionStyleModel",
            "_view_count": null,
            "_view_module": "@jupyter-widgets/base",
            "_view_module_version": "1.2.0",
            "_view_name": "StyleView",
            "description_width": ""
          }
        },
        "6a6eccc5bfc44d49a41e11deb0e9c42d": {
          "model_module": "@jupyter-widgets/controls",
          "model_name": "HBoxModel",
          "model_module_version": "1.5.0",
          "state": {
            "_dom_classes": [],
            "_model_module": "@jupyter-widgets/controls",
            "_model_module_version": "1.5.0",
            "_model_name": "HBoxModel",
            "_view_count": null,
            "_view_module": "@jupyter-widgets/controls",
            "_view_module_version": "1.5.0",
            "_view_name": "HBoxView",
            "box_style": "",
            "children": [
              "IPY_MODEL_b9557d602030479c869eb569737a51f6",
              "IPY_MODEL_a98401f84a2c4b609baabbd1d3f407ba",
              "IPY_MODEL_11ed266d33a64c6c947c99e524646458"
            ],
            "layout": "IPY_MODEL_d772519bc0534effa0b2c1782a476030"
          }
        },
        "b9557d602030479c869eb569737a51f6": {
          "model_module": "@jupyter-widgets/controls",
          "model_name": "HTMLModel",
          "model_module_version": "1.5.0",
          "state": {
            "_dom_classes": [],
            "_model_module": "@jupyter-widgets/controls",
            "_model_module_version": "1.5.0",
            "_model_name": "HTMLModel",
            "_view_count": null,
            "_view_module": "@jupyter-widgets/controls",
            "_view_module_version": "1.5.0",
            "_view_name": "HTMLView",
            "description": "",
            "description_tooltip": null,
            "layout": "IPY_MODEL_f969ef0e7e844834a92a9b2d84e6dd54",
            "placeholder": "​",
            "style": "IPY_MODEL_4e04cda12ec84466a0ceefa6b540d4be",
            "value": "100%"
          }
        },
        "a98401f84a2c4b609baabbd1d3f407ba": {
          "model_module": "@jupyter-widgets/controls",
          "model_name": "FloatProgressModel",
          "model_module_version": "1.5.0",
          "state": {
            "_dom_classes": [],
            "_model_module": "@jupyter-widgets/controls",
            "_model_module_version": "1.5.0",
            "_model_name": "FloatProgressModel",
            "_view_count": null,
            "_view_module": "@jupyter-widgets/controls",
            "_view_module_version": "1.5.0",
            "_view_name": "ProgressView",
            "bar_style": "success",
            "description": "",
            "description_tooltip": null,
            "layout": "IPY_MODEL_67c738f825374a00be87a988f054bbc7",
            "max": 2,
            "min": 0,
            "orientation": "horizontal",
            "style": "IPY_MODEL_8a6016bb4f0e402f8f51958dc536344e",
            "value": 2
          }
        },
        "11ed266d33a64c6c947c99e524646458": {
          "model_module": "@jupyter-widgets/controls",
          "model_name": "HTMLModel",
          "model_module_version": "1.5.0",
          "state": {
            "_dom_classes": [],
            "_model_module": "@jupyter-widgets/controls",
            "_model_module_version": "1.5.0",
            "_model_name": "HTMLModel",
            "_view_count": null,
            "_view_module": "@jupyter-widgets/controls",
            "_view_module_version": "1.5.0",
            "_view_name": "HTMLView",
            "description": "",
            "description_tooltip": null,
            "layout": "IPY_MODEL_b4a64e21143b4ed5a53dcea0c4ce8645",
            "placeholder": "​",
            "style": "IPY_MODEL_ceb11e15d2a04f438f0710d8be0870e7",
            "value": " 2/2 [00:01&lt;00:00,  1.04it/s]"
          }
        },
        "d772519bc0534effa0b2c1782a476030": {
          "model_module": "@jupyter-widgets/base",
          "model_name": "LayoutModel",
          "model_module_version": "1.2.0",
          "state": {
            "_model_module": "@jupyter-widgets/base",
            "_model_module_version": "1.2.0",
            "_model_name": "LayoutModel",
            "_view_count": null,
            "_view_module": "@jupyter-widgets/base",
            "_view_module_version": "1.2.0",
            "_view_name": "LayoutView",
            "align_content": null,
            "align_items": null,
            "align_self": null,
            "border": null,
            "bottom": null,
            "display": null,
            "flex": null,
            "flex_flow": null,
            "grid_area": null,
            "grid_auto_columns": null,
            "grid_auto_flow": null,
            "grid_auto_rows": null,
            "grid_column": null,
            "grid_gap": null,
            "grid_row": null,
            "grid_template_areas": null,
            "grid_template_columns": null,
            "grid_template_rows": null,
            "height": null,
            "justify_content": null,
            "justify_items": null,
            "left": null,
            "margin": null,
            "max_height": null,
            "max_width": null,
            "min_height": null,
            "min_width": null,
            "object_fit": null,
            "object_position": null,
            "order": null,
            "overflow": null,
            "overflow_x": null,
            "overflow_y": null,
            "padding": null,
            "right": null,
            "top": null,
            "visibility": null,
            "width": null
          }
        },
        "f969ef0e7e844834a92a9b2d84e6dd54": {
          "model_module": "@jupyter-widgets/base",
          "model_name": "LayoutModel",
          "model_module_version": "1.2.0",
          "state": {
            "_model_module": "@jupyter-widgets/base",
            "_model_module_version": "1.2.0",
            "_model_name": "LayoutModel",
            "_view_count": null,
            "_view_module": "@jupyter-widgets/base",
            "_view_module_version": "1.2.0",
            "_view_name": "LayoutView",
            "align_content": null,
            "align_items": null,
            "align_self": null,
            "border": null,
            "bottom": null,
            "display": null,
            "flex": null,
            "flex_flow": null,
            "grid_area": null,
            "grid_auto_columns": null,
            "grid_auto_flow": null,
            "grid_auto_rows": null,
            "grid_column": null,
            "grid_gap": null,
            "grid_row": null,
            "grid_template_areas": null,
            "grid_template_columns": null,
            "grid_template_rows": null,
            "height": null,
            "justify_content": null,
            "justify_items": null,
            "left": null,
            "margin": null,
            "max_height": null,
            "max_width": null,
            "min_height": null,
            "min_width": null,
            "object_fit": null,
            "object_position": null,
            "order": null,
            "overflow": null,
            "overflow_x": null,
            "overflow_y": null,
            "padding": null,
            "right": null,
            "top": null,
            "visibility": null,
            "width": null
          }
        },
        "4e04cda12ec84466a0ceefa6b540d4be": {
          "model_module": "@jupyter-widgets/controls",
          "model_name": "DescriptionStyleModel",
          "model_module_version": "1.5.0",
          "state": {
            "_model_module": "@jupyter-widgets/controls",
            "_model_module_version": "1.5.0",
            "_model_name": "DescriptionStyleModel",
            "_view_count": null,
            "_view_module": "@jupyter-widgets/base",
            "_view_module_version": "1.2.0",
            "_view_name": "StyleView",
            "description_width": ""
          }
        },
        "67c738f825374a00be87a988f054bbc7": {
          "model_module": "@jupyter-widgets/base",
          "model_name": "LayoutModel",
          "model_module_version": "1.2.0",
          "state": {
            "_model_module": "@jupyter-widgets/base",
            "_model_module_version": "1.2.0",
            "_model_name": "LayoutModel",
            "_view_count": null,
            "_view_module": "@jupyter-widgets/base",
            "_view_module_version": "1.2.0",
            "_view_name": "LayoutView",
            "align_content": null,
            "align_items": null,
            "align_self": null,
            "border": null,
            "bottom": null,
            "display": null,
            "flex": null,
            "flex_flow": null,
            "grid_area": null,
            "grid_auto_columns": null,
            "grid_auto_flow": null,
            "grid_auto_rows": null,
            "grid_column": null,
            "grid_gap": null,
            "grid_row": null,
            "grid_template_areas": null,
            "grid_template_columns": null,
            "grid_template_rows": null,
            "height": null,
            "justify_content": null,
            "justify_items": null,
            "left": null,
            "margin": null,
            "max_height": null,
            "max_width": null,
            "min_height": null,
            "min_width": null,
            "object_fit": null,
            "object_position": null,
            "order": null,
            "overflow": null,
            "overflow_x": null,
            "overflow_y": null,
            "padding": null,
            "right": null,
            "top": null,
            "visibility": null,
            "width": null
          }
        },
        "8a6016bb4f0e402f8f51958dc536344e": {
          "model_module": "@jupyter-widgets/controls",
          "model_name": "ProgressStyleModel",
          "model_module_version": "1.5.0",
          "state": {
            "_model_module": "@jupyter-widgets/controls",
            "_model_module_version": "1.5.0",
            "_model_name": "ProgressStyleModel",
            "_view_count": null,
            "_view_module": "@jupyter-widgets/base",
            "_view_module_version": "1.2.0",
            "_view_name": "StyleView",
            "bar_color": null,
            "description_width": ""
          }
        },
        "b4a64e21143b4ed5a53dcea0c4ce8645": {
          "model_module": "@jupyter-widgets/base",
          "model_name": "LayoutModel",
          "model_module_version": "1.2.0",
          "state": {
            "_model_module": "@jupyter-widgets/base",
            "_model_module_version": "1.2.0",
            "_model_name": "LayoutModel",
            "_view_count": null,
            "_view_module": "@jupyter-widgets/base",
            "_view_module_version": "1.2.0",
            "_view_name": "LayoutView",
            "align_content": null,
            "align_items": null,
            "align_self": null,
            "border": null,
            "bottom": null,
            "display": null,
            "flex": null,
            "flex_flow": null,
            "grid_area": null,
            "grid_auto_columns": null,
            "grid_auto_flow": null,
            "grid_auto_rows": null,
            "grid_column": null,
            "grid_gap": null,
            "grid_row": null,
            "grid_template_areas": null,
            "grid_template_columns": null,
            "grid_template_rows": null,
            "height": null,
            "justify_content": null,
            "justify_items": null,
            "left": null,
            "margin": null,
            "max_height": null,
            "max_width": null,
            "min_height": null,
            "min_width": null,
            "object_fit": null,
            "object_position": null,
            "order": null,
            "overflow": null,
            "overflow_x": null,
            "overflow_y": null,
            "padding": null,
            "right": null,
            "top": null,
            "visibility": null,
            "width": null
          }
        },
        "ceb11e15d2a04f438f0710d8be0870e7": {
          "model_module": "@jupyter-widgets/controls",
          "model_name": "DescriptionStyleModel",
          "model_module_version": "1.5.0",
          "state": {
            "_model_module": "@jupyter-widgets/controls",
            "_model_module_version": "1.5.0",
            "_model_name": "DescriptionStyleModel",
            "_view_count": null,
            "_view_module": "@jupyter-widgets/base",
            "_view_module_version": "1.2.0",
            "_view_name": "StyleView",
            "description_width": ""
          }
        },
        "ceaa6ed62807470b819fa7b88f8b6527": {
          "model_module": "@jupyter-widgets/controls",
          "model_name": "HBoxModel",
          "model_module_version": "1.5.0",
          "state": {
            "_dom_classes": [],
            "_model_module": "@jupyter-widgets/controls",
            "_model_module_version": "1.5.0",
            "_model_name": "HBoxModel",
            "_view_count": null,
            "_view_module": "@jupyter-widgets/controls",
            "_view_module_version": "1.5.0",
            "_view_name": "HBoxView",
            "box_style": "",
            "children": [
              "IPY_MODEL_df477cb5ca944be4bb423feb12035019",
              "IPY_MODEL_a3cd2288998f42248d95069c7688ab33",
              "IPY_MODEL_652e0ccbfacf4de2b6e8a0977540b963"
            ],
            "layout": "IPY_MODEL_046fcc900d484d9cae14cbc3dd52dd7e"
          }
        },
        "df477cb5ca944be4bb423feb12035019": {
          "model_module": "@jupyter-widgets/controls",
          "model_name": "HTMLModel",
          "model_module_version": "1.5.0",
          "state": {
            "_dom_classes": [],
            "_model_module": "@jupyter-widgets/controls",
            "_model_module_version": "1.5.0",
            "_model_name": "HTMLModel",
            "_view_count": null,
            "_view_module": "@jupyter-widgets/controls",
            "_view_module_version": "1.5.0",
            "_view_name": "HTMLView",
            "description": "",
            "description_tooltip": null,
            "layout": "IPY_MODEL_c19c7f7c5e1f4588ab0f7f55a9355862",
            "placeholder": "​",
            "style": "IPY_MODEL_e2ba21814f04456097210c58416e759f",
            "value": "100%"
          }
        },
        "a3cd2288998f42248d95069c7688ab33": {
          "model_module": "@jupyter-widgets/controls",
          "model_name": "FloatProgressModel",
          "model_module_version": "1.5.0",
          "state": {
            "_dom_classes": [],
            "_model_module": "@jupyter-widgets/controls",
            "_model_module_version": "1.5.0",
            "_model_name": "FloatProgressModel",
            "_view_count": null,
            "_view_module": "@jupyter-widgets/controls",
            "_view_module_version": "1.5.0",
            "_view_name": "ProgressView",
            "bar_style": "success",
            "description": "",
            "description_tooltip": null,
            "layout": "IPY_MODEL_25b75527f3834ae8949ef25d80d0edd6",
            "max": 2,
            "min": 0,
            "orientation": "horizontal",
            "style": "IPY_MODEL_92cc57eac9ed43d496e0ecd71bc65eb3",
            "value": 2
          }
        },
        "652e0ccbfacf4de2b6e8a0977540b963": {
          "model_module": "@jupyter-widgets/controls",
          "model_name": "HTMLModel",
          "model_module_version": "1.5.0",
          "state": {
            "_dom_classes": [],
            "_model_module": "@jupyter-widgets/controls",
            "_model_module_version": "1.5.0",
            "_model_name": "HTMLModel",
            "_view_count": null,
            "_view_module": "@jupyter-widgets/controls",
            "_view_module_version": "1.5.0",
            "_view_name": "HTMLView",
            "description": "",
            "description_tooltip": null,
            "layout": "IPY_MODEL_f371db17b1584420a44832c6e7248faf",
            "placeholder": "​",
            "style": "IPY_MODEL_19fef86d98414c959d851eee8ee73bd7",
            "value": " 2/2 [00:00&lt;00:00,  3.08it/s]"
          }
        },
        "046fcc900d484d9cae14cbc3dd52dd7e": {
          "model_module": "@jupyter-widgets/base",
          "model_name": "LayoutModel",
          "model_module_version": "1.2.0",
          "state": {
            "_model_module": "@jupyter-widgets/base",
            "_model_module_version": "1.2.0",
            "_model_name": "LayoutModel",
            "_view_count": null,
            "_view_module": "@jupyter-widgets/base",
            "_view_module_version": "1.2.0",
            "_view_name": "LayoutView",
            "align_content": null,
            "align_items": null,
            "align_self": null,
            "border": null,
            "bottom": null,
            "display": null,
            "flex": null,
            "flex_flow": null,
            "grid_area": null,
            "grid_auto_columns": null,
            "grid_auto_flow": null,
            "grid_auto_rows": null,
            "grid_column": null,
            "grid_gap": null,
            "grid_row": null,
            "grid_template_areas": null,
            "grid_template_columns": null,
            "grid_template_rows": null,
            "height": null,
            "justify_content": null,
            "justify_items": null,
            "left": null,
            "margin": null,
            "max_height": null,
            "max_width": null,
            "min_height": null,
            "min_width": null,
            "object_fit": null,
            "object_position": null,
            "order": null,
            "overflow": null,
            "overflow_x": null,
            "overflow_y": null,
            "padding": null,
            "right": null,
            "top": null,
            "visibility": null,
            "width": null
          }
        },
        "c19c7f7c5e1f4588ab0f7f55a9355862": {
          "model_module": "@jupyter-widgets/base",
          "model_name": "LayoutModel",
          "model_module_version": "1.2.0",
          "state": {
            "_model_module": "@jupyter-widgets/base",
            "_model_module_version": "1.2.0",
            "_model_name": "LayoutModel",
            "_view_count": null,
            "_view_module": "@jupyter-widgets/base",
            "_view_module_version": "1.2.0",
            "_view_name": "LayoutView",
            "align_content": null,
            "align_items": null,
            "align_self": null,
            "border": null,
            "bottom": null,
            "display": null,
            "flex": null,
            "flex_flow": null,
            "grid_area": null,
            "grid_auto_columns": null,
            "grid_auto_flow": null,
            "grid_auto_rows": null,
            "grid_column": null,
            "grid_gap": null,
            "grid_row": null,
            "grid_template_areas": null,
            "grid_template_columns": null,
            "grid_template_rows": null,
            "height": null,
            "justify_content": null,
            "justify_items": null,
            "left": null,
            "margin": null,
            "max_height": null,
            "max_width": null,
            "min_height": null,
            "min_width": null,
            "object_fit": null,
            "object_position": null,
            "order": null,
            "overflow": null,
            "overflow_x": null,
            "overflow_y": null,
            "padding": null,
            "right": null,
            "top": null,
            "visibility": null,
            "width": null
          }
        },
        "e2ba21814f04456097210c58416e759f": {
          "model_module": "@jupyter-widgets/controls",
          "model_name": "DescriptionStyleModel",
          "model_module_version": "1.5.0",
          "state": {
            "_model_module": "@jupyter-widgets/controls",
            "_model_module_version": "1.5.0",
            "_model_name": "DescriptionStyleModel",
            "_view_count": null,
            "_view_module": "@jupyter-widgets/base",
            "_view_module_version": "1.2.0",
            "_view_name": "StyleView",
            "description_width": ""
          }
        },
        "25b75527f3834ae8949ef25d80d0edd6": {
          "model_module": "@jupyter-widgets/base",
          "model_name": "LayoutModel",
          "model_module_version": "1.2.0",
          "state": {
            "_model_module": "@jupyter-widgets/base",
            "_model_module_version": "1.2.0",
            "_model_name": "LayoutModel",
            "_view_count": null,
            "_view_module": "@jupyter-widgets/base",
            "_view_module_version": "1.2.0",
            "_view_name": "LayoutView",
            "align_content": null,
            "align_items": null,
            "align_self": null,
            "border": null,
            "bottom": null,
            "display": null,
            "flex": null,
            "flex_flow": null,
            "grid_area": null,
            "grid_auto_columns": null,
            "grid_auto_flow": null,
            "grid_auto_rows": null,
            "grid_column": null,
            "grid_gap": null,
            "grid_row": null,
            "grid_template_areas": null,
            "grid_template_columns": null,
            "grid_template_rows": null,
            "height": null,
            "justify_content": null,
            "justify_items": null,
            "left": null,
            "margin": null,
            "max_height": null,
            "max_width": null,
            "min_height": null,
            "min_width": null,
            "object_fit": null,
            "object_position": null,
            "order": null,
            "overflow": null,
            "overflow_x": null,
            "overflow_y": null,
            "padding": null,
            "right": null,
            "top": null,
            "visibility": null,
            "width": null
          }
        },
        "92cc57eac9ed43d496e0ecd71bc65eb3": {
          "model_module": "@jupyter-widgets/controls",
          "model_name": "ProgressStyleModel",
          "model_module_version": "1.5.0",
          "state": {
            "_model_module": "@jupyter-widgets/controls",
            "_model_module_version": "1.5.0",
            "_model_name": "ProgressStyleModel",
            "_view_count": null,
            "_view_module": "@jupyter-widgets/base",
            "_view_module_version": "1.2.0",
            "_view_name": "StyleView",
            "bar_color": null,
            "description_width": ""
          }
        },
        "f371db17b1584420a44832c6e7248faf": {
          "model_module": "@jupyter-widgets/base",
          "model_name": "LayoutModel",
          "model_module_version": "1.2.0",
          "state": {
            "_model_module": "@jupyter-widgets/base",
            "_model_module_version": "1.2.0",
            "_model_name": "LayoutModel",
            "_view_count": null,
            "_view_module": "@jupyter-widgets/base",
            "_view_module_version": "1.2.0",
            "_view_name": "LayoutView",
            "align_content": null,
            "align_items": null,
            "align_self": null,
            "border": null,
            "bottom": null,
            "display": null,
            "flex": null,
            "flex_flow": null,
            "grid_area": null,
            "grid_auto_columns": null,
            "grid_auto_flow": null,
            "grid_auto_rows": null,
            "grid_column": null,
            "grid_gap": null,
            "grid_row": null,
            "grid_template_areas": null,
            "grid_template_columns": null,
            "grid_template_rows": null,
            "height": null,
            "justify_content": null,
            "justify_items": null,
            "left": null,
            "margin": null,
            "max_height": null,
            "max_width": null,
            "min_height": null,
            "min_width": null,
            "object_fit": null,
            "object_position": null,
            "order": null,
            "overflow": null,
            "overflow_x": null,
            "overflow_y": null,
            "padding": null,
            "right": null,
            "top": null,
            "visibility": null,
            "width": null
          }
        },
        "19fef86d98414c959d851eee8ee73bd7": {
          "model_module": "@jupyter-widgets/controls",
          "model_name": "DescriptionStyleModel",
          "model_module_version": "1.5.0",
          "state": {
            "_model_module": "@jupyter-widgets/controls",
            "_model_module_version": "1.5.0",
            "_model_name": "DescriptionStyleModel",
            "_view_count": null,
            "_view_module": "@jupyter-widgets/base",
            "_view_module_version": "1.2.0",
            "_view_name": "StyleView",
            "description_width": ""
          }
        },
        "6bb6e4cf8c7e4452ab1c70fbf2eea144": {
          "model_module": "@jupyter-widgets/controls",
          "model_name": "HBoxModel",
          "model_module_version": "1.5.0",
          "state": {
            "_dom_classes": [],
            "_model_module": "@jupyter-widgets/controls",
            "_model_module_version": "1.5.0",
            "_model_name": "HBoxModel",
            "_view_count": null,
            "_view_module": "@jupyter-widgets/controls",
            "_view_module_version": "1.5.0",
            "_view_name": "HBoxView",
            "box_style": "",
            "children": [
              "IPY_MODEL_8f58635b8afd4d6293205bca7cddf1fa",
              "IPY_MODEL_aa037cc82370462e9cb7d41f88632ae9",
              "IPY_MODEL_3087d9b664914cf1a3173c8c4c9da9c7"
            ],
            "layout": "IPY_MODEL_a0fcb43c531a487d85d834e3f4757ad1"
          }
        },
        "8f58635b8afd4d6293205bca7cddf1fa": {
          "model_module": "@jupyter-widgets/controls",
          "model_name": "HTMLModel",
          "model_module_version": "1.5.0",
          "state": {
            "_dom_classes": [],
            "_model_module": "@jupyter-widgets/controls",
            "_model_module_version": "1.5.0",
            "_model_name": "HTMLModel",
            "_view_count": null,
            "_view_module": "@jupyter-widgets/controls",
            "_view_module_version": "1.5.0",
            "_view_name": "HTMLView",
            "description": "",
            "description_tooltip": null,
            "layout": "IPY_MODEL_f418bd1f31974f89907b2403ebb44c05",
            "placeholder": "​",
            "style": "IPY_MODEL_ce69cbb76cc841b59c042ac0bee8e5df",
            "value": "100%"
          }
        },
        "aa037cc82370462e9cb7d41f88632ae9": {
          "model_module": "@jupyter-widgets/controls",
          "model_name": "FloatProgressModel",
          "model_module_version": "1.5.0",
          "state": {
            "_dom_classes": [],
            "_model_module": "@jupyter-widgets/controls",
            "_model_module_version": "1.5.0",
            "_model_name": "FloatProgressModel",
            "_view_count": null,
            "_view_module": "@jupyter-widgets/controls",
            "_view_module_version": "1.5.0",
            "_view_name": "ProgressView",
            "bar_style": "success",
            "description": "",
            "description_tooltip": null,
            "layout": "IPY_MODEL_e775b5672cbc4755bdd9d2636fc497e7",
            "max": 2,
            "min": 0,
            "orientation": "horizontal",
            "style": "IPY_MODEL_87d39fb26353448ca2f398c1dde67c21",
            "value": 2
          }
        },
        "3087d9b664914cf1a3173c8c4c9da9c7": {
          "model_module": "@jupyter-widgets/controls",
          "model_name": "HTMLModel",
          "model_module_version": "1.5.0",
          "state": {
            "_dom_classes": [],
            "_model_module": "@jupyter-widgets/controls",
            "_model_module_version": "1.5.0",
            "_model_name": "HTMLModel",
            "_view_count": null,
            "_view_module": "@jupyter-widgets/controls",
            "_view_module_version": "1.5.0",
            "_view_name": "HTMLView",
            "description": "",
            "description_tooltip": null,
            "layout": "IPY_MODEL_f488ca196f54464c88fefa29ddb56f54",
            "placeholder": "​",
            "style": "IPY_MODEL_6aa9496c433f403db058cb69f3d7e2d3",
            "value": " 2/2 [00:00&lt;00:00,  8.62it/s]"
          }
        },
        "a0fcb43c531a487d85d834e3f4757ad1": {
          "model_module": "@jupyter-widgets/base",
          "model_name": "LayoutModel",
          "model_module_version": "1.2.0",
          "state": {
            "_model_module": "@jupyter-widgets/base",
            "_model_module_version": "1.2.0",
            "_model_name": "LayoutModel",
            "_view_count": null,
            "_view_module": "@jupyter-widgets/base",
            "_view_module_version": "1.2.0",
            "_view_name": "LayoutView",
            "align_content": null,
            "align_items": null,
            "align_self": null,
            "border": null,
            "bottom": null,
            "display": null,
            "flex": null,
            "flex_flow": null,
            "grid_area": null,
            "grid_auto_columns": null,
            "grid_auto_flow": null,
            "grid_auto_rows": null,
            "grid_column": null,
            "grid_gap": null,
            "grid_row": null,
            "grid_template_areas": null,
            "grid_template_columns": null,
            "grid_template_rows": null,
            "height": null,
            "justify_content": null,
            "justify_items": null,
            "left": null,
            "margin": null,
            "max_height": null,
            "max_width": null,
            "min_height": null,
            "min_width": null,
            "object_fit": null,
            "object_position": null,
            "order": null,
            "overflow": null,
            "overflow_x": null,
            "overflow_y": null,
            "padding": null,
            "right": null,
            "top": null,
            "visibility": null,
            "width": null
          }
        },
        "f418bd1f31974f89907b2403ebb44c05": {
          "model_module": "@jupyter-widgets/base",
          "model_name": "LayoutModel",
          "model_module_version": "1.2.0",
          "state": {
            "_model_module": "@jupyter-widgets/base",
            "_model_module_version": "1.2.0",
            "_model_name": "LayoutModel",
            "_view_count": null,
            "_view_module": "@jupyter-widgets/base",
            "_view_module_version": "1.2.0",
            "_view_name": "LayoutView",
            "align_content": null,
            "align_items": null,
            "align_self": null,
            "border": null,
            "bottom": null,
            "display": null,
            "flex": null,
            "flex_flow": null,
            "grid_area": null,
            "grid_auto_columns": null,
            "grid_auto_flow": null,
            "grid_auto_rows": null,
            "grid_column": null,
            "grid_gap": null,
            "grid_row": null,
            "grid_template_areas": null,
            "grid_template_columns": null,
            "grid_template_rows": null,
            "height": null,
            "justify_content": null,
            "justify_items": null,
            "left": null,
            "margin": null,
            "max_height": null,
            "max_width": null,
            "min_height": null,
            "min_width": null,
            "object_fit": null,
            "object_position": null,
            "order": null,
            "overflow": null,
            "overflow_x": null,
            "overflow_y": null,
            "padding": null,
            "right": null,
            "top": null,
            "visibility": null,
            "width": null
          }
        },
        "ce69cbb76cc841b59c042ac0bee8e5df": {
          "model_module": "@jupyter-widgets/controls",
          "model_name": "DescriptionStyleModel",
          "model_module_version": "1.5.0",
          "state": {
            "_model_module": "@jupyter-widgets/controls",
            "_model_module_version": "1.5.0",
            "_model_name": "DescriptionStyleModel",
            "_view_count": null,
            "_view_module": "@jupyter-widgets/base",
            "_view_module_version": "1.2.0",
            "_view_name": "StyleView",
            "description_width": ""
          }
        },
        "e775b5672cbc4755bdd9d2636fc497e7": {
          "model_module": "@jupyter-widgets/base",
          "model_name": "LayoutModel",
          "model_module_version": "1.2.0",
          "state": {
            "_model_module": "@jupyter-widgets/base",
            "_model_module_version": "1.2.0",
            "_model_name": "LayoutModel",
            "_view_count": null,
            "_view_module": "@jupyter-widgets/base",
            "_view_module_version": "1.2.0",
            "_view_name": "LayoutView",
            "align_content": null,
            "align_items": null,
            "align_self": null,
            "border": null,
            "bottom": null,
            "display": null,
            "flex": null,
            "flex_flow": null,
            "grid_area": null,
            "grid_auto_columns": null,
            "grid_auto_flow": null,
            "grid_auto_rows": null,
            "grid_column": null,
            "grid_gap": null,
            "grid_row": null,
            "grid_template_areas": null,
            "grid_template_columns": null,
            "grid_template_rows": null,
            "height": null,
            "justify_content": null,
            "justify_items": null,
            "left": null,
            "margin": null,
            "max_height": null,
            "max_width": null,
            "min_height": null,
            "min_width": null,
            "object_fit": null,
            "object_position": null,
            "order": null,
            "overflow": null,
            "overflow_x": null,
            "overflow_y": null,
            "padding": null,
            "right": null,
            "top": null,
            "visibility": null,
            "width": null
          }
        },
        "87d39fb26353448ca2f398c1dde67c21": {
          "model_module": "@jupyter-widgets/controls",
          "model_name": "ProgressStyleModel",
          "model_module_version": "1.5.0",
          "state": {
            "_model_module": "@jupyter-widgets/controls",
            "_model_module_version": "1.5.0",
            "_model_name": "ProgressStyleModel",
            "_view_count": null,
            "_view_module": "@jupyter-widgets/base",
            "_view_module_version": "1.2.0",
            "_view_name": "StyleView",
            "bar_color": null,
            "description_width": ""
          }
        },
        "f488ca196f54464c88fefa29ddb56f54": {
          "model_module": "@jupyter-widgets/base",
          "model_name": "LayoutModel",
          "model_module_version": "1.2.0",
          "state": {
            "_model_module": "@jupyter-widgets/base",
            "_model_module_version": "1.2.0",
            "_model_name": "LayoutModel",
            "_view_count": null,
            "_view_module": "@jupyter-widgets/base",
            "_view_module_version": "1.2.0",
            "_view_name": "LayoutView",
            "align_content": null,
            "align_items": null,
            "align_self": null,
            "border": null,
            "bottom": null,
            "display": null,
            "flex": null,
            "flex_flow": null,
            "grid_area": null,
            "grid_auto_columns": null,
            "grid_auto_flow": null,
            "grid_auto_rows": null,
            "grid_column": null,
            "grid_gap": null,
            "grid_row": null,
            "grid_template_areas": null,
            "grid_template_columns": null,
            "grid_template_rows": null,
            "height": null,
            "justify_content": null,
            "justify_items": null,
            "left": null,
            "margin": null,
            "max_height": null,
            "max_width": null,
            "min_height": null,
            "min_width": null,
            "object_fit": null,
            "object_position": null,
            "order": null,
            "overflow": null,
            "overflow_x": null,
            "overflow_y": null,
            "padding": null,
            "right": null,
            "top": null,
            "visibility": null,
            "width": null
          }
        },
        "6aa9496c433f403db058cb69f3d7e2d3": {
          "model_module": "@jupyter-widgets/controls",
          "model_name": "DescriptionStyleModel",
          "model_module_version": "1.5.0",
          "state": {
            "_model_module": "@jupyter-widgets/controls",
            "_model_module_version": "1.5.0",
            "_model_name": "DescriptionStyleModel",
            "_view_count": null,
            "_view_module": "@jupyter-widgets/base",
            "_view_module_version": "1.2.0",
            "_view_name": "StyleView",
            "description_width": ""
          }
        }
      }
    }
  },
  "cells": [
    {
      "cell_type": "markdown",
      "metadata": {
        "id": "view-in-github",
        "colab_type": "text"
      },
      "source": [
        "<a href=\"https://colab.research.google.com/github/dinesh-umkc/kdm/blob/main/ICP6_LCA.ipynb\" target=\"_parent\"><img src=\"https://colab.research.google.com/assets/colab-badge.svg\" alt=\"Open In Colab\"/></a>"
      ]
    },
    {
      "cell_type": "markdown",
      "source": [
        "#LCA- Topic Modeling\n",
        "#Objective\n",
        "1. Get books from https://www.gutenberg.org \n",
        "2. Clean content from book data\n",
        "3. Get topics using LCA\n",
        "4. Get content from Reddit\n",
        "5. Clean content from thread data\n",
        "6. Get topics using LCA"
      ],
      "metadata": {
        "id": "exDdnjbDA0Sp"
      }
    },
    {
      "cell_type": "code",
      "execution_count": 7,
      "metadata": {
        "id": "oMCoc3J-AW_q"
      },
      "outputs": [],
      "source": [
        "import urllib\n",
        "from bs4 import BeautifulSoup\n",
        "\n",
        "from urllib.request import urlopen\n",
        "from bs4 import BeautifulSoup\n",
        "documents = []\n",
        "\n",
        "import re\n",
        "regex = re.compile(r'<[^>]+>')\n",
        "\n",
        "def remove_html(string):\n",
        "    return regex.sub('', string)\n",
        "\n",
        "def getContent(url): \n",
        "  #url = \"https://www.gutenberg.org/files/55/55-h/55-h.htm\" \n",
        "  html = urlopen(url).read()\n",
        "  soup = BeautifulSoup(html, features=\"html.parser\")\n",
        "  for script in soup([\"script\", \"style\"]):\n",
        "    script.extract()\n",
        "  text = soup.get_text()\n",
        "  documents.append(remove_html(text))\n",
        "\n",
        "url=\"https://www.gutenberg.org/files/55/55-h/55-h.htm\"\n",
        "getContent(url)\n",
        "(documents[0])[:500]\n",
        "url = \"https://www.gutenberg.org/files/54/54-h/54-h.htm\" \n",
        "getContent(url)\n",
        "url = \"https://www.gutenberg.org/files/33361/33361-h/33361-h.htm\" \n",
        "getContent(url)\n",
        "url = \"https://www.gutenberg.org/files/22566/22566-h/22566-h.htm\" \n",
        "getContent(url)\n",
        "url = \"https://www.gutenberg.org/files/26624/26624-h/26624-h.htm\" \n",
        "getContent(url)\n",
        "\n"
      ]
    },
    {
      "cell_type": "code",
      "source": [
        "import nltk\n",
        "nltk.download('stopwords')\n",
        "from sklearn.feature_extraction.text import TfidfVectorizer,CountVectorizer\n",
        "\n",
        "tfidf_vect = CountVectorizer(analyzer='word', stop_words = 'english')\n",
        "df=tfidf_vect.fit_transform(documents)\n",
        "vocab = tfidf_vect.get_feature_names_out()\n"
      ],
      "metadata": {
        "colab": {
          "base_uri": "https://localhost:8080/"
        },
        "id": "zMw2_-yuL7M-",
        "outputId": "e8ce6860-205d-459d-c550-4c6ce4c1208b"
      },
      "execution_count": 8,
      "outputs": [
        {
          "output_type": "stream",
          "name": "stderr",
          "text": [
            "[nltk_data] Downloading package stopwords to /root/nltk_data...\n",
            "[nltk_data]   Package stopwords is already up-to-date!\n"
          ]
        }
      ]
    },
    {
      "cell_type": "code",
      "source": [
        "vocab"
      ],
      "metadata": {
        "colab": {
          "base_uri": "https://localhost:8080/"
        },
        "id": "WDR4ZUcXNDu_",
        "outputId": "e36a8ac3-3f1c-469c-a8de-d071b1a0ed20"
      },
      "execution_count": null,
      "outputs": [
        {
          "output_type": "execute_result",
          "data": {
            "text/plain": [
              "array(['00', '000', '10', ..., 'zoroaster', 'zuz', 'zy'], dtype=object)"
            ]
          },
          "metadata": {},
          "execution_count": 39
        }
      ]
    },
    {
      "cell_type": "code",
      "source": [
        "print(df.shape)"
      ],
      "metadata": {
        "colab": {
          "base_uri": "https://localhost:8080/"
        },
        "id": "MNC1YuqKNIfa",
        "outputId": "b709690e-6022-49fe-8ac3-0a8dcecd48a7"
      },
      "execution_count": null,
      "outputs": [
        {
          "output_type": "stream",
          "name": "stdout",
          "text": [
            "(5, 8851)\n"
          ]
        }
      ]
    },
    {
      "cell_type": "code",
      "source": [
        "print(df[0])"
      ],
      "metadata": {
        "colab": {
          "base_uri": "https://localhost:8080/"
        },
        "id": "N1srVjFLOj7k",
        "outputId": "12eee440-98a8-4cc4-a0cd-bc23b9a84819"
      },
      "execution_count": 9,
      "outputs": [
        {
          "output_type": "stream",
          "name": "stdout",
          "text": [
            "  (0, 5966)\t89\n",
            "  (0, 3695)\t99\n",
            "  (0, 2645)\t14\n",
            "  (0, 8716)\t28\n",
            "  (0, 8697)\t44\n",
            "  (0, 5411)\t169\n",
            "  (0, 3303)\t5\n",
            "  (0, 860)\t5\n",
            "  (0, 8323)\t28\n",
            "  (0, 8255)\t15\n",
            "  (0, 7421)\t19\n",
            "  (0, 5481)\t2\n",
            "  (0, 8749)\t19\n",
            "  (0, 1915)\t4\n",
            "  (0, 6420)\t2\n",
            "  (0, 8573)\t2\n",
            "  (0, 1886)\t12\n",
            "  (0, 766)\t71\n",
            "  (0, 7827)\t22\n",
            "  (0, 4567)\t18\n",
            "  (0, 4108)\t3\n",
            "  (0, 5320)\t4\n",
            "  (0, 8794)\t10\n",
            "  (0, 5353)\t10\n",
            "  (0, 4644)\t7\n",
            "  :\t:\n",
            "  (0, 5427)\t1\n",
            "  (0, 2484)\t1\n",
            "  (0, 4910)\t1\n",
            "  (0, 401)\t1\n",
            "  (0, 8527)\t1\n",
            "  (0, 2005)\t1\n",
            "  (0, 1352)\t1\n",
            "  (0, 5957)\t1\n",
            "  (0, 4913)\t1\n",
            "  (0, 3775)\t1\n",
            "  (0, 5361)\t1\n",
            "  (0, 6889)\t1\n",
            "  (0, 5953)\t1\n",
            "  (0, 4675)\t1\n",
            "  (0, 5168)\t1\n",
            "  (0, 8434)\t1\n",
            "  (0, 1783)\t1\n",
            "  (0, 5136)\t1\n",
            "  (0, 2655)\t1\n",
            "  (0, 4749)\t1\n",
            "  (0, 5626)\t1\n",
            "  (0, 2958)\t1\n",
            "  (0, 5952)\t1\n",
            "  (0, 7601)\t1\n",
            "  (0, 5177)\t1\n"
          ]
        }
      ]
    },
    {
      "cell_type": "code",
      "source": [
        "print (vocab[5177])"
      ],
      "metadata": {
        "colab": {
          "base_uri": "https://localhost:8080/"
        },
        "id": "SAwmUK6-OsYI",
        "outputId": "d147ba31-de47-4501-f953-00b09629270e"
      },
      "execution_count": null,
      "outputs": [
        {
          "output_type": "stream",
          "name": "stdout",
          "text": [
            "newsletter\n"
          ]
        }
      ]
    },
    {
      "cell_type": "code",
      "source": [
        "from sklearn.decomposition import LatentDirichletAllocation\n",
        "lda = LatentDirichletAllocation(n_components = 5, doc_topic_prior=1)\n",
        "lda.fit(df)\n",
        "lda.components_[0].shape"
      ],
      "metadata": {
        "colab": {
          "base_uri": "https://localhost:8080/"
        },
        "id": "NhgzFjoaO46U",
        "outputId": "ad4a88bd-3ab5-49de-f725-3012a07a1e12"
      },
      "execution_count": 10,
      "outputs": [
        {
          "output_type": "execute_result",
          "data": {
            "text/plain": [
              "(8851,)"
            ]
          },
          "metadata": {},
          "execution_count": 10
        }
      ]
    },
    {
      "cell_type": "code",
      "source": [
        "import numpy as np \n",
        "topic_words = {}\n",
        "n_top_words = 20\n",
        "for topic, comp in enumerate(lda.components_):\n",
        "    # print(topic, comp)\n",
        "    word_idx = np.argsort(comp)[::-1][:n_top_words] #argsort to get index, and [::-1] to sort in descending\n",
        "    # store the words most relevant to the topic\n",
        "    topic_words[topic] = [vocab[i] for i in word_idx]\n",
        "    # break\n",
        "    \n",
        "for topic, words in topic_words.items():\n",
        "    print('Topic: %d' % topic)\n",
        "    print('  %s' % ', '.join(words))"
      ],
      "metadata": {
        "colab": {
          "base_uri": "https://localhost:8080/"
        },
        "id": "bwnVMf5yPBaq",
        "outputId": "3af53b7d-f847-4db9-e16f-087ff98f84e6"
      },
      "execution_count": 11,
      "outputs": [
        {
          "output_type": "stream",
          "name": "stdout",
          "text": [
            "Topic: 0\n",
            "  1993, tinkle, beaten, utf, texts, straighten, luckily, stock, greensward, cleared, snatched, melting, brittle, moss, raising, dizzy, deceived, messenger, glowed, housework\n",
            "Topic: 1\n",
            "  dorothy, said, little, man, pg, oz, asked, scarecrow, gutenberg, king, girl, wizard, project, ozma, tin, good, woodman, great, shaggy, head\n",
            "Topic: 2\n",
            "  1993, tinkle, beaten, utf, texts, straighten, luckily, stock, greensward, cleared, snatched, melting, brittle, moss, raising, dizzy, deceived, messenger, glowed, housework\n",
            "Topic: 3\n",
            "  said, tip, scarecrow, horse, jack, saw, woodman, tin, pumpkinhead, mombi, city, boy, bug, woggle, head, gutenberg, glinda, good, old, project\n",
            "Topic: 4\n",
            "  1993, tinkle, beaten, utf, texts, straighten, luckily, stock, greensward, cleared, snatched, melting, brittle, moss, raising, dizzy, deceived, messenger, glowed, housework\n"
          ]
        }
      ]
    },
    {
      "cell_type": "markdown",
      "source": [
        "#Reddit Data"
      ],
      "metadata": {
        "id": "fJDlpU7Vta8e"
      }
    },
    {
      "cell_type": "code",
      "source": [
        "# !pip install praw\n",
        "!pip install asyncpraw"
      ],
      "metadata": {
        "colab": {
          "base_uri": "https://localhost:8080/"
        },
        "id": "a6u9UMLtuimJ",
        "outputId": "4a35c5f2-408a-4ad2-997b-7407674f5442"
      },
      "execution_count": 12,
      "outputs": [
        {
          "output_type": "stream",
          "name": "stdout",
          "text": [
            "Looking in indexes: https://pypi.org/simple, https://us-python.pkg.dev/colab-wheels/public/simple/\n",
            "Requirement already satisfied: asyncpraw in /usr/local/lib/python3.7/dist-packages (7.5.0)\n",
            "Requirement already satisfied: asyncio-extras<=1.3.2 in /usr/local/lib/python3.7/dist-packages (from asyncpraw) (1.3.2)\n",
            "Requirement already satisfied: aiofiles<=0.6.0 in /usr/local/lib/python3.7/dist-packages (from asyncpraw) (0.6.0)\n",
            "Requirement already satisfied: aiosqlite<=0.17.0 in /usr/local/lib/python3.7/dist-packages (from asyncpraw) (0.17.0)\n",
            "Requirement already satisfied: asyncprawcore<3,>=2.1 in /usr/local/lib/python3.7/dist-packages (from asyncpraw) (2.3.0)\n",
            "Requirement already satisfied: update-checker>=0.18 in /usr/local/lib/python3.7/dist-packages (from asyncpraw) (0.18.0)\n",
            "Requirement already satisfied: typing_extensions>=3.7.2 in /usr/local/lib/python3.7/dist-packages (from aiosqlite<=0.17.0->asyncpraw) (4.1.1)\n",
            "Requirement already satisfied: async-generator>=1.3 in /usr/local/lib/python3.7/dist-packages (from asyncio-extras<=1.3.2->asyncpraw) (1.10)\n",
            "Requirement already satisfied: yarl in /usr/local/lib/python3.7/dist-packages (from asyncprawcore<3,>=2.1->asyncpraw) (1.8.1)\n",
            "Requirement already satisfied: aiohttp in /usr/local/lib/python3.7/dist-packages (from asyncprawcore<3,>=2.1->asyncpraw) (3.8.1)\n",
            "Requirement already satisfied: requests>=2.3.0 in /usr/local/lib/python3.7/dist-packages (from update-checker>=0.18->asyncpraw) (2.23.0)\n",
            "Requirement already satisfied: urllib3!=1.25.0,!=1.25.1,<1.26,>=1.21.1 in /usr/local/lib/python3.7/dist-packages (from requests>=2.3.0->update-checker>=0.18->asyncpraw) (1.24.3)\n",
            "Requirement already satisfied: chardet<4,>=3.0.2 in /usr/local/lib/python3.7/dist-packages (from requests>=2.3.0->update-checker>=0.18->asyncpraw) (3.0.4)\n",
            "Requirement already satisfied: idna<3,>=2.5 in /usr/local/lib/python3.7/dist-packages (from requests>=2.3.0->update-checker>=0.18->asyncpraw) (2.10)\n",
            "Requirement already satisfied: certifi>=2017.4.17 in /usr/local/lib/python3.7/dist-packages (from requests>=2.3.0->update-checker>=0.18->asyncpraw) (2022.6.15)\n",
            "Requirement already satisfied: aiosignal>=1.1.2 in /usr/local/lib/python3.7/dist-packages (from aiohttp->asyncprawcore<3,>=2.1->asyncpraw) (1.2.0)\n",
            "Requirement already satisfied: multidict<7.0,>=4.5 in /usr/local/lib/python3.7/dist-packages (from aiohttp->asyncprawcore<3,>=2.1->asyncpraw) (6.0.2)\n",
            "Requirement already satisfied: frozenlist>=1.1.1 in /usr/local/lib/python3.7/dist-packages (from aiohttp->asyncprawcore<3,>=2.1->asyncpraw) (1.3.1)\n",
            "Requirement already satisfied: async-timeout<5.0,>=4.0.0a3 in /usr/local/lib/python3.7/dist-packages (from aiohttp->asyncprawcore<3,>=2.1->asyncpraw) (4.0.2)\n",
            "Requirement already satisfied: attrs>=17.3.0 in /usr/local/lib/python3.7/dist-packages (from aiohttp->asyncprawcore<3,>=2.1->asyncpraw) (22.1.0)\n",
            "Requirement already satisfied: asynctest==0.13.0 in /usr/local/lib/python3.7/dist-packages (from aiohttp->asyncprawcore<3,>=2.1->asyncpraw) (0.13.0)\n",
            "Requirement already satisfied: charset-normalizer<3.0,>=2.0 in /usr/local/lib/python3.7/dist-packages (from aiohttp->asyncprawcore<3,>=2.1->asyncpraw) (2.1.1)\n"
          ]
        }
      ]
    },
    {
      "cell_type": "code",
      "source": [
        "# import praw\n",
        "import asyncpraw as praw\n",
        "from asyncpraw.models import MoreComments\n",
        "reddit = praw.Reddit(\n",
        "    user_agent=\"Comment Extraction (by u/Bitter_Researcher859)\",\n",
        "    client_id=\"5YUVEJjNjYgNfwrR0Jle_Q\",\n",
        "    client_secret=\"y1Yw5hcMa874BIzhbG5DSFnE9f_ncg\",\n",
        "    redirect_uri='http://127.0.0.1:65010/'\n",
        "                                 'authorize_callback'\n",
        "    # username=\"USERNAME\",\n",
        "    # password=\"PASSWORD\"\n",
        ")"
      ],
      "metadata": {
        "id": "yc5EeGvotiFl"
      },
      "execution_count": 14,
      "outputs": []
    },
    {
      "cell_type": "code",
      "source": [
        "import time\n",
        "from tqdm.notebook import tqdm\n",
        "topic_library = {\n",
        "    'CryptoCurrency' : [ 'https://www.reddit.com/r/CryptoCurrency/comments/xvzivt/update_bitcoin_ceo_announces_075_transaction_fee/'\n",
        "                  ],\n",
        "    'Sports': [\n",
        "        'https://www.reddit.com/r/DynastyFF/comments/xwmwtp/justin_fields_buy_low_or_completely_avoid_in_sf/',\n",
        "        'https://www.reddit.com/r/fantasyfootball/comments/xwd5fk/kyle_pitts_gets_all_of_the_attention_for_te/', \n",
        "        ]\n",
        "}\n",
        "for topic, urls in tqdm(topic_library.items()):\n",
        "  for url in tqdm(urls):\n",
        "    submission = await reddit.submission(url=url)\n",
        "    submission.comments.replace_more(limit=0) # flatten tree\n",
        "    all_comments = []\n",
        "    comments = submission.comments # all comments\n",
        "    # comments = submission.comments.list() # all comments\n",
        "    for top_level_comment in submission.comments:\n",
        "      if isinstance(top_level_comment, MoreComments):\n",
        "          continue\n",
        "      all_comments.append(top_level_comment.body)\n",
        "      with open('{}-reddit_author.txt'.format(topic), 'a') as f:\n",
        "          f.write(submission.selftext + '\\n')\n",
        "      with open('{}-reddit_comments.txt'.format(topic), 'a') as f:\n",
        "        for i, comment in enumerate(comments):\n",
        "          f.write(comment.body + '\\n')\n",
        "    # time.sleep(1.5)"
      ],
      "metadata": {
        "colab": {
          "base_uri": "https://localhost:8080/",
          "height": 148,
          "referenced_widgets": [
            "bfa8ba0df1c44bafa6758ed6f2de6bec",
            "5b2c2235734549bfb466b889ebb11c5d",
            "bf368fffc599451f9e3e8e2d6fc6a6e0",
            "ae880adc5d9546b096bc7a4770cf1e01",
            "3abd0cb914ed467ba7adc3c1c73b8446",
            "9b4a1d26d26a4f5486e1266a1d6c8d6f",
            "b7c418b1f5ba4fafa6ebd473a039d55b",
            "7fa8b6eca3854b37ae73f66e5e408c7c",
            "9fd844946f34449886b9d520a1f2b646",
            "0f9e190786c8410e9b8654802f9a1304",
            "e0ddcc65d0cf45aeae3f694e850d7f93",
            "6b7251873d184233965ffe4843bb3001",
            "02f7e1f18aff4b2db9b3edf005f8a88a",
            "625f6148532f40ca82c7003c2424c8ad",
            "fdd9964e90664302b066ba29157182f2",
            "723ed7f85ccb415c96e7edf044c16695",
            "ab5ec097c4be4829aeb17db97c51f1bf",
            "2492b9f58c164a7f8664529b39d6d56b",
            "a176f2728a4a4a989dc5935cdd243d7b",
            "ddfc1fc784b0466587778fbd4947bd5d",
            "97f0a305f06c4e6e836ad1afd27650f0",
            "cd16187e716b4fd29581d8b8ee0602bf",
            "6a6eccc5bfc44d49a41e11deb0e9c42d",
            "b9557d602030479c869eb569737a51f6",
            "a98401f84a2c4b609baabbd1d3f407ba",
            "11ed266d33a64c6c947c99e524646458",
            "d772519bc0534effa0b2c1782a476030",
            "f969ef0e7e844834a92a9b2d84e6dd54",
            "4e04cda12ec84466a0ceefa6b540d4be",
            "67c738f825374a00be87a988f054bbc7",
            "8a6016bb4f0e402f8f51958dc536344e",
            "b4a64e21143b4ed5a53dcea0c4ce8645",
            "ceb11e15d2a04f438f0710d8be0870e7"
          ]
        },
        "id": "9I9-zoGtAZwN",
        "outputId": "58607b35-cd21-46ae-e0b4-0fcfad8b484e"
      },
      "execution_count": 20,
      "outputs": [
        {
          "output_type": "display_data",
          "data": {
            "text/plain": [
              "  0%|          | 0/2 [00:00<?, ?it/s]"
            ],
            "application/vnd.jupyter.widget-view+json": {
              "version_major": 2,
              "version_minor": 0,
              "model_id": "bfa8ba0df1c44bafa6758ed6f2de6bec"
            }
          },
          "metadata": {}
        },
        {
          "output_type": "display_data",
          "data": {
            "text/plain": [
              "  0%|          | 0/1 [00:00<?, ?it/s]"
            ],
            "application/vnd.jupyter.widget-view+json": {
              "version_major": 2,
              "version_minor": 0,
              "model_id": "6b7251873d184233965ffe4843bb3001"
            }
          },
          "metadata": {}
        },
        {
          "output_type": "stream",
          "name": "stderr",
          "text": [
            "/usr/local/lib/python3.7/dist-packages/ipykernel_launcher.py:17: RuntimeWarning: coroutine 'CommentForest.replace_more' was never awaited\n",
            "RuntimeWarning: Enable tracemalloc to get the object allocation traceback\n"
          ]
        },
        {
          "output_type": "display_data",
          "data": {
            "text/plain": [
              "  0%|          | 0/2 [00:00<?, ?it/s]"
            ],
            "application/vnd.jupyter.widget-view+json": {
              "version_major": 2,
              "version_minor": 0,
              "model_id": "6a6eccc5bfc44d49a41e11deb0e9c42d"
            }
          },
          "metadata": {}
        }
      ]
    },
    {
      "cell_type": "code",
      "source": [
        "#Gdrive access\n",
        "from google.colab import drive\n",
        "drive.mount(\"/content/gdrive\")"
      ],
      "metadata": {
        "colab": {
          "base_uri": "https://localhost:8080/"
        },
        "id": "ZJT-c6yiN-2k",
        "outputId": "5c6cfc14-2007-4883-9fa3-38d81f934b2a"
      },
      "execution_count": 21,
      "outputs": [
        {
          "output_type": "stream",
          "name": "stdout",
          "text": [
            "Mounted at /content/gdrive\n"
          ]
        }
      ]
    },
    {
      "cell_type": "code",
      "source": [
        "import shutil\n",
        "for topic, _ in tqdm(topic_library.items()):\n",
        "  shutil.copy2('{}-reddit_author.txt'.format(topic), '/content/gdrive/MyDrive/Projects/Data/')\n",
        "  shutil.copy2('{}-reddit_comments.txt'.format(topic), '/content/gdrive/MyDrive/Projects/Data/')"
      ],
      "metadata": {
        "colab": {
          "base_uri": "https://localhost:8080/",
          "height": 49,
          "referenced_widgets": [
            "ceaa6ed62807470b819fa7b88f8b6527",
            "df477cb5ca944be4bb423feb12035019",
            "a3cd2288998f42248d95069c7688ab33",
            "652e0ccbfacf4de2b6e8a0977540b963",
            "046fcc900d484d9cae14cbc3dd52dd7e",
            "c19c7f7c5e1f4588ab0f7f55a9355862",
            "e2ba21814f04456097210c58416e759f",
            "25b75527f3834ae8949ef25d80d0edd6",
            "92cc57eac9ed43d496e0ecd71bc65eb3",
            "f371db17b1584420a44832c6e7248faf",
            "19fef86d98414c959d851eee8ee73bd7"
          ]
        },
        "id": "JV0r4IzNOHuP",
        "outputId": "b40d66a7-4651-4116-ef16-4ec2806d4383"
      },
      "execution_count": 22,
      "outputs": [
        {
          "output_type": "display_data",
          "data": {
            "text/plain": [
              "  0%|          | 0/2 [00:00<?, ?it/s]"
            ],
            "application/vnd.jupyter.widget-view+json": {
              "version_major": 2,
              "version_minor": 0,
              "model_id": "ceaa6ed62807470b819fa7b88f8b6527"
            }
          },
          "metadata": {}
        }
      ]
    },
    {
      "cell_type": "code",
      "source": [
        "import pandas as pd\n",
        "reddit_df = pd.DataFrame(columns = ['text'])\n",
        "for topic, _ in tqdm(topic_library.items()):\n",
        "  with open('{}-reddit_comments.txt'.format(topic)) as f:\n",
        "    lines = f.readlines()\n",
        "    reddit_sub_df = pd.DataFrame(lines, columns = ['text'])\n",
        "    reddit_sub_df = reddit_sub_df.sample(3000)\n",
        "    reddit_df= reddit_df.append(reddit_sub_df).reset_index(drop=True)\n",
        "# lines"
      ],
      "metadata": {
        "colab": {
          "base_uri": "https://localhost:8080/",
          "height": 49,
          "referenced_widgets": [
            "6bb6e4cf8c7e4452ab1c70fbf2eea144",
            "8f58635b8afd4d6293205bca7cddf1fa",
            "aa037cc82370462e9cb7d41f88632ae9",
            "3087d9b664914cf1a3173c8c4c9da9c7",
            "a0fcb43c531a487d85d834e3f4757ad1",
            "f418bd1f31974f89907b2403ebb44c05",
            "ce69cbb76cc841b59c042ac0bee8e5df",
            "e775b5672cbc4755bdd9d2636fc497e7",
            "87d39fb26353448ca2f398c1dde67c21",
            "f488ca196f54464c88fefa29ddb56f54",
            "6aa9496c433f403db058cb69f3d7e2d3"
          ]
        },
        "id": "2V2hMBDmOhhV",
        "outputId": "7c85973d-7d17-4203-dcb2-36963721cf32"
      },
      "execution_count": 24,
      "outputs": [
        {
          "output_type": "display_data",
          "data": {
            "text/plain": [
              "  0%|          | 0/2 [00:00<?, ?it/s]"
            ],
            "application/vnd.jupyter.widget-view+json": {
              "version_major": 2,
              "version_minor": 0,
              "model_id": "6bb6e4cf8c7e4452ab1c70fbf2eea144"
            }
          },
          "metadata": {}
        }
      ]
    },
    {
      "cell_type": "code",
      "source": [
        "reddit_df"
      ],
      "metadata": {
        "colab": {
          "base_uri": "https://localhost:8080/",
          "height": 424
        },
        "id": "kjzjnWOsPVkR",
        "outputId": "667e687b-97b8-4ebe-9f24-f4541e821cdb"
      },
      "execution_count": 25,
      "outputs": [
        {
          "output_type": "execute_result",
          "data": {
            "text/plain": [
              "                                                   text\n",
              "0     I swear like 95% of you don't know what comedy...\n",
              "1     next headline would prolly be Bitcoin shifts f...\n",
              "2           Next move: Bitcoin shifts from PoW to PoS\\n\n",
              "3                          Still Bitcoin 100k eoy ???\\n\n",
              "4     Missed the comedy flair. Was wtf-ing all the w...\n",
              "...                                                 ...\n",
              "5995  Defenses are throwing suddenly weird alignment...\n",
              "5996  I'd be interested to see what happens after th...\n",
              "5997                                                 \\n\n",
              "5998                                                 \\n\n",
              "5999  So should I be ready to trade Pitts? And also ...\n",
              "\n",
              "[6000 rows x 1 columns]"
            ],
            "text/html": [
              "\n",
              "  <div id=\"df-29e56b97-3897-4e39-b794-e689ffb22555\">\n",
              "    <div class=\"colab-df-container\">\n",
              "      <div>\n",
              "<style scoped>\n",
              "    .dataframe tbody tr th:only-of-type {\n",
              "        vertical-align: middle;\n",
              "    }\n",
              "\n",
              "    .dataframe tbody tr th {\n",
              "        vertical-align: top;\n",
              "    }\n",
              "\n",
              "    .dataframe thead th {\n",
              "        text-align: right;\n",
              "    }\n",
              "</style>\n",
              "<table border=\"1\" class=\"dataframe\">\n",
              "  <thead>\n",
              "    <tr style=\"text-align: right;\">\n",
              "      <th></th>\n",
              "      <th>text</th>\n",
              "    </tr>\n",
              "  </thead>\n",
              "  <tbody>\n",
              "    <tr>\n",
              "      <th>0</th>\n",
              "      <td>I swear like 95% of you don't know what comedy...</td>\n",
              "    </tr>\n",
              "    <tr>\n",
              "      <th>1</th>\n",
              "      <td>next headline would prolly be Bitcoin shifts f...</td>\n",
              "    </tr>\n",
              "    <tr>\n",
              "      <th>2</th>\n",
              "      <td>Next move: Bitcoin shifts from PoW to PoS\\n</td>\n",
              "    </tr>\n",
              "    <tr>\n",
              "      <th>3</th>\n",
              "      <td>Still Bitcoin 100k eoy ???\\n</td>\n",
              "    </tr>\n",
              "    <tr>\n",
              "      <th>4</th>\n",
              "      <td>Missed the comedy flair. Was wtf-ing all the w...</td>\n",
              "    </tr>\n",
              "    <tr>\n",
              "      <th>...</th>\n",
              "      <td>...</td>\n",
              "    </tr>\n",
              "    <tr>\n",
              "      <th>5995</th>\n",
              "      <td>Defenses are throwing suddenly weird alignment...</td>\n",
              "    </tr>\n",
              "    <tr>\n",
              "      <th>5996</th>\n",
              "      <td>I'd be interested to see what happens after th...</td>\n",
              "    </tr>\n",
              "    <tr>\n",
              "      <th>5997</th>\n",
              "      <td>\\n</td>\n",
              "    </tr>\n",
              "    <tr>\n",
              "      <th>5998</th>\n",
              "      <td>\\n</td>\n",
              "    </tr>\n",
              "    <tr>\n",
              "      <th>5999</th>\n",
              "      <td>So should I be ready to trade Pitts? And also ...</td>\n",
              "    </tr>\n",
              "  </tbody>\n",
              "</table>\n",
              "<p>6000 rows × 1 columns</p>\n",
              "</div>\n",
              "      <button class=\"colab-df-convert\" onclick=\"convertToInteractive('df-29e56b97-3897-4e39-b794-e689ffb22555')\"\n",
              "              title=\"Convert this dataframe to an interactive table.\"\n",
              "              style=\"display:none;\">\n",
              "        \n",
              "  <svg xmlns=\"http://www.w3.org/2000/svg\" height=\"24px\"viewBox=\"0 0 24 24\"\n",
              "       width=\"24px\">\n",
              "    <path d=\"M0 0h24v24H0V0z\" fill=\"none\"/>\n",
              "    <path d=\"M18.56 5.44l.94 2.06.94-2.06 2.06-.94-2.06-.94-.94-2.06-.94 2.06-2.06.94zm-11 1L8.5 8.5l.94-2.06 2.06-.94-2.06-.94L8.5 2.5l-.94 2.06-2.06.94zm10 10l.94 2.06.94-2.06 2.06-.94-2.06-.94-.94-2.06-.94 2.06-2.06.94z\"/><path d=\"M17.41 7.96l-1.37-1.37c-.4-.4-.92-.59-1.43-.59-.52 0-1.04.2-1.43.59L10.3 9.45l-7.72 7.72c-.78.78-.78 2.05 0 2.83L4 21.41c.39.39.9.59 1.41.59.51 0 1.02-.2 1.41-.59l7.78-7.78 2.81-2.81c.8-.78.8-2.07 0-2.86zM5.41 20L4 18.59l7.72-7.72 1.47 1.35L5.41 20z\"/>\n",
              "  </svg>\n",
              "      </button>\n",
              "      \n",
              "  <style>\n",
              "    .colab-df-container {\n",
              "      display:flex;\n",
              "      flex-wrap:wrap;\n",
              "      gap: 12px;\n",
              "    }\n",
              "\n",
              "    .colab-df-convert {\n",
              "      background-color: #E8F0FE;\n",
              "      border: none;\n",
              "      border-radius: 50%;\n",
              "      cursor: pointer;\n",
              "      display: none;\n",
              "      fill: #1967D2;\n",
              "      height: 32px;\n",
              "      padding: 0 0 0 0;\n",
              "      width: 32px;\n",
              "    }\n",
              "\n",
              "    .colab-df-convert:hover {\n",
              "      background-color: #E2EBFA;\n",
              "      box-shadow: 0px 1px 2px rgba(60, 64, 67, 0.3), 0px 1px 3px 1px rgba(60, 64, 67, 0.15);\n",
              "      fill: #174EA6;\n",
              "    }\n",
              "\n",
              "    [theme=dark] .colab-df-convert {\n",
              "      background-color: #3B4455;\n",
              "      fill: #D2E3FC;\n",
              "    }\n",
              "\n",
              "    [theme=dark] .colab-df-convert:hover {\n",
              "      background-color: #434B5C;\n",
              "      box-shadow: 0px 1px 3px 1px rgba(0, 0, 0, 0.15);\n",
              "      filter: drop-shadow(0px 1px 2px rgba(0, 0, 0, 0.3));\n",
              "      fill: #FFFFFF;\n",
              "    }\n",
              "  </style>\n",
              "\n",
              "      <script>\n",
              "        const buttonEl =\n",
              "          document.querySelector('#df-29e56b97-3897-4e39-b794-e689ffb22555 button.colab-df-convert');\n",
              "        buttonEl.style.display =\n",
              "          google.colab.kernel.accessAllowed ? 'block' : 'none';\n",
              "\n",
              "        async function convertToInteractive(key) {\n",
              "          const element = document.querySelector('#df-29e56b97-3897-4e39-b794-e689ffb22555');\n",
              "          const dataTable =\n",
              "            await google.colab.kernel.invokeFunction('convertToInteractive',\n",
              "                                                     [key], {});\n",
              "          if (!dataTable) return;\n",
              "\n",
              "          const docLinkHtml = 'Like what you see? Visit the ' +\n",
              "            '<a target=\"_blank\" href=https://colab.research.google.com/notebooks/data_table.ipynb>data table notebook</a>'\n",
              "            + ' to learn more about interactive tables.';\n",
              "          element.innerHTML = '';\n",
              "          dataTable['output_type'] = 'display_data';\n",
              "          await google.colab.output.renderOutput(dataTable, element);\n",
              "          const docLink = document.createElement('div');\n",
              "          docLink.innerHTML = docLinkHtml;\n",
              "          element.appendChild(docLink);\n",
              "        }\n",
              "      </script>\n",
              "    </div>\n",
              "  </div>\n",
              "  "
            ]
          },
          "metadata": {},
          "execution_count": 25
        }
      ]
    },
    {
      "cell_type": "code",
      "source": [
        "tfidf_vect = TfidfVectorizer(analyzer='word', stop_words = 'english', max_df = 0.7)\n",
        "tfidf_tokens = tfidf_vect.fit_transform(reddit_df['text'])\n",
        "tfidf_vocab = tfidf_vect.get_feature_names_out()"
      ],
      "metadata": {
        "id": "JY51bJHwPfK9"
      },
      "execution_count": 26,
      "outputs": []
    },
    {
      "cell_type": "code",
      "source": [
        "print(tfidf_tokens[0])\n",
        "tfidf_vocab[100]"
      ],
      "metadata": {
        "colab": {
          "base_uri": "https://localhost:8080/",
          "height": 157
        },
        "id": "8XYCyeYePm4_",
        "outputId": "7fb76724-7a4a-4262-8f73-fb1177bc2736"
      },
      "execution_count": 27,
      "outputs": [
        {
          "output_type": "stream",
          "name": "stdout",
          "text": [
            "  (0, 725)\t0.4231760798913951\n",
            "  (0, 222)\t0.33495004550677693\n",
            "  (0, 631)\t0.3097971498498657\n",
            "  (0, 331)\t0.30599358614557187\n",
            "  (0, 59)\t0.46771372555027096\n",
            "  (0, 658)\t0.28567790511204033\n",
            "  (0, 1127)\t0.46771372555027096\n"
          ]
        },
        {
          "output_type": "execute_result",
          "data": {
            "text/plain": [
              "'average'"
            ],
            "application/vnd.google.colaboratory.intrinsic+json": {
              "type": "string"
            }
          },
          "metadata": {},
          "execution_count": 27
        }
      ]
    },
    {
      "cell_type": "code",
      "source": [
        "lda = LatentDirichletAllocation(n_components = 10, doc_topic_prior=1)\n",
        "lda.fit(tfidf_tokens)"
      ],
      "metadata": {
        "colab": {
          "base_uri": "https://localhost:8080/"
        },
        "id": "WHZEvfOvPr38",
        "outputId": "151d503d-b14f-46f9-c100-8efaa7e53935"
      },
      "execution_count": 28,
      "outputs": [
        {
          "output_type": "execute_result",
          "data": {
            "text/plain": [
              "LatentDirichletAllocation(doc_topic_prior=1)"
            ]
          },
          "metadata": {},
          "execution_count": 28
        }
      ]
    },
    {
      "cell_type": "code",
      "source": [
        "import numpy as np \n",
        "topic_words = {}\n",
        "n_top_words = 15\n",
        "for topic, comp in enumerate(lda.components_):\n",
        "    word_idx = np.argsort(comp)[::-1][:n_top_words]\n",
        "    # store the words most relevant to the topic\n",
        "    topic_words[topic] = [tfidf_vocab[i] for i in word_idx]\n",
        "    \n",
        "for topic, words in topic_words.items():\n",
        "    print('Topic: %d' % topic)\n",
        "    print('  %s' % ', '.join(words))"
      ],
      "metadata": {
        "colab": {
          "base_uri": "https://localhost:8080/"
        },
        "id": "hTwLzedvP1cd",
        "outputId": "35af4336-8d30-418f-85fb-dda60c6d481d"
      },
      "execution_count": 29,
      "outputs": [
        {
          "output_type": "stream",
          "name": "stdout",
          "text": [
            "Topic: 0\n",
            "  league, tackle, shit, read, te, increase, kelce, just, weeks, andrews, op, kittle, need, drunk, bust\n",
            "Topic: 1\n",
            "  comedy, believe, don, people, lol, actually, good, know, like, dividends, better, dad, speak, totally, bitcoin\n",
            "Topic: 2\n",
            "  btc, says, delete, lie, blocker1, fantasy, ll, ready, directors, weird, works, bad, board, writing, wasted\n",
            "Topic: 3\n",
            "  kittle, pitts, week, real, wtf, way, starting, low, fee, great, days, considering, hyped, higbee, seriously\n",
            "Topic: 4\n",
            "  bitcoin, ceo, just, nouuuu, pos, pow, shifts, secretly, short, knows, run, isn, news, guy, members\n",
            "Topic: 5\n",
            "  drafted, draft, end, like, pitts, list, ceo, feel, interested, kittle, guess, leagues, games, sf, dogecoin\n",
            "Topic: 6\n",
            "  got, kittle, bitcoin, round, traded, perfect, like, slot, pick, george, game, ve, catch, points, needs\n",
            "Topic: 7\n",
            "  going, lmao, bitcoin, wonder, regarded, x200b, https, com, second, waivers, got, hold, bear, value, eoy\n",
            "Topic: 8\n",
            "  satoshi, really, sniffles, deleted, pitts, got, open, true, far, qb, gonna, waiting, tweet, saylor, coordinating\n",
            "Topic: 9\n",
            "  position, ceo, great, year, lt, 75, saw, start, post, moon, 2nd, glad, ideas, apply, clearly\n"
          ]
        }
      ]
    },
    {
      "cell_type": "markdown",
      "source": [
        "#Get wikipedia topics"
      ],
      "metadata": {
        "id": "OZ7vVuhZRZC9"
      }
    },
    {
      "cell_type": "code",
      "source": [
        "documents2 = []\n",
        "\n",
        "import re\n",
        "regex = re.compile(r'<[^>]+>')\n",
        "\n",
        "def remove_html(string):\n",
        "    return regex.sub('', string)\n",
        "\n",
        "def getContent2(url): \n",
        "  html = urlopen(url).read()\n",
        "  soup = BeautifulSoup(html, features=\"html.parser\")\n",
        "  for script in soup([\"script\", \"style\"]):\n",
        "    script.extract()\n",
        "  text = soup.get_text()\n",
        "  documents2.append(remove_html(text))\n",
        "\n",
        "url=\"https://en.wikipedia.org/wiki/United_States\"\n",
        "getContent2(url)\n",
        "(documents2[0])[:500]\n",
        "url=\"https://en.wikipedia.org/wiki/India\"\n",
        "getContent2(url)\n"
      ],
      "metadata": {
        "id": "lr4Lguk8RdMA"
      },
      "execution_count": 59,
      "outputs": []
    },
    {
      "cell_type": "code",
      "source": [
        "#tfidf_vect = TfidfVectorizer(analyzer='word', stop_words = 'english')\n",
        "df=tfidf_vect.fit_transform(documents2)\n",
        "vocab = tfidf_vect.get_feature_names_out()"
      ],
      "metadata": {
        "id": "kuMJY8b4SBIy"
      },
      "execution_count": 60,
      "outputs": []
    },
    {
      "cell_type": "code",
      "source": [
        "vocab"
      ],
      "metadata": {
        "colab": {
          "base_uri": "https://localhost:8080/"
        },
        "id": "e9cbCO6rSJNi",
        "outputId": "7cad3a26-981d-4870-8a52-ccc5f9875b0a"
      },
      "execution_count": 61,
      "outputs": [
        {
          "output_type": "execute_result",
          "data": {
            "text/plain": [
              "array(['00', '000', '0002', ...,\n",
              "       '日本語napulitanoߒߞߏнохчийнnordfriisknorfuk', 'ꯟminangkabaumìng',\n",
              "       '𐌲𐌿𐍄𐌹𐍃𐌺ग'], dtype=object)"
            ]
          },
          "metadata": {},
          "execution_count": 61
        }
      ]
    },
    {
      "cell_type": "code",
      "source": [
        "lda.fit(df)"
      ],
      "metadata": {
        "colab": {
          "base_uri": "https://localhost:8080/"
        },
        "id": "GOVHfeZySSuu",
        "outputId": "e1e63fcd-24b8-46db-8d97-bb9b9cf91e90"
      },
      "execution_count": 62,
      "outputs": [
        {
          "output_type": "execute_result",
          "data": {
            "text/plain": [
              "LatentDirichletAllocation(doc_topic_prior=1)"
            ]
          },
          "metadata": {},
          "execution_count": 62
        }
      ]
    },
    {
      "cell_type": "code",
      "source": [
        "topic_words = {}\n",
        "n_top_words = 20\n",
        "for topic, comp in enumerate(lda.components_):\n",
        "    # print(topic, comp)\n",
        "    word_idx = np.argsort(comp)[::-1][:n_top_words] #argsort to get index, and [::-1] to sort in descending\n",
        "    # store the words most relevant to the topic\n",
        "    topic_words[topic] = [vocab[i] for i in word_idx]\n",
        "    # break\n",
        "    \n",
        "for topic, words in topic_words.items():\n",
        "    print('Topic: %d' % topic)\n",
        "    print('  %s' % ', '.join(words))"
      ],
      "metadata": {
        "colab": {
          "base_uri": "https://localhost:8080/"
        },
        "id": "SdPD25zkSaJ4",
        "outputId": "9381d4bc-2d53-47cb-b626-4c7fe0f75295"
      },
      "execution_count": 63,
      "outputs": [
        {
          "output_type": "stream",
          "name": "stdout",
          "text": [
            "Topic: 0\n",
            "  highest, rico, puerto, spanish, pew, civil, rights, usa, alaska, house, bureau, health, public, great, department, service, income, senate, 1776, 1945\n",
            "Topic: 1\n",
            "  highest, rico, puerto, spanish, pew, civil, rights, usa, alaska, house, bureau, health, public, great, department, service, income, senate, 1776, 1945\n",
            "Topic: 2\n",
            "  highest, rico, puerto, spanish, pew, civil, rights, usa, alaska, house, bureau, health, public, great, department, service, income, senate, 1776, 1945\n",
            "Topic: 3\n",
            "  retrieved, states, united, american, 2011, new, war, 2020, america, 2022, 2015, january, june, americans, 2013, state, federal, york, september, march\n",
            "Topic: 4\n",
            "  india, isbn, 978, world, indian, original, pp, archived, july, press, history, university, october, south, 2014, pdf, 2021, 10, 2010, national\n",
            "Topic: 5\n",
            "  highest, rico, puerto, spanish, pew, civil, rights, usa, alaska, house, bureau, health, public, great, department, service, income, senate, 1776, 1945\n",
            "Topic: 6\n",
            "  highest, rico, puerto, spanish, pew, civil, rights, usa, alaska, house, bureau, health, public, great, department, service, income, senate, 1776, 1945\n",
            "Topic: 7\n",
            "  highest, rico, puerto, spanish, pew, civil, rights, usa, alaska, house, bureau, health, public, great, department, service, income, senate, 1776, 1945\n",
            "Topic: 8\n",
            "  highest, rico, puerto, spanish, pew, civil, rights, usa, alaska, house, bureau, health, public, great, department, service, income, senate, 1776, 1945\n",
            "Topic: 9\n",
            "  highest, rico, puerto, spanish, pew, civil, rights, usa, alaska, house, bureau, health, public, great, department, service, income, senate, 1776, 1945\n"
          ]
        }
      ]
    },
    {
      "cell_type": "markdown",
      "source": [
        "#Observation\n",
        "Need to check how to remove duplicate topics, is it related to less data or more data clean up required"
      ],
      "metadata": {
        "id": "eVbS-nFvVKsC"
      }
    }
  ]
}
