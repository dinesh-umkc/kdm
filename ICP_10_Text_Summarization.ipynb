{
  "nbformat": 4,
  "nbformat_minor": 0,
  "metadata": {
    "colab": {
      "provenance": [],
      "authorship_tag": "ABX9TyNIAXgfXB97kfvU+BOEk0j2",
      "include_colab_link": true
    },
    "kernelspec": {
      "name": "python3",
      "display_name": "Python 3"
    },
    "language_info": {
      "name": "python"
    },
    "accelerator": "GPU",
    "gpuClass": "standard"
  },
  "cells": [
    {
      "cell_type": "markdown",
      "metadata": {
        "id": "view-in-github",
        "colab_type": "text"
      },
      "source": [
        "<a href=\"https://colab.research.google.com/github/dinesh-umkc/kdm/blob/main/ICP_10_Text_Summarization.ipynb\" target=\"_parent\"><img src=\"https://colab.research.google.com/assets/colab-badge.svg\" alt=\"Open In Colab\"/></a>"
      ]
    },
    {
      "cell_type": "markdown",
      "source": [
        "#Objective\n",
        "Text Summarization Extractive vs Abstractive\n",
        "###- Get content from wiki page and summarize the content using bert and GPT"
      ],
      "metadata": {
        "id": "40PMboj7Sw0M"
      }
    },
    {
      "cell_type": "code",
      "execution_count": 2,
      "metadata": {
        "id": "hkoHpbKcRR9R",
        "colab": {
          "base_uri": "https://localhost:8080/"
        },
        "outputId": "64121b7a-3af4-4364-9ee8-71ea847b5fab"
      },
      "outputs": [
        {
          "output_type": "stream",
          "name": "stdout",
          "text": [
            "Looking in indexes: https://pypi.org/simple, https://us-python.pkg.dev/colab-wheels/public/simple/\n",
            "Requirement already satisfied: bert-extractive-summarizer in /usr/local/lib/python3.7/dist-packages (0.10.1)\n",
            "Requirement already satisfied: scikit-learn in /usr/local/lib/python3.7/dist-packages (from bert-extractive-summarizer) (1.0.2)\n",
            "Requirement already satisfied: spacy in /usr/local/lib/python3.7/dist-packages (from bert-extractive-summarizer) (3.4.2)\n",
            "Requirement already satisfied: transformers in /usr/local/lib/python3.7/dist-packages (from bert-extractive-summarizer) (4.24.0)\n",
            "Requirement already satisfied: joblib>=0.11 in /usr/local/lib/python3.7/dist-packages (from scikit-learn->bert-extractive-summarizer) (1.2.0)\n",
            "Requirement already satisfied: numpy>=1.14.6 in /usr/local/lib/python3.7/dist-packages (from scikit-learn->bert-extractive-summarizer) (1.21.6)\n",
            "Requirement already satisfied: scipy>=1.1.0 in /usr/local/lib/python3.7/dist-packages (from scikit-learn->bert-extractive-summarizer) (1.7.3)\n",
            "Requirement already satisfied: threadpoolctl>=2.0.0 in /usr/local/lib/python3.7/dist-packages (from scikit-learn->bert-extractive-summarizer) (3.1.0)\n",
            "Requirement already satisfied: murmurhash<1.1.0,>=0.28.0 in /usr/local/lib/python3.7/dist-packages (from spacy->bert-extractive-summarizer) (1.0.9)\n",
            "Requirement already satisfied: spacy-legacy<3.1.0,>=3.0.10 in /usr/local/lib/python3.7/dist-packages (from spacy->bert-extractive-summarizer) (3.0.10)\n",
            "Requirement already satisfied: tqdm<5.0.0,>=4.38.0 in /usr/local/lib/python3.7/dist-packages (from spacy->bert-extractive-summarizer) (4.64.1)\n",
            "Requirement already satisfied: packaging>=20.0 in /usr/local/lib/python3.7/dist-packages (from spacy->bert-extractive-summarizer) (21.3)\n",
            "Requirement already satisfied: srsly<3.0.0,>=2.4.3 in /usr/local/lib/python3.7/dist-packages (from spacy->bert-extractive-summarizer) (2.4.5)\n",
            "Requirement already satisfied: cymem<2.1.0,>=2.0.2 in /usr/local/lib/python3.7/dist-packages (from spacy->bert-extractive-summarizer) (2.0.7)\n",
            "Requirement already satisfied: pathy>=0.3.5 in /usr/local/lib/python3.7/dist-packages (from spacy->bert-extractive-summarizer) (0.6.2)\n",
            "Requirement already satisfied: setuptools in /usr/local/lib/python3.7/dist-packages (from spacy->bert-extractive-summarizer) (57.4.0)\n",
            "Requirement already satisfied: langcodes<4.0.0,>=3.2.0 in /usr/local/lib/python3.7/dist-packages (from spacy->bert-extractive-summarizer) (3.3.0)\n",
            "Requirement already satisfied: thinc<8.2.0,>=8.1.0 in /usr/local/lib/python3.7/dist-packages (from spacy->bert-extractive-summarizer) (8.1.5)\n",
            "Requirement already satisfied: typing-extensions<4.2.0,>=3.7.4 in /usr/local/lib/python3.7/dist-packages (from spacy->bert-extractive-summarizer) (4.1.1)\n",
            "Requirement already satisfied: pydantic!=1.8,!=1.8.1,<1.11.0,>=1.7.4 in /usr/local/lib/python3.7/dist-packages (from spacy->bert-extractive-summarizer) (1.10.2)\n",
            "Requirement already satisfied: catalogue<2.1.0,>=2.0.6 in /usr/local/lib/python3.7/dist-packages (from spacy->bert-extractive-summarizer) (2.0.8)\n",
            "Requirement already satisfied: typer<0.5.0,>=0.3.0 in /usr/local/lib/python3.7/dist-packages (from spacy->bert-extractive-summarizer) (0.4.2)\n",
            "Requirement already satisfied: jinja2 in /usr/local/lib/python3.7/dist-packages (from spacy->bert-extractive-summarizer) (2.11.3)\n",
            "Requirement already satisfied: spacy-loggers<2.0.0,>=1.0.0 in /usr/local/lib/python3.7/dist-packages (from spacy->bert-extractive-summarizer) (1.0.3)\n",
            "Requirement already satisfied: wasabi<1.1.0,>=0.9.1 in /usr/local/lib/python3.7/dist-packages (from spacy->bert-extractive-summarizer) (0.10.1)\n",
            "Requirement already satisfied: requests<3.0.0,>=2.13.0 in /usr/local/lib/python3.7/dist-packages (from spacy->bert-extractive-summarizer) (2.23.0)\n",
            "Requirement already satisfied: preshed<3.1.0,>=3.0.2 in /usr/local/lib/python3.7/dist-packages (from spacy->bert-extractive-summarizer) (3.0.8)\n",
            "Requirement already satisfied: zipp>=0.5 in /usr/local/lib/python3.7/dist-packages (from catalogue<2.1.0,>=2.0.6->spacy->bert-extractive-summarizer) (3.10.0)\n",
            "Requirement already satisfied: pyparsing!=3.0.5,>=2.0.2 in /usr/local/lib/python3.7/dist-packages (from packaging>=20.0->spacy->bert-extractive-summarizer) (3.0.9)\n",
            "Requirement already satisfied: smart-open<6.0.0,>=5.2.1 in /usr/local/lib/python3.7/dist-packages (from pathy>=0.3.5->spacy->bert-extractive-summarizer) (5.2.1)\n",
            "Requirement already satisfied: urllib3!=1.25.0,!=1.25.1,<1.26,>=1.21.1 in /usr/local/lib/python3.7/dist-packages (from requests<3.0.0,>=2.13.0->spacy->bert-extractive-summarizer) (1.24.3)\n",
            "Requirement already satisfied: idna<3,>=2.5 in /usr/local/lib/python3.7/dist-packages (from requests<3.0.0,>=2.13.0->spacy->bert-extractive-summarizer) (2.10)\n",
            "Requirement already satisfied: certifi>=2017.4.17 in /usr/local/lib/python3.7/dist-packages (from requests<3.0.0,>=2.13.0->spacy->bert-extractive-summarizer) (2022.9.24)\n",
            "Requirement already satisfied: chardet<4,>=3.0.2 in /usr/local/lib/python3.7/dist-packages (from requests<3.0.0,>=2.13.0->spacy->bert-extractive-summarizer) (3.0.4)\n",
            "Requirement already satisfied: confection<1.0.0,>=0.0.1 in /usr/local/lib/python3.7/dist-packages (from thinc<8.2.0,>=8.1.0->spacy->bert-extractive-summarizer) (0.0.3)\n",
            "Requirement already satisfied: blis<0.8.0,>=0.7.8 in /usr/local/lib/python3.7/dist-packages (from thinc<8.2.0,>=8.1.0->spacy->bert-extractive-summarizer) (0.7.9)\n",
            "Requirement already satisfied: click<9.0.0,>=7.1.1 in /usr/local/lib/python3.7/dist-packages (from typer<0.5.0,>=0.3.0->spacy->bert-extractive-summarizer) (7.1.2)\n",
            "Requirement already satisfied: MarkupSafe>=0.23 in /usr/local/lib/python3.7/dist-packages (from jinja2->spacy->bert-extractive-summarizer) (2.0.1)\n",
            "Requirement already satisfied: filelock in /usr/local/lib/python3.7/dist-packages (from transformers->bert-extractive-summarizer) (3.8.0)\n",
            "Requirement already satisfied: tokenizers!=0.11.3,<0.14,>=0.11.1 in /usr/local/lib/python3.7/dist-packages (from transformers->bert-extractive-summarizer) (0.13.2)\n",
            "Requirement already satisfied: huggingface-hub<1.0,>=0.10.0 in /usr/local/lib/python3.7/dist-packages (from transformers->bert-extractive-summarizer) (0.11.0)\n",
            "Requirement already satisfied: pyyaml>=5.1 in /usr/local/lib/python3.7/dist-packages (from transformers->bert-extractive-summarizer) (6.0)\n",
            "Requirement already satisfied: regex!=2019.12.17 in /usr/local/lib/python3.7/dist-packages (from transformers->bert-extractive-summarizer) (2022.6.2)\n",
            "Requirement already satisfied: importlib-metadata in /usr/local/lib/python3.7/dist-packages (from transformers->bert-extractive-summarizer) (4.13.0)\n",
            "Looking in indexes: https://pypi.org/simple, https://us-python.pkg.dev/colab-wheels/public/simple/\n",
            "Requirement already satisfied: sentencepiece in /usr/local/lib/python3.7/dist-packages (0.1.97)\n"
          ]
        }
      ],
      "source": [
        "!pip install bert-extractive-summarizer\n",
        "!pip install sentencepiece"
      ]
    },
    {
      "cell_type": "markdown",
      "source": [
        "##Get wiki data"
      ],
      "metadata": {
        "id": "mj2ZaSneXL6r"
      }
    },
    {
      "cell_type": "code",
      "source": [
        "import urllib\n",
        "from bs4 import BeautifulSoup\n",
        "\n",
        "from urllib.request import urlopen\n",
        "from bs4 import BeautifulSoup\n",
        "#documents2 = []\n",
        "\n",
        "import re\n",
        "regex = re.compile(r'<[^>]+>')\n",
        "\n",
        "def remove_html(string):\n",
        "    filtered = filter(lambda x: not re.match(r'^\\s*$', x), string)\n",
        "    return regex.sub('', filtered)\n",
        "\n",
        "def getContent2(url): \n",
        "  html = urlopen(url).read()\n",
        "  soup = BeautifulSoup(html, features=\"html.parser\")\n",
        "  for script in soup([\"script\", \"style\"]):\n",
        "    script.extract()\n",
        "  text = soup.get_text()\n",
        "  text = \"\".join([s for s in text.splitlines(True) if s.strip(\"\\r\\n\")])\n",
        "  #print(text)\n",
        "  #documents2.append(remove_html(text))\n",
        "  return text\n",
        "  \n",
        "\n",
        "url=\"https://en.wikipedia.org/wiki/United_States\"\n",
        "content= getContent2(url)\n",
        "#(documents2[0])[:500]\n",
        "#url=\"https://en.wikipedia.org/wiki/India\"\n",
        "#getContent2(url)"
      ],
      "metadata": {
        "id": "OMMzzX_pWP65"
      },
      "execution_count": 3,
      "outputs": []
    },
    {
      "cell_type": "markdown",
      "source": [
        "#Import Bert Summarizer"
      ],
      "metadata": {
        "id": "8aOAJlXFXQKN"
      }
    },
    {
      "cell_type": "code",
      "source": [
        "from summarizer import Summarizer\n",
        "\n",
        "bert_model = Summarizer()"
      ],
      "metadata": {
        "colab": {
          "base_uri": "https://localhost:8080/"
        },
        "id": "Vuew1n5yXXA8",
        "outputId": "cfd94a86-735c-42c7-f55b-15be41133702"
      },
      "execution_count": 4,
      "outputs": [
        {
          "output_type": "stream",
          "name": "stderr",
          "text": [
            "Some weights of the model checkpoint at bert-large-uncased were not used when initializing BertModel: ['cls.predictions.transform.LayerNorm.bias', 'cls.predictions.bias', 'cls.predictions.transform.dense.weight', 'cls.predictions.transform.LayerNorm.weight', 'cls.predictions.transform.dense.bias', 'cls.seq_relationship.weight', 'cls.predictions.decoder.weight', 'cls.seq_relationship.bias']\n",
            "- This IS expected if you are initializing BertModel from the checkpoint of a model trained on another task or with another architecture (e.g. initializing a BertForSequenceClassification model from a BertForPreTraining model).\n",
            "- This IS NOT expected if you are initializing BertModel from the checkpoint of a model that you expect to be exactly identical (initializing a BertForSequenceClassification model from a BertForSequenceClassification model).\n"
          ]
        }
      ]
    },
    {
      "cell_type": "code",
      "source": [
        "result = bert_model(content, min_length=10,  num_sentences=10)\n",
        "BERT_Summary = ''.join(result).replace('. ', '. \\n').replace(' ','')\n",
        "print(BERT_Summary)"
      ],
      "metadata": {
        "colab": {
          "base_uri": "https://localhost:8080/"
        },
        "id": "bBQXGRpfX5e0",
        "outputId": "3cab43b9-9b1f-4755-e06b-01c48ff4c1f2"
      },
      "execution_count": 5,
      "outputs": [
        {
          "output_type": "stream",
          "name": "stdout",
          "text": [
            "UnitedStates-Wikipedia\n",
            "\n",
            "UnitedStates\n",
            "FromWikipedia,thefreeencyclopedia\n",
            "Jumptonavigation\n",
            "Jumptosearch\n",
            "CountryinNorthAmerica\n",
            "Severaltermsredirecthere.\n",
            "TheItalianexplorerwasthefirsttopostulatethattheWestIndiesdidnotrepresentAsia'seasternlimitbutwerepartofapreviouslyunknownlandmass.[26][27]In1538,theFlemishcartographerGerardusMercatorusedthename\"America\"torefertotheentireWesternHemisphere.[28]\n",
            "Thefirstdocumentaryevidenceofthephrase\"UnitedStatesofAmerica\"datesfromaJanuary 2,1776letterwrittenbyStephenMoylantoJosephReed,GeorgeWashington'saide-de-camp.\n",
            "ISBN 978-0-520-21771-3.\n",
            "Archivedfromtheoriginal(PDF)onDecember13,2014.\n",
            "LearnabouttheUnitedStates:QuickCivicsLessonsfortheNaturalizationTest.\n",
            "RetrievedJanuary8,2022.\n",
            "^Clifton,Jon(March21,2013).\n",
            "\"GlobalNews.\n",
            "RetrievedJuly2,2014.\n",
            "WilfridLaurierUniversityPress.\n"
          ]
        }
      ]
    },
    {
      "cell_type": "code",
      "source": [
        "from summarizer import Summarizer, TransformerSummarizer"
      ],
      "metadata": {
        "id": "bXEQlyYjeiuu"
      },
      "execution_count": 6,
      "outputs": []
    },
    {
      "cell_type": "code",
      "source": [
        "GPT2_model = TransformerSummarizer(transformer_type=\"GPT2\",transformer_model_key=\"gpt2-large\")"
      ],
      "metadata": {
        "id": "GRzsYwx8eo2-"
      },
      "execution_count": 7,
      "outputs": []
    },
    {
      "cell_type": "code",
      "source": [
        "GPT_Summary = ''.join(GPT2_model(content, min_length=60, num_sentences=10)).replace('. ', '. \\n')\n",
        "print(GPT_Summary)"
      ],
      "metadata": {
        "colab": {
          "base_uri": "https://localhost:8080/"
        },
        "id": "Sdr3g5HUe0g-",
        "outputId": "eae6f66e-ff9a-4e31-b1b7-7f05676cfa5a"
      },
      "execution_count": 8,
      "outputs": [
        {
          "output_type": "stream",
          "name": "stdout",
          "text": [
            "United States - Wikipedia\n",
            " \n",
            "United States\n",
            "From Wikipedia, the free encyclopedia\n",
            "Jump to navigation\n",
            "Jump to search\n",
            "Country in North America\n",
            "Several terms  redirect here. \n",
            "In 1784, the Russians were the first Europeans to establish a settlement in Alaska, at Three Saints Bay.[58] The native population of America declined after European arrival for various reasons,[59][60][61] primarily from diseases such as smallpox and measles.[62][63]\n",
            " The landing of the first Africans in Virginia in 1619 is considered the start of African slavery in the colonial history of the United States.[64][65]\n",
            "In the early days of colonization, many European settlers experienced food shortages, disease, and conflicts with Native Americans, such as in King Philip's War. \n",
            "American sovereignty became internationally recognized, and the new nation took possession of substantial territory east of the Mississippi River, from what is today Canada in the north and Florida in the south.[citation needed]\n",
            "As it became increasingly apparent that the Confederation was insufficient to govern the new country, nationalists advocated for and led the Philadelphia Convention of 1787 in writing the United States Constitution to replace it, ratified in state conventions in 1788. \n",
            "They are prohibited from making war, engaging in their own foreign relations, and printing or issuing independent currency.[256] Indian reservations are usually contained within one state, but there are 12 reservations that cross state boundaries.[257]\n",
            "Foreign relations\n",
            "Main articles: Foreign relations of the United States and Foreign policy of the United States\n",
            " The United Nations headquarters has been situated along the East River in Midtown Manhattan since 1952. \n",
            "Carolinian is also an official language in the Northern Mariana Islands.[4][5]\n",
            "^ So that all figures add up to 100%, people listed as Multiracial are not counted again as one of their other self-identified races. \n",
            "Toward A Social History of the American Civil War: Exploratory Essays. \n",
            "^ Hounshell, David A. \n",
            "(1984), From the American System to Mass Production, 1800–1932: The Development of Manufacturing Technology in the United States, Baltimore, Maryland: Johns Hopkins University Press, ISBN 978-0-8018-2975-8, LCCN 83016269, OCLC 1104810110\n",
            "^ \"Research and Development (R&D) Expenditures by Source and Objective: 1970 to 2004\". \n",
            "^ Goldberg, David; Looney, Dennis; Lusin, Natalia (February 2015). \n",
            "\" In the U.S., more than two-thirds of Christians say religion is very important in their lives, compared with significantly lower levels in other rich democracies. \n",
            "^ \"New International Report on Health Care: U.S. \n",
            "Suicide Rate Highest Among Wealthy Nations | Commonwealth Fund\".\n"
          ]
        }
      ]
    },
    {
      "cell_type": "code",
      "source": [
        "print('SUMMARY RESULT:\\n\\n\\tBERT: {}\\n\\n\\tGPT-2: {}'.format(BERT_Summary, GPT_Summary))"
      ],
      "metadata": {
        "colab": {
          "base_uri": "https://localhost:8080/"
        },
        "id": "sPOGHsH_gdSR",
        "outputId": "e2248929-055f-4c92-bef4-ea2ec81578aa"
      },
      "execution_count": 9,
      "outputs": [
        {
          "output_type": "stream",
          "name": "stdout",
          "text": [
            "SUMMARY RESULT:\n",
            "\n",
            "\tBERT: UnitedStates-Wikipedia\n",
            "\n",
            "UnitedStates\n",
            "FromWikipedia,thefreeencyclopedia\n",
            "Jumptonavigation\n",
            "Jumptosearch\n",
            "CountryinNorthAmerica\n",
            "Severaltermsredirecthere.\n",
            "TheItalianexplorerwasthefirsttopostulatethattheWestIndiesdidnotrepresentAsia'seasternlimitbutwerepartofapreviouslyunknownlandmass.[26][27]In1538,theFlemishcartographerGerardusMercatorusedthename\"America\"torefertotheentireWesternHemisphere.[28]\n",
            "Thefirstdocumentaryevidenceofthephrase\"UnitedStatesofAmerica\"datesfromaJanuary 2,1776letterwrittenbyStephenMoylantoJosephReed,GeorgeWashington'saide-de-camp.\n",
            "ISBN 978-0-520-21771-3.\n",
            "Archivedfromtheoriginal(PDF)onDecember13,2014.\n",
            "LearnabouttheUnitedStates:QuickCivicsLessonsfortheNaturalizationTest.\n",
            "RetrievedJanuary8,2022.\n",
            "^Clifton,Jon(March21,2013).\n",
            "\"GlobalNews.\n",
            "RetrievedJuly2,2014.\n",
            "WilfridLaurierUniversityPress.\n",
            "\n",
            "\tGPT-2: United States - Wikipedia\n",
            " \n",
            "United States\n",
            "From Wikipedia, the free encyclopedia\n",
            "Jump to navigation\n",
            "Jump to search\n",
            "Country in North America\n",
            "Several terms  redirect here. \n",
            "In 1784, the Russians were the first Europeans to establish a settlement in Alaska, at Three Saints Bay.[58] The native population of America declined after European arrival for various reasons,[59][60][61] primarily from diseases such as smallpox and measles.[62][63]\n",
            " The landing of the first Africans in Virginia in 1619 is considered the start of African slavery in the colonial history of the United States.[64][65]\n",
            "In the early days of colonization, many European settlers experienced food shortages, disease, and conflicts with Native Americans, such as in King Philip's War. \n",
            "American sovereignty became internationally recognized, and the new nation took possession of substantial territory east of the Mississippi River, from what is today Canada in the north and Florida in the south.[citation needed]\n",
            "As it became increasingly apparent that the Confederation was insufficient to govern the new country, nationalists advocated for and led the Philadelphia Convention of 1787 in writing the United States Constitution to replace it, ratified in state conventions in 1788. \n",
            "They are prohibited from making war, engaging in their own foreign relations, and printing or issuing independent currency.[256] Indian reservations are usually contained within one state, but there are 12 reservations that cross state boundaries.[257]\n",
            "Foreign relations\n",
            "Main articles: Foreign relations of the United States and Foreign policy of the United States\n",
            " The United Nations headquarters has been situated along the East River in Midtown Manhattan since 1952. \n",
            "Carolinian is also an official language in the Northern Mariana Islands.[4][5]\n",
            "^ So that all figures add up to 100%, people listed as Multiracial are not counted again as one of their other self-identified races. \n",
            "Toward A Social History of the American Civil War: Exploratory Essays. \n",
            "^ Hounshell, David A. \n",
            "(1984), From the American System to Mass Production, 1800–1932: The Development of Manufacturing Technology in the United States, Baltimore, Maryland: Johns Hopkins University Press, ISBN 978-0-8018-2975-8, LCCN 83016269, OCLC 1104810110\n",
            "^ \"Research and Development (R&D) Expenditures by Source and Objective: 1970 to 2004\". \n",
            "^ Goldberg, David; Looney, Dennis; Lusin, Natalia (February 2015). \n",
            "\" In the U.S., more than two-thirds of Christians say religion is very important in their lives, compared with significantly lower levels in other rich democracies. \n",
            "^ \"New International Report on Health Care: U.S. \n",
            "Suicide Rate Highest Among Wealthy Nations | Commonwealth Fund\".\n"
          ]
        }
      ]
    },
    {
      "cell_type": "markdown",
      "source": [
        "#Abstractive Summarization"
      ],
      "metadata": {
        "id": "006DMW_Vj27r"
      }
    },
    {
      "cell_type": "code",
      "source": [
        "from transformers import pipeline\n",
        "\n",
        "summarizer = pipeline(\"summarization\") #BART model\n",
        "summarizer_t5 = pipeline(\"summarization\", model = 't5-base')"
      ],
      "metadata": {
        "colab": {
          "base_uri": "https://localhost:8080/"
        },
        "id": "ESy5xXXZj-m4",
        "outputId": "66fb9590-2147-4765-ffb0-cd3359039f40"
      },
      "execution_count": 10,
      "outputs": [
        {
          "output_type": "stream",
          "name": "stderr",
          "text": [
            "No model was supplied, defaulted to sshleifer/distilbart-cnn-12-6 and revision a4f8f3e (https://huggingface.co/sshleifer/distilbart-cnn-12-6).\n",
            "Using a pipeline without specifying a model name and revision in production is not recommended.\n",
            "/usr/local/lib/python3.7/dist-packages/transformers/models/t5/tokenization_t5_fast.py:166: FutureWarning: This tokenizer was incorrectly instantiated with a model max length of 512 which will be corrected in Transformers v5.\n",
            "For now, this behavior is kept to avoid breaking backwards compatibility when padding/encoding with `truncation is True`.\n",
            "- Be aware that you SHOULD NOT rely on t5-base automatically truncating your input to 512 when padding/encoding.\n",
            "- If you want to encode/pad to sequences longer than 512 you can either instantiate this tokenizer with `model_max_length` or pass `max_length` when encoding/padding.\n",
            "- To avoid this warning, please instantiate this tokenizer with `model_max_length` set to your preferred value.\n",
            "  FutureWarning,\n"
          ]
        }
      ]
    },
    {
      "cell_type": "code",
      "source": [
        "url=\"https://en.wikipedia.org/wiki/India\"\n",
        "content2= getContent2(url)\n",
        "#print(content2)"
      ],
      "metadata": {
        "id": "DKViezvakPJV"
      },
      "execution_count": 11,
      "outputs": []
    },
    {
      "cell_type": "code",
      "source": [
        "#summary_BART = summarizer(content2)[0]['summary_text']\n",
        "summary_t5 = summarizer_t5(content2, max_length=130, min_length=30, do_sample=False, top_k = 3, top_p = 0.92)[0]['summary_text']"
      ],
      "metadata": {
        "id": "DrWPzKtD3Fqc",
        "outputId": "9930a3ae-ef92-4e90-df76-96799e02baa4",
        "colab": {
          "base_uri": "https://localhost:8080/"
        }
      },
      "execution_count": null,
      "outputs": [
        {
          "output_type": "stream",
          "name": "stderr",
          "text": [
            "Token indices sequence length is longer than the specified maximum sequence length for this model (54690 > 512). Running this sequence through the model will result in indexing errors\n"
          ]
        }
      ]
    }
  ]
}