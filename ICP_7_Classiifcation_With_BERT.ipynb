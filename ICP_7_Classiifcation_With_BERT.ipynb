{
  "nbformat": 4,
  "nbformat_minor": 0,
  "metadata": {
    "colab": {
      "provenance": [],
      "authorship_tag": "ABX9TyOTzOei6+XeB66RP2pXYz6e",
      "include_colab_link": true
    },
    "kernelspec": {
      "name": "python3",
      "display_name": "Python 3"
    },
    "language_info": {
      "name": "python"
    }
  },
  "cells": [
    {
      "cell_type": "markdown",
      "metadata": {
        "id": "view-in-github",
        "colab_type": "text"
      },
      "source": [
        "<a href=\"https://colab.research.google.com/github/dinesh-umkc/kdm/blob/main/ICP_7_Classiifcation_With_BERT.ipynb\" target=\"_parent\"><img src=\"https://colab.research.google.com/assets/colab-badge.svg\" alt=\"Open In Colab\"/></a>"
      ]
    },
    {
      "cell_type": "markdown",
      "source": [
        "#Objective\n",
        "1. Explore BERT model\n",
        "2. Perfom spam classifaction with bert-large-uncased model\n",
        "3. Perform spam classification with Naive Bayes, Logistic Regression, SVM\n",
        "4. Compare performance of each"
      ],
      "metadata": {
        "id": "H0nAlK5jUXrY"
      }
    },
    {
      "cell_type": "code",
      "execution_count": null,
      "metadata": {
        "id": "i8N1ZHZzUEGh"
      },
      "outputs": [],
      "source": []
    }
  ]
}