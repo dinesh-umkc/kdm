{
  "nbformat": 4,
  "nbformat_minor": 0,
  "metadata": {
    "colab": {
      "provenance": [],
      "authorship_tag": "ABX9TyMxOW2vMaTwArQNNlNxNDlT",
      "include_colab_link": true
    },
    "kernelspec": {
      "name": "python3",
      "display_name": "Python 3"
    },
    "language_info": {
      "name": "python"
    }
  },
  "cells": [
    {
      "cell_type": "markdown",
      "metadata": {
        "id": "view-in-github",
        "colab_type": "text"
      },
      "source": [
        "<a href=\"https://colab.research.google.com/github/dinesh-umkc/kdm/blob/main/ICP6_LCA.ipynb\" target=\"_parent\"><img src=\"https://colab.research.google.com/assets/colab-badge.svg\" alt=\"Open In Colab\"/></a>"
      ]
    },
    {
      "cell_type": "markdown",
      "source": [
        "#LCA- Topic Modeling\n",
        "#Objective\n",
        "1. Get books from https://www.gutenberg.org \n",
        "2. Clean content from book data\n",
        "3. Get topics using LCA\n",
        "4. Get content from these threads\n",
        " - 2meirl4meirl — 842,000 subscribers\n",
        " - disneyvacation — 478,000 subscribers\n",
        " - unresolvedmysteries — 732,000 subscribers\n",
        " - wewantplates — 502,000 subscribers\n",
        " - antiMLM — 493,000 subscribers\n",
        "5. Clean content from thread data\n",
        "6. Get topics using LCA"
      ],
      "metadata": {
        "id": "exDdnjbDA0Sp"
      }
    },
    {
      "cell_type": "code",
      "execution_count": 1,
      "metadata": {
        "id": "oMCoc3J-AW_q"
      },
      "outputs": [],
      "source": [
        "import urllib\n",
        "from bs4 import BeautifulSoup\n",
        "\n",
        "from urllib.request import urlopen\n",
        "from bs4 import BeautifulSoup\n",
        "documents = []\n",
        "\n",
        "import re\n",
        "regex = re.compile(r'<[^>]+>')\n",
        "\n",
        "def remove_html(string):\n",
        "    return regex.sub('', string)\n",
        "\n",
        "def getContent(url): \n",
        "  #url = \"https://www.gutenberg.org/files/55/55-h/55-h.htm\" \n",
        "  html = urlopen(url).read()\n",
        "  soup = BeautifulSoup(html, features=\"html.parser\")\n",
        "  for script in soup([\"script\", \"style\"]):\n",
        "    script.extract()\n",
        "  text = soup.get_text()\n",
        "  documents.append(remove_html(text))\n",
        "\n",
        "url=\"https://www.gutenberg.org/files/55/55-h/55-h.htm\"\n",
        "getContent(url)\n",
        "(documents[0])[:500]\n",
        "url = \"https://www.gutenberg.org/files/54/54-h/54-h.htm\" \n",
        "getContent(url)\n",
        "url = \"https://www.gutenberg.org/files/33361/33361-h/33361-h.htm\" \n",
        "getContent(url)\n",
        "url = \"https://www.gutenberg.org/files/22566/22566-h/22566-h.htm\" \n",
        "getContent(url)\n",
        "url = \"https://www.gutenberg.org/files/26624/26624-h/26624-h.htm\" \n",
        "getContent(url)\n",
        "\n"
      ]
    },
    {
      "cell_type": "code",
      "source": [
        "import nltk\n",
        "nltk.download('stopwords')\n",
        "from sklearn.feature_extraction.text import TfidfVectorizer,CountVectorizer\n",
        "\n",
        "tfidf_vect = CountVectorizer(analyzer='word', stop_words = 'english')\n",
        "df=tfidf_vect.fit_transform(documents)\n",
        "vocab = tfidf_vect.get_feature_names_out()\n"
      ],
      "metadata": {
        "colab": {
          "base_uri": "https://localhost:8080/"
        },
        "id": "zMw2_-yuL7M-",
        "outputId": "3c3c27ef-d6e6-4e49-f697-434a80aec611"
      },
      "execution_count": 2,
      "outputs": [
        {
          "output_type": "stream",
          "name": "stderr",
          "text": [
            "[nltk_data] Downloading package stopwords to /root/nltk_data...\n",
            "[nltk_data]   Unzipping corpora/stopwords.zip.\n"
          ]
        }
      ]
    },
    {
      "cell_type": "code",
      "source": [
        "vocab"
      ],
      "metadata": {
        "colab": {
          "base_uri": "https://localhost:8080/"
        },
        "id": "WDR4ZUcXNDu_",
        "outputId": "e36a8ac3-3f1c-469c-a8de-d071b1a0ed20"
      },
      "execution_count": null,
      "outputs": [
        {
          "output_type": "execute_result",
          "data": {
            "text/plain": [
              "array(['00', '000', '10', ..., 'zoroaster', 'zuz', 'zy'], dtype=object)"
            ]
          },
          "metadata": {},
          "execution_count": 39
        }
      ]
    },
    {
      "cell_type": "code",
      "source": [
        "print(df.shape)"
      ],
      "metadata": {
        "colab": {
          "base_uri": "https://localhost:8080/"
        },
        "id": "MNC1YuqKNIfa",
        "outputId": "b709690e-6022-49fe-8ac3-0a8dcecd48a7"
      },
      "execution_count": null,
      "outputs": [
        {
          "output_type": "stream",
          "name": "stdout",
          "text": [
            "(5, 8851)\n"
          ]
        }
      ]
    },
    {
      "cell_type": "code",
      "source": [
        "print(df[0])"
      ],
      "metadata": {
        "colab": {
          "base_uri": "https://localhost:8080/"
        },
        "id": "N1srVjFLOj7k",
        "outputId": "2a8e6c48-e6d8-426f-d07f-837751267319"
      },
      "execution_count": null,
      "outputs": [
        {
          "output_type": "stream",
          "name": "stdout",
          "text": [
            "  (0, 5177)\t0.0010695255139764681\n",
            "  (0, 7601)\t0.0010695255139764681\n",
            "  (0, 5952)\t0.0010695255139764681\n",
            "  (0, 2958)\t0.0010695255139764681\n",
            "  (0, 5626)\t0.0010695255139764681\n",
            "  (0, 4749)\t0.0010695255139764681\n",
            "  (0, 2655)\t0.0010695255139764681\n",
            "  (0, 5136)\t0.0010695255139764681\n",
            "  (0, 1783)\t0.0010695255139764681\n",
            "  (0, 8434)\t0.0010695255139764681\n",
            "  (0, 5168)\t0.0010695255139764681\n",
            "  (0, 4675)\t0.0010695255139764681\n",
            "  (0, 5953)\t0.0010695255139764681\n",
            "  (0, 6889)\t0.0010695255139764681\n",
            "  (0, 5361)\t0.0010695255139764681\n",
            "  (0, 3775)\t0.0010695255139764681\n",
            "  (0, 4913)\t0.0010695255139764681\n",
            "  (0, 5957)\t0.0010695255139764681\n",
            "  (0, 1352)\t0.0010695255139764681\n",
            "  (0, 2005)\t0.0010695255139764681\n",
            "  (0, 8527)\t0.0010695255139764681\n",
            "  (0, 401)\t0.0010695255139764681\n",
            "  (0, 4910)\t0.0010695255139764681\n",
            "  (0, 2484)\t0.0010695255139764681\n",
            "  (0, 5427)\t0.0010695255139764681\n",
            "  :\t:\n",
            "  (0, 4644)\t0.007486678597835278\n",
            "  (0, 5353)\t0.010695255139764681\n",
            "  (0, 8794)\t0.010695255139764681\n",
            "  (0, 5320)\t0.004278102055905873\n",
            "  (0, 4108)\t0.003208576541929405\n",
            "  (0, 4567)\t0.01925145925157643\n",
            "  (0, 7827)\t0.0235295613074823\n",
            "  (0, 766)\t0.07593631149232924\n",
            "  (0, 1886)\t0.01283430616771762\n",
            "  (0, 8573)\t0.0021390510279529363\n",
            "  (0, 6420)\t0.0021390510279529363\n",
            "  (0, 1915)\t0.004278102055905873\n",
            "  (0, 8749)\t0.020320984765552896\n",
            "  (0, 5481)\t0.002529046141431025\n",
            "  (0, 7421)\t0.020320984765552896\n",
            "  (0, 8255)\t0.016042882709647023\n",
            "  (0, 8323)\t0.02994671439134111\n",
            "  (0, 860)\t0.005347627569882341\n",
            "  (0, 3303)\t0.005347627569882341\n",
            "  (0, 5411)\t0.18074981186202313\n",
            "  (0, 8697)\t0.0470591226149646\n",
            "  (0, 8716)\t0.02994671439134111\n",
            "  (0, 2645)\t0.014973357195670556\n",
            "  (0, 3695)\t0.10588302588367035\n",
            "  (0, 5966)\t0.09518777074390568\n"
          ]
        }
      ]
    },
    {
      "cell_type": "code",
      "source": [
        "print (vocab[5177])"
      ],
      "metadata": {
        "colab": {
          "base_uri": "https://localhost:8080/"
        },
        "id": "SAwmUK6-OsYI",
        "outputId": "d147ba31-de47-4501-f953-00b09629270e"
      },
      "execution_count": null,
      "outputs": [
        {
          "output_type": "stream",
          "name": "stdout",
          "text": [
            "newsletter\n"
          ]
        }
      ]
    },
    {
      "cell_type": "code",
      "source": [
        "from sklearn.decomposition import LatentDirichletAllocation\n",
        "lda = LatentDirichletAllocation(n_components = 5, doc_topic_prior=1)\n",
        "lda.fit(df)\n",
        "lda.components_[0].shape"
      ],
      "metadata": {
        "colab": {
          "base_uri": "https://localhost:8080/"
        },
        "id": "NhgzFjoaO46U",
        "outputId": "91f23e46-5e8b-4084-bcc1-2c5e49fe38ea"
      },
      "execution_count": 3,
      "outputs": [
        {
          "output_type": "execute_result",
          "data": {
            "text/plain": [
              "(8851,)"
            ]
          },
          "metadata": {},
          "execution_count": 3
        }
      ]
    },
    {
      "cell_type": "code",
      "source": [
        "import numpy as np \n",
        "topic_words = {}\n",
        "n_top_words = 20\n",
        "for topic, comp in enumerate(lda.components_):\n",
        "    # print(topic, comp)\n",
        "    word_idx = np.argsort(comp)[::-1][:n_top_words] #argsort to get index, and [::-1] to sort in descending\n",
        "    # store the words most relevant to the topic\n",
        "    topic_words[topic] = [vocab[i] for i in word_idx]\n",
        "    # break\n",
        "    \n",
        "for topic, words in topic_words.items():\n",
        "    print('Topic: %d' % topic)\n",
        "    print('  %s' % ', '.join(words))"
      ],
      "metadata": {
        "colab": {
          "base_uri": "https://localhost:8080/"
        },
        "id": "bwnVMf5yPBaq",
        "outputId": "b40af3f2-285b-4b5d-9b88-d486b337cd92"
      },
      "execution_count": 4,
      "outputs": [
        {
          "output_type": "stream",
          "name": "stdout",
          "text": [
            "Topic: 0\n",
            "  said, tip, scarecrow, horse, jack, saw, woodman, tin, pumpkinhead, mombi, city, boy, bug, woggle, head, gutenberg, glinda, good, old, project\n",
            "Topic: 1\n",
            "  trained, connected, monstrous, deeds, lawn, wash, fragrance, severe, fancy, wailed, peaked, dwellings, dismal, butter, gauze, meadow, whirl, pies, pleaded, stare\n",
            "Topic: 2\n",
            "  dorothy, said, pg, wizard, little, king, ozma, girl, asked, gutenberg, project, oz, jim, time, billina, did, man, scarecrow, people, horse\n",
            "Topic: 3\n",
            "  dorothy, said, scarecrow, woodman, lion, oz, great, tin, little, witch, asked, green, came, good, gutenberg, girl, toto, head, project, shall\n",
            "Topic: 4\n",
            "  dorothy, man, shaggy, said, bright, button, little, asked, ozma, don, know, head, oz, king, gutenberg, good, project, like, tin, toto\n"
          ]
        }
      ]
    },
    {
      "cell_type": "markdown",
      "source": [
        "#Reddit Data"
      ],
      "metadata": {
        "id": "fJDlpU7Vta8e"
      }
    },
    {
      "cell_type": "code",
      "source": [
        "# !pip install praw\n",
        "!pip install asyncpraw"
      ],
      "metadata": {
        "id": "a6u9UMLtuimJ",
        "outputId": "69729c28-aa46-45c8-f751-6f5d021d3138",
        "colab": {
          "base_uri": "https://localhost:8080/"
        }
      },
      "execution_count": 5,
      "outputs": [
        {
          "output_type": "stream",
          "name": "stdout",
          "text": [
            "Looking in indexes: https://pypi.org/simple, https://us-python.pkg.dev/colab-wheels/public/simple/\n",
            "Collecting asyncpraw\n",
            "  Downloading asyncpraw-7.5.0-py3-none-any.whl (183 kB)\n",
            "\u001b[K     |████████████████████████████████| 183 kB 5.1 MB/s \n",
            "\u001b[?25hCollecting aiofiles<=0.6.0\n",
            "  Downloading aiofiles-0.6.0-py3-none-any.whl (11 kB)\n",
            "Collecting aiosqlite<=0.17.0\n",
            "  Downloading aiosqlite-0.17.0-py3-none-any.whl (15 kB)\n",
            "Collecting asyncio-extras<=1.3.2\n",
            "  Downloading asyncio_extras-1.3.2-py3-none-any.whl (8.4 kB)\n",
            "Collecting update-checker>=0.18\n",
            "  Downloading update_checker-0.18.0-py3-none-any.whl (7.0 kB)\n",
            "Collecting asyncprawcore<3,>=2.1\n",
            "  Downloading asyncprawcore-2.3.0-py3-none-any.whl (18 kB)\n",
            "Requirement already satisfied: typing_extensions>=3.7.2 in /usr/local/lib/python3.7/dist-packages (from aiosqlite<=0.17.0->asyncpraw) (4.1.1)\n",
            "Collecting async-generator>=1.3\n",
            "  Downloading async_generator-1.10-py3-none-any.whl (18 kB)\n",
            "Requirement already satisfied: aiohttp in /usr/local/lib/python3.7/dist-packages (from asyncprawcore<3,>=2.1->asyncpraw) (3.8.1)\n",
            "Requirement already satisfied: yarl in /usr/local/lib/python3.7/dist-packages (from asyncprawcore<3,>=2.1->asyncpraw) (1.8.1)\n",
            "Requirement already satisfied: requests>=2.3.0 in /usr/local/lib/python3.7/dist-packages (from update-checker>=0.18->asyncpraw) (2.23.0)\n",
            "Requirement already satisfied: chardet<4,>=3.0.2 in /usr/local/lib/python3.7/dist-packages (from requests>=2.3.0->update-checker>=0.18->asyncpraw) (3.0.4)\n",
            "Requirement already satisfied: urllib3!=1.25.0,!=1.25.1,<1.26,>=1.21.1 in /usr/local/lib/python3.7/dist-packages (from requests>=2.3.0->update-checker>=0.18->asyncpraw) (1.24.3)\n",
            "Requirement already satisfied: certifi>=2017.4.17 in /usr/local/lib/python3.7/dist-packages (from requests>=2.3.0->update-checker>=0.18->asyncpraw) (2022.6.15)\n",
            "Requirement already satisfied: idna<3,>=2.5 in /usr/local/lib/python3.7/dist-packages (from requests>=2.3.0->update-checker>=0.18->asyncpraw) (2.10)\n",
            "Requirement already satisfied: aiosignal>=1.1.2 in /usr/local/lib/python3.7/dist-packages (from aiohttp->asyncprawcore<3,>=2.1->asyncpraw) (1.2.0)\n",
            "Requirement already satisfied: multidict<7.0,>=4.5 in /usr/local/lib/python3.7/dist-packages (from aiohttp->asyncprawcore<3,>=2.1->asyncpraw) (6.0.2)\n",
            "Requirement already satisfied: async-timeout<5.0,>=4.0.0a3 in /usr/local/lib/python3.7/dist-packages (from aiohttp->asyncprawcore<3,>=2.1->asyncpraw) (4.0.2)\n",
            "Requirement already satisfied: charset-normalizer<3.0,>=2.0 in /usr/local/lib/python3.7/dist-packages (from aiohttp->asyncprawcore<3,>=2.1->asyncpraw) (2.1.1)\n",
            "Requirement already satisfied: frozenlist>=1.1.1 in /usr/local/lib/python3.7/dist-packages (from aiohttp->asyncprawcore<3,>=2.1->asyncpraw) (1.3.1)\n",
            "Requirement already satisfied: asynctest==0.13.0 in /usr/local/lib/python3.7/dist-packages (from aiohttp->asyncprawcore<3,>=2.1->asyncpraw) (0.13.0)\n",
            "Requirement already satisfied: attrs>=17.3.0 in /usr/local/lib/python3.7/dist-packages (from aiohttp->asyncprawcore<3,>=2.1->asyncpraw) (22.1.0)\n",
            "Installing collected packages: async-generator, update-checker, asyncprawcore, asyncio-extras, aiosqlite, aiofiles, asyncpraw\n",
            "Successfully installed aiofiles-0.6.0 aiosqlite-0.17.0 async-generator-1.10 asyncio-extras-1.3.2 asyncpraw-7.5.0 asyncprawcore-2.3.0 update-checker-0.18.0\n"
          ]
        }
      ]
    },
    {
      "cell_type": "code",
      "source": [
        "# import praw\n",
        "import asyncpraw as praw\n",
        "from asyncpraw.models import MoreComments\n",
        "reddit = praw.Reddit(\n",
        "    user_agent=\"Comment Extraction (by u/Bitter_Researcher859)\",\n",
        "    client_id=\"5YUVEJjNjYgNfwrR0Jle_Q\",\n",
        "    client_secret=\"y1Yw5hcMa874BIzhbG5DSFnE9f_ncg\",\n",
        "    redirect_uri='http://127.0.0.1:65010/'\n",
        "                                 'authorize_callback'\n",
        "    # username=\"USERNAME\",\n",
        "    # password=\"PASSWORD\"\n",
        ")"
      ],
      "metadata": {
        "id": "yc5EeGvotiFl"
      },
      "execution_count": 6,
      "outputs": []
    }
  ]
}