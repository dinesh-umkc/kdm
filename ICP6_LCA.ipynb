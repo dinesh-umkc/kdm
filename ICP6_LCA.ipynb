{
  "nbformat": 4,
  "nbformat_minor": 0,
  "metadata": {
    "colab": {
      "provenance": [],
      "authorship_tag": "ABX9TyPLsexmSg5864aQmeO+hGDK",
      "include_colab_link": true
    },
    "kernelspec": {
      "name": "python3",
      "display_name": "Python 3"
    },
    "language_info": {
      "name": "python"
    }
  },
  "cells": [
    {
      "cell_type": "markdown",
      "metadata": {
        "id": "view-in-github",
        "colab_type": "text"
      },
      "source": [
        "<a href=\"https://colab.research.google.com/github/dinesh-umkc/kdm/blob/main/ICP6_LCA.ipynb\" target=\"_parent\"><img src=\"https://colab.research.google.com/assets/colab-badge.svg\" alt=\"Open In Colab\"/></a>"
      ]
    },
    {
      "cell_type": "markdown",
      "source": [
        "#LCA- Topic Modeling\n",
        "#Objective\n",
        "1. Get books from https://www.gutenberg.org \n",
        "2. Clean content from book data\n",
        "3. Get topics using LCA\n",
        "4. Get content from these threads\n",
        " - 2meirl4meirl — 842,000 subscribers\n",
        " - disneyvacation — 478,000 subscribers\n",
        " - unresolvedmysteries — 732,000 subscribers\n",
        " - wewantplates — 502,000 subscribers\n",
        " - antiMLM — 493,000 subscribers\n",
        "5. Clean content from thread data\n",
        "6. Get topics using LCA"
      ],
      "metadata": {
        "id": "exDdnjbDA0Sp"
      }
    },
    {
      "cell_type": "code",
      "execution_count": null,
      "metadata": {
        "id": "oMCoc3J-AW_q"
      },
      "outputs": [],
      "source": []
    }
  ]
}