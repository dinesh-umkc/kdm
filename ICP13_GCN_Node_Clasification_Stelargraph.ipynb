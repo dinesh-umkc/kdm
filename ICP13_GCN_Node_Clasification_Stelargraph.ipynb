{
  "nbformat": 4,
  "nbformat_minor": 0,
  "metadata": {
    "colab": {
      "provenance": [],
      "authorship_tag": "ABX9TyNB5H++bCHc72jOmkQZiOKU",
      "include_colab_link": true
    },
    "kernelspec": {
      "name": "python3",
      "display_name": "Python 3"
    },
    "language_info": {
      "name": "python"
    }
  },
  "cells": [
    {
      "cell_type": "markdown",
      "metadata": {
        "id": "view-in-github",
        "colab_type": "text"
      },
      "source": [
        "<a href=\"https://colab.research.google.com/github/dinesh-umkc/kdm/blob/main/ICP13_GCN_Node_Clasification_Stelargraph.ipynb\" target=\"_parent\"><img src=\"https://colab.research.google.com/assets/colab-badge.svg\" alt=\"Open In Colab\"/></a>"
      ]
    },
    {
      "cell_type": "markdown",
      "source": [
        "#Objective\n",
        "* Perform Node claasification using StelarGraph\n",
        "* Load Cora citation data\n",
        "* Create GCN Layer\n",
        "* Node Embedding "
      ],
      "metadata": {
        "id": "8NeNF2-uHME4"
      }
    },
    {
      "cell_type": "code",
      "source": [
        "!pip install stellargraph"
      ],
      "metadata": {
        "colab": {
          "base_uri": "https://localhost:8080/"
        },
        "id": "ZJY16T69HpYI",
        "outputId": "edf30888-01ad-4483-f8fa-dd364cb8e162"
      },
      "execution_count": 2,
      "outputs": [
        {
          "output_type": "stream",
          "name": "stdout",
          "text": [
            "Looking in indexes: https://pypi.org/simple, https://us-python.pkg.dev/colab-wheels/public/simple/\n",
            "Collecting stellargraph\n",
            "  Downloading stellargraph-1.2.1-py3-none-any.whl (435 kB)\n",
            "\u001b[K     |████████████████████████████████| 435 kB 4.8 MB/s \n",
            "\u001b[?25hRequirement already satisfied: tensorflow>=2.1.0 in /usr/local/lib/python3.8/dist-packages (from stellargraph) (2.9.2)\n",
            "Requirement already satisfied: pandas>=0.24 in /usr/local/lib/python3.8/dist-packages (from stellargraph) (1.3.5)\n",
            "Requirement already satisfied: scikit-learn>=0.20 in /usr/local/lib/python3.8/dist-packages (from stellargraph) (1.0.2)\n",
            "Requirement already satisfied: gensim>=3.4.0 in /usr/local/lib/python3.8/dist-packages (from stellargraph) (3.6.0)\n",
            "Requirement already satisfied: networkx>=2.2 in /usr/local/lib/python3.8/dist-packages (from stellargraph) (2.8.8)\n",
            "Requirement already satisfied: scipy>=1.1.0 in /usr/local/lib/python3.8/dist-packages (from stellargraph) (1.7.3)\n",
            "Requirement already satisfied: matplotlib>=2.2 in /usr/local/lib/python3.8/dist-packages (from stellargraph) (3.2.2)\n",
            "Requirement already satisfied: numpy>=1.14 in /usr/local/lib/python3.8/dist-packages (from stellargraph) (1.21.6)\n",
            "Requirement already satisfied: six>=1.5.0 in /usr/local/lib/python3.8/dist-packages (from gensim>=3.4.0->stellargraph) (1.15.0)\n",
            "Requirement already satisfied: smart-open>=1.2.1 in /usr/local/lib/python3.8/dist-packages (from gensim>=3.4.0->stellargraph) (5.2.1)\n",
            "Requirement already satisfied: pyparsing!=2.0.4,!=2.1.2,!=2.1.6,>=2.0.1 in /usr/local/lib/python3.8/dist-packages (from matplotlib>=2.2->stellargraph) (3.0.9)\n",
            "Requirement already satisfied: kiwisolver>=1.0.1 in /usr/local/lib/python3.8/dist-packages (from matplotlib>=2.2->stellargraph) (1.4.4)\n",
            "Requirement already satisfied: python-dateutil>=2.1 in /usr/local/lib/python3.8/dist-packages (from matplotlib>=2.2->stellargraph) (2.8.2)\n",
            "Requirement already satisfied: cycler>=0.10 in /usr/local/lib/python3.8/dist-packages (from matplotlib>=2.2->stellargraph) (0.11.0)\n",
            "Requirement already satisfied: pytz>=2017.3 in /usr/local/lib/python3.8/dist-packages (from pandas>=0.24->stellargraph) (2022.6)\n",
            "Requirement already satisfied: joblib>=0.11 in /usr/local/lib/python3.8/dist-packages (from scikit-learn>=0.20->stellargraph) (1.2.0)\n",
            "Requirement already satisfied: threadpoolctl>=2.0.0 in /usr/local/lib/python3.8/dist-packages (from scikit-learn>=0.20->stellargraph) (3.1.0)\n",
            "Requirement already satisfied: setuptools in /usr/local/lib/python3.8/dist-packages (from tensorflow>=2.1.0->stellargraph) (57.4.0)\n",
            "Requirement already satisfied: libclang>=13.0.0 in /usr/local/lib/python3.8/dist-packages (from tensorflow>=2.1.0->stellargraph) (14.0.6)\n",
            "Requirement already satisfied: astunparse>=1.6.0 in /usr/local/lib/python3.8/dist-packages (from tensorflow>=2.1.0->stellargraph) (1.6.3)\n",
            "Requirement already satisfied: typing-extensions>=3.6.6 in /usr/local/lib/python3.8/dist-packages (from tensorflow>=2.1.0->stellargraph) (4.4.0)\n",
            "Requirement already satisfied: tensorboard<2.10,>=2.9 in /usr/local/lib/python3.8/dist-packages (from tensorflow>=2.1.0->stellargraph) (2.9.1)\n",
            "Requirement already satisfied: keras-preprocessing>=1.1.1 in /usr/local/lib/python3.8/dist-packages (from tensorflow>=2.1.0->stellargraph) (1.1.2)\n",
            "Requirement already satisfied: tensorflow-estimator<2.10.0,>=2.9.0rc0 in /usr/local/lib/python3.8/dist-packages (from tensorflow>=2.1.0->stellargraph) (2.9.0)\n",
            "Requirement already satisfied: h5py>=2.9.0 in /usr/local/lib/python3.8/dist-packages (from tensorflow>=2.1.0->stellargraph) (3.1.0)\n",
            "Requirement already satisfied: termcolor>=1.1.0 in /usr/local/lib/python3.8/dist-packages (from tensorflow>=2.1.0->stellargraph) (2.1.1)\n",
            "Requirement already satisfied: google-pasta>=0.1.1 in /usr/local/lib/python3.8/dist-packages (from tensorflow>=2.1.0->stellargraph) (0.2.0)\n",
            "Requirement already satisfied: flatbuffers<2,>=1.12 in /usr/local/lib/python3.8/dist-packages (from tensorflow>=2.1.0->stellargraph) (1.12)\n",
            "Requirement already satisfied: opt-einsum>=2.3.2 in /usr/local/lib/python3.8/dist-packages (from tensorflow>=2.1.0->stellargraph) (3.3.0)\n",
            "Requirement already satisfied: tensorflow-io-gcs-filesystem>=0.23.1 in /usr/local/lib/python3.8/dist-packages (from tensorflow>=2.1.0->stellargraph) (0.28.0)\n",
            "Requirement already satisfied: protobuf<3.20,>=3.9.2 in /usr/local/lib/python3.8/dist-packages (from tensorflow>=2.1.0->stellargraph) (3.19.6)\n",
            "Requirement already satisfied: gast<=0.4.0,>=0.2.1 in /usr/local/lib/python3.8/dist-packages (from tensorflow>=2.1.0->stellargraph) (0.4.0)\n",
            "Requirement already satisfied: absl-py>=1.0.0 in /usr/local/lib/python3.8/dist-packages (from tensorflow>=2.1.0->stellargraph) (1.3.0)\n",
            "Requirement already satisfied: keras<2.10.0,>=2.9.0rc0 in /usr/local/lib/python3.8/dist-packages (from tensorflow>=2.1.0->stellargraph) (2.9.0)\n",
            "Requirement already satisfied: packaging in /usr/local/lib/python3.8/dist-packages (from tensorflow>=2.1.0->stellargraph) (21.3)\n",
            "Requirement already satisfied: wrapt>=1.11.0 in /usr/local/lib/python3.8/dist-packages (from tensorflow>=2.1.0->stellargraph) (1.14.1)\n",
            "Requirement already satisfied: grpcio<2.0,>=1.24.3 in /usr/local/lib/python3.8/dist-packages (from tensorflow>=2.1.0->stellargraph) (1.51.1)\n",
            "Requirement already satisfied: wheel<1.0,>=0.23.0 in /usr/local/lib/python3.8/dist-packages (from astunparse>=1.6.0->tensorflow>=2.1.0->stellargraph) (0.38.4)\n",
            "Requirement already satisfied: tensorboard-plugin-wit>=1.6.0 in /usr/local/lib/python3.8/dist-packages (from tensorboard<2.10,>=2.9->tensorflow>=2.1.0->stellargraph) (1.8.1)\n",
            "Requirement already satisfied: tensorboard-data-server<0.7.0,>=0.6.0 in /usr/local/lib/python3.8/dist-packages (from tensorboard<2.10,>=2.9->tensorflow>=2.1.0->stellargraph) (0.6.1)\n",
            "Requirement already satisfied: markdown>=2.6.8 in /usr/local/lib/python3.8/dist-packages (from tensorboard<2.10,>=2.9->tensorflow>=2.1.0->stellargraph) (3.4.1)\n",
            "Requirement already satisfied: werkzeug>=1.0.1 in /usr/local/lib/python3.8/dist-packages (from tensorboard<2.10,>=2.9->tensorflow>=2.1.0->stellargraph) (1.0.1)\n",
            "Requirement already satisfied: google-auth-oauthlib<0.5,>=0.4.1 in /usr/local/lib/python3.8/dist-packages (from tensorboard<2.10,>=2.9->tensorflow>=2.1.0->stellargraph) (0.4.6)\n",
            "Requirement already satisfied: google-auth<3,>=1.6.3 in /usr/local/lib/python3.8/dist-packages (from tensorboard<2.10,>=2.9->tensorflow>=2.1.0->stellargraph) (2.15.0)\n",
            "Requirement already satisfied: requests<3,>=2.21.0 in /usr/local/lib/python3.8/dist-packages (from tensorboard<2.10,>=2.9->tensorflow>=2.1.0->stellargraph) (2.23.0)\n",
            "Requirement already satisfied: cachetools<6.0,>=2.0.0 in /usr/local/lib/python3.8/dist-packages (from google-auth<3,>=1.6.3->tensorboard<2.10,>=2.9->tensorflow>=2.1.0->stellargraph) (5.2.0)\n",
            "Requirement already satisfied: pyasn1-modules>=0.2.1 in /usr/local/lib/python3.8/dist-packages (from google-auth<3,>=1.6.3->tensorboard<2.10,>=2.9->tensorflow>=2.1.0->stellargraph) (0.2.8)\n",
            "Requirement already satisfied: rsa<5,>=3.1.4 in /usr/local/lib/python3.8/dist-packages (from google-auth<3,>=1.6.3->tensorboard<2.10,>=2.9->tensorflow>=2.1.0->stellargraph) (4.9)\n",
            "Requirement already satisfied: requests-oauthlib>=0.7.0 in /usr/local/lib/python3.8/dist-packages (from google-auth-oauthlib<0.5,>=0.4.1->tensorboard<2.10,>=2.9->tensorflow>=2.1.0->stellargraph) (1.3.1)\n",
            "Requirement already satisfied: importlib-metadata>=4.4 in /usr/local/lib/python3.8/dist-packages (from markdown>=2.6.8->tensorboard<2.10,>=2.9->tensorflow>=2.1.0->stellargraph) (4.13.0)\n",
            "Requirement already satisfied: zipp>=0.5 in /usr/local/lib/python3.8/dist-packages (from importlib-metadata>=4.4->markdown>=2.6.8->tensorboard<2.10,>=2.9->tensorflow>=2.1.0->stellargraph) (3.11.0)\n",
            "Requirement already satisfied: pyasn1<0.5.0,>=0.4.6 in /usr/local/lib/python3.8/dist-packages (from pyasn1-modules>=0.2.1->google-auth<3,>=1.6.3->tensorboard<2.10,>=2.9->tensorflow>=2.1.0->stellargraph) (0.4.8)\n",
            "Requirement already satisfied: certifi>=2017.4.17 in /usr/local/lib/python3.8/dist-packages (from requests<3,>=2.21.0->tensorboard<2.10,>=2.9->tensorflow>=2.1.0->stellargraph) (2022.9.24)\n",
            "Requirement already satisfied: urllib3!=1.25.0,!=1.25.1,<1.26,>=1.21.1 in /usr/local/lib/python3.8/dist-packages (from requests<3,>=2.21.0->tensorboard<2.10,>=2.9->tensorflow>=2.1.0->stellargraph) (1.24.3)\n",
            "Requirement already satisfied: idna<3,>=2.5 in /usr/local/lib/python3.8/dist-packages (from requests<3,>=2.21.0->tensorboard<2.10,>=2.9->tensorflow>=2.1.0->stellargraph) (2.10)\n",
            "Requirement already satisfied: chardet<4,>=3.0.2 in /usr/local/lib/python3.8/dist-packages (from requests<3,>=2.21.0->tensorboard<2.10,>=2.9->tensorflow>=2.1.0->stellargraph) (3.0.4)\n",
            "Requirement already satisfied: oauthlib>=3.0.0 in /usr/local/lib/python3.8/dist-packages (from requests-oauthlib>=0.7.0->google-auth-oauthlib<0.5,>=0.4.1->tensorboard<2.10,>=2.9->tensorflow>=2.1.0->stellargraph) (3.2.2)\n",
            "Installing collected packages: stellargraph\n",
            "Successfully installed stellargraph-1.2.1\n"
          ]
        }
      ]
    },
    {
      "cell_type": "markdown",
      "source": [
        "#Load libraries"
      ],
      "metadata": {
        "id": "3knBbCR9H4my"
      }
    },
    {
      "cell_type": "code",
      "execution_count": 3,
      "metadata": {
        "id": "aSG5SeuGG60D"
      },
      "outputs": [],
      "source": [
        "\n",
        "import pandas as pd\n",
        "import os\n",
        "\n",
        "import stellargraph as sg\n",
        "from stellargraph.mapper import FullBatchNodeGenerator\n",
        "from stellargraph.layer import GCN\n",
        "\n",
        "from tensorflow.keras import layers, optimizers, losses, metrics, Model\n",
        "from sklearn import preprocessing, model_selection\n",
        "from IPython.display import display, HTML\n",
        "import matplotlib.pyplot as plt\n",
        "%matplotlib inline"
      ]
    },
    {
      "cell_type": "markdown",
      "source": [
        "#Load data"
      ],
      "metadata": {
        "id": "rHRxVk1sH1oY"
      }
    },
    {
      "cell_type": "code",
      "source": [
        "dataset = sg.datasets.Cora()\n",
        "display(HTML(dataset.description))\n",
        "G, node_subjects = dataset.load()"
      ],
      "metadata": {
        "colab": {
          "base_uri": "https://localhost:8080/",
          "height": 52
        },
        "id": "gEl9dZMyH6mu",
        "outputId": "4acc497e-4343-4a0d-b4d0-ed096d06a3c1"
      },
      "execution_count": 4,
      "outputs": [
        {
          "output_type": "display_data",
          "data": {
            "text/plain": [
              "<IPython.core.display.HTML object>"
            ],
            "text/html": [
              "The Cora dataset consists of 2708 scientific publications classified into one of seven classes. The citation network consists of 5429 links. Each publication in the dataset is described by a 0/1-valued word vector indicating the absence/presence of the corresponding word from the dictionary. The dictionary consists of 1433 unique words."
            ]
          },
          "metadata": {}
        }
      ]
    },
    {
      "cell_type": "code",
      "source": [
        "print(G.info())"
      ],
      "metadata": {
        "colab": {
          "base_uri": "https://localhost:8080/"
        },
        "id": "stR4JyNzIBLc",
        "outputId": "0ac516f6-176f-4f63-f917-00ee4be78a06"
      },
      "execution_count": 5,
      "outputs": [
        {
          "output_type": "stream",
          "name": "stdout",
          "text": [
            "StellarGraph: Undirected multigraph\n",
            " Nodes: 2708, Edges: 5429\n",
            "\n",
            " Node types:\n",
            "  paper: [2708]\n",
            "    Features: float32 vector, length 1433\n",
            "    Edge types: paper-cites->paper\n",
            "\n",
            " Edge types:\n",
            "    paper-cites->paper: [5429]\n",
            "        Weights: all 1 (default)\n",
            "        Features: none\n"
          ]
        }
      ]
    },
    {
      "cell_type": "code",
      "source": [
        "node_subjects.value_counts().to_frame()"
      ],
      "metadata": {
        "colab": {
          "base_uri": "https://localhost:8080/",
          "height": 269
        },
        "id": "W2IyWS9yIE9H",
        "outputId": "9871cc6e-294a-4925-e147-84042dc34783"
      },
      "execution_count": 6,
      "outputs": [
        {
          "output_type": "execute_result",
          "data": {
            "text/plain": [
              "                        subject\n",
              "Neural_Networks             818\n",
              "Probabilistic_Methods       426\n",
              "Genetic_Algorithms          418\n",
              "Theory                      351\n",
              "Case_Based                  298\n",
              "Reinforcement_Learning      217\n",
              "Rule_Learning               180"
            ],
            "text/html": [
              "\n",
              "  <div id=\"df-c85d8646-b2e2-4898-80cb-5488b37c90bf\">\n",
              "    <div class=\"colab-df-container\">\n",
              "      <div>\n",
              "<style scoped>\n",
              "    .dataframe tbody tr th:only-of-type {\n",
              "        vertical-align: middle;\n",
              "    }\n",
              "\n",
              "    .dataframe tbody tr th {\n",
              "        vertical-align: top;\n",
              "    }\n",
              "\n",
              "    .dataframe thead th {\n",
              "        text-align: right;\n",
              "    }\n",
              "</style>\n",
              "<table border=\"1\" class=\"dataframe\">\n",
              "  <thead>\n",
              "    <tr style=\"text-align: right;\">\n",
              "      <th></th>\n",
              "      <th>subject</th>\n",
              "    </tr>\n",
              "  </thead>\n",
              "  <tbody>\n",
              "    <tr>\n",
              "      <th>Neural_Networks</th>\n",
              "      <td>818</td>\n",
              "    </tr>\n",
              "    <tr>\n",
              "      <th>Probabilistic_Methods</th>\n",
              "      <td>426</td>\n",
              "    </tr>\n",
              "    <tr>\n",
              "      <th>Genetic_Algorithms</th>\n",
              "      <td>418</td>\n",
              "    </tr>\n",
              "    <tr>\n",
              "      <th>Theory</th>\n",
              "      <td>351</td>\n",
              "    </tr>\n",
              "    <tr>\n",
              "      <th>Case_Based</th>\n",
              "      <td>298</td>\n",
              "    </tr>\n",
              "    <tr>\n",
              "      <th>Reinforcement_Learning</th>\n",
              "      <td>217</td>\n",
              "    </tr>\n",
              "    <tr>\n",
              "      <th>Rule_Learning</th>\n",
              "      <td>180</td>\n",
              "    </tr>\n",
              "  </tbody>\n",
              "</table>\n",
              "</div>\n",
              "      <button class=\"colab-df-convert\" onclick=\"convertToInteractive('df-c85d8646-b2e2-4898-80cb-5488b37c90bf')\"\n",
              "              title=\"Convert this dataframe to an interactive table.\"\n",
              "              style=\"display:none;\">\n",
              "        \n",
              "  <svg xmlns=\"http://www.w3.org/2000/svg\" height=\"24px\"viewBox=\"0 0 24 24\"\n",
              "       width=\"24px\">\n",
              "    <path d=\"M0 0h24v24H0V0z\" fill=\"none\"/>\n",
              "    <path d=\"M18.56 5.44l.94 2.06.94-2.06 2.06-.94-2.06-.94-.94-2.06-.94 2.06-2.06.94zm-11 1L8.5 8.5l.94-2.06 2.06-.94-2.06-.94L8.5 2.5l-.94 2.06-2.06.94zm10 10l.94 2.06.94-2.06 2.06-.94-2.06-.94-.94-2.06-.94 2.06-2.06.94z\"/><path d=\"M17.41 7.96l-1.37-1.37c-.4-.4-.92-.59-1.43-.59-.52 0-1.04.2-1.43.59L10.3 9.45l-7.72 7.72c-.78.78-.78 2.05 0 2.83L4 21.41c.39.39.9.59 1.41.59.51 0 1.02-.2 1.41-.59l7.78-7.78 2.81-2.81c.8-.78.8-2.07 0-2.86zM5.41 20L4 18.59l7.72-7.72 1.47 1.35L5.41 20z\"/>\n",
              "  </svg>\n",
              "      </button>\n",
              "      \n",
              "  <style>\n",
              "    .colab-df-container {\n",
              "      display:flex;\n",
              "      flex-wrap:wrap;\n",
              "      gap: 12px;\n",
              "    }\n",
              "\n",
              "    .colab-df-convert {\n",
              "      background-color: #E8F0FE;\n",
              "      border: none;\n",
              "      border-radius: 50%;\n",
              "      cursor: pointer;\n",
              "      display: none;\n",
              "      fill: #1967D2;\n",
              "      height: 32px;\n",
              "      padding: 0 0 0 0;\n",
              "      width: 32px;\n",
              "    }\n",
              "\n",
              "    .colab-df-convert:hover {\n",
              "      background-color: #E2EBFA;\n",
              "      box-shadow: 0px 1px 2px rgba(60, 64, 67, 0.3), 0px 1px 3px 1px rgba(60, 64, 67, 0.15);\n",
              "      fill: #174EA6;\n",
              "    }\n",
              "\n",
              "    [theme=dark] .colab-df-convert {\n",
              "      background-color: #3B4455;\n",
              "      fill: #D2E3FC;\n",
              "    }\n",
              "\n",
              "    [theme=dark] .colab-df-convert:hover {\n",
              "      background-color: #434B5C;\n",
              "      box-shadow: 0px 1px 3px 1px rgba(0, 0, 0, 0.15);\n",
              "      filter: drop-shadow(0px 1px 2px rgba(0, 0, 0, 0.3));\n",
              "      fill: #FFFFFF;\n",
              "    }\n",
              "  </style>\n",
              "\n",
              "      <script>\n",
              "        const buttonEl =\n",
              "          document.querySelector('#df-c85d8646-b2e2-4898-80cb-5488b37c90bf button.colab-df-convert');\n",
              "        buttonEl.style.display =\n",
              "          google.colab.kernel.accessAllowed ? 'block' : 'none';\n",
              "\n",
              "        async function convertToInteractive(key) {\n",
              "          const element = document.querySelector('#df-c85d8646-b2e2-4898-80cb-5488b37c90bf');\n",
              "          const dataTable =\n",
              "            await google.colab.kernel.invokeFunction('convertToInteractive',\n",
              "                                                     [key], {});\n",
              "          if (!dataTable) return;\n",
              "\n",
              "          const docLinkHtml = 'Like what you see? Visit the ' +\n",
              "            '<a target=\"_blank\" href=https://colab.research.google.com/notebooks/data_table.ipynb>data table notebook</a>'\n",
              "            + ' to learn more about interactive tables.';\n",
              "          element.innerHTML = '';\n",
              "          dataTable['output_type'] = 'display_data';\n",
              "          await google.colab.output.renderOutput(dataTable, element);\n",
              "          const docLink = document.createElement('div');\n",
              "          docLink.innerHTML = docLinkHtml;\n",
              "          element.appendChild(docLink);\n",
              "        }\n",
              "      </script>\n",
              "    </div>\n",
              "  </div>\n",
              "  "
            ]
          },
          "metadata": {},
          "execution_count": 6
        }
      ]
    },
    {
      "cell_type": "markdown",
      "source": [
        "#Split data"
      ],
      "metadata": {
        "id": "FxwGgZlRIVCq"
      }
    },
    {
      "cell_type": "code",
      "source": [
        "train_subjects, test_subjects = model_selection.train_test_split(\n",
        "    node_subjects, train_size=140, test_size=None, stratify=node_subjects\n",
        ")\n",
        "val_subjects, test_subjects = model_selection.train_test_split(\n",
        "    test_subjects, train_size=500, test_size=None, stratify=test_subjects\n",
        ")"
      ],
      "metadata": {
        "id": "0ipH1RxkIX_2"
      },
      "execution_count": 7,
      "outputs": []
    },
    {
      "cell_type": "markdown",
      "source": [
        "#Converting to numeric arrays with one hot vector"
      ],
      "metadata": {
        "id": "ngT-Vy8CIt4l"
      }
    },
    {
      "cell_type": "code",
      "source": [
        "target_encoding = preprocessing.LabelBinarizer()\n",
        "\n",
        "train_targets = target_encoding.fit_transform(train_subjects)\n",
        "val_targets = target_encoding.transform(val_subjects)\n",
        "test_targets = target_encoding.transform(test_subjects)"
      ],
      "metadata": {
        "id": "j33OMh_GIygf"
      },
      "execution_count": 8,
      "outputs": []
    },
    {
      "cell_type": "markdown",
      "source": [
        "#Creating GCN Layer"
      ],
      "metadata": {
        "id": "Qe9y6PyUJTye"
      }
    },
    {
      "cell_type": "code",
      "source": [
        "generator = FullBatchNodeGenerator(G, method=\"gcn\")"
      ],
      "metadata": {
        "colab": {
          "base_uri": "https://localhost:8080/"
        },
        "id": "G1acXYf-JYL-",
        "outputId": "5bd0a97a-a0a4-4cb5-ddfc-03b9b0986759"
      },
      "execution_count": 9,
      "outputs": [
        {
          "output_type": "stream",
          "name": "stdout",
          "text": [
            "Using GCN (local pooling) filters...\n"
          ]
        }
      ]
    },
    {
      "cell_type": "code",
      "source": [
        "#\n",
        "train_gen = generator.flow(train_subjects.index, train_targets)"
      ],
      "metadata": {
        "id": "PREXX1lxJkA-"
      },
      "execution_count": 10,
      "outputs": []
    },
    {
      "cell_type": "code",
      "source": [
        "#Create two layers with 16 units each\n",
        "# user relu as sctivation function\n",
        "# Dropout 50%\n",
        "gcn = GCN(\n",
        "    layer_sizes=[16, 16], activations=[\"relu\", \"relu\"], generator=generator, dropout=0.5\n",
        ")\n"
      ],
      "metadata": {
        "id": "E6NkvkqOJ170"
      },
      "execution_count": 11,
      "outputs": []
    },
    {
      "cell_type": "code",
      "source": [
        "#Input and output tensor\n",
        "x_inp, x_out = gcn.in_out_tensors()\n",
        "\n",
        "x_out"
      ],
      "metadata": {
        "colab": {
          "base_uri": "https://localhost:8080/"
        },
        "id": "Zb5UAwO1J9ex",
        "outputId": "108ddd75-987d-4a18-a59c-2ba052dc6432"
      },
      "execution_count": 12,
      "outputs": [
        {
          "output_type": "execute_result",
          "data": {
            "text/plain": [
              "<KerasTensor: shape=(1, None, 16) dtype=float32 (created by layer 'gather_indices')>"
            ]
          },
          "metadata": {},
          "execution_count": 12
        }
      ]
    },
    {
      "cell_type": "code",
      "source": [
        "predictions = layers.Dense(units=train_targets.shape[1], activation=\"softmax\")(x_out)"
      ],
      "metadata": {
        "id": "TpmnbOieKJ39"
      },
      "execution_count": 13,
      "outputs": []
    },
    {
      "cell_type": "markdown",
      "source": [
        "#Training and evaluating"
      ],
      "metadata": {
        "id": "fgeYVfxxLCaN"
      }
    },
    {
      "cell_type": "code",
      "source": [
        "model = Model(inputs=x_inp, outputs=predictions)\n",
        "model.compile(\n",
        "    optimizer=optimizers.Adam(lr=0.01),\n",
        "    loss=losses.categorical_crossentropy,\n",
        "    metrics=[\"acc\"],\n",
        ")"
      ],
      "metadata": {
        "colab": {
          "base_uri": "https://localhost:8080/"
        },
        "id": "OpcInsUALE4A",
        "outputId": "7b99ab15-6d6b-4504-b615-71083a3a95e7"
      },
      "execution_count": 14,
      "outputs": [
        {
          "output_type": "stream",
          "name": "stderr",
          "text": [
            "/usr/local/lib/python3.8/dist-packages/keras/optimizers/optimizer_v2/adam.py:110: UserWarning: The `lr` argument is deprecated, use `learning_rate` instead.\n",
            "  super(Adam, self).__init__(name, **kwargs)\n"
          ]
        }
      ]
    },
    {
      "cell_type": "code",
      "source": [
        "#Validation Set\n",
        "val_gen = generator.flow(val_subjects.index, val_targets)"
      ],
      "metadata": {
        "id": "hxwm3ILvLUGJ"
      },
      "execution_count": 15,
      "outputs": []
    },
    {
      "cell_type": "code",
      "source": [
        "#Early stopping if validation accuracy stops\n",
        "from tensorflow.keras.callbacks import EarlyStopping\n",
        "\n",
        "es_callback = EarlyStopping(monitor=\"val_acc\", patience=50, restore_best_weights=True)"
      ],
      "metadata": {
        "id": "PBRRDeLsLc6w"
      },
      "execution_count": 17,
      "outputs": []
    },
    {
      "cell_type": "code",
      "source": [
        "history = model.fit(\n",
        "    train_gen,\n",
        "    epochs=200,\n",
        "    validation_data=val_gen,\n",
        "    verbose=2,\n",
        "    shuffle=False,  # this should be False, since shuffling data means shuffling the whole graph\n",
        "    callbacks=[es_callback],\n",
        ")"
      ],
      "metadata": {
        "colab": {
          "base_uri": "https://localhost:8080/"
        },
        "id": "eCmh5myZLpbK",
        "outputId": "8c16a9c8-cacd-46c7-adb1-5789e6316422"
      },
      "execution_count": 18,
      "outputs": [
        {
          "output_type": "stream",
          "name": "stdout",
          "text": [
            "Epoch 1/200\n",
            "1/1 - 2s - loss: 1.9438 - acc: 0.0929 - val_loss: 1.9002 - val_acc: 0.3160 - 2s/epoch - 2s/step\n",
            "Epoch 2/200\n",
            "1/1 - 0s - loss: 1.8816 - acc: 0.3571 - val_loss: 1.8359 - val_acc: 0.3100 - 135ms/epoch - 135ms/step\n",
            "Epoch 3/200\n",
            "1/1 - 0s - loss: 1.7966 - acc: 0.3786 - val_loss: 1.7639 - val_acc: 0.3080 - 137ms/epoch - 137ms/step\n",
            "Epoch 4/200\n",
            "1/1 - 0s - loss: 1.6997 - acc: 0.3929 - val_loss: 1.6993 - val_acc: 0.3060 - 130ms/epoch - 130ms/step\n",
            "Epoch 5/200\n",
            "1/1 - 0s - loss: 1.6142 - acc: 0.3643 - val_loss: 1.6446 - val_acc: 0.3060 - 142ms/epoch - 142ms/step\n",
            "Epoch 6/200\n",
            "1/1 - 0s - loss: 1.5177 - acc: 0.3714 - val_loss: 1.5856 - val_acc: 0.3220 - 126ms/epoch - 126ms/step\n",
            "Epoch 7/200\n",
            "1/1 - 0s - loss: 1.4006 - acc: 0.4286 - val_loss: 1.5145 - val_acc: 0.3800 - 141ms/epoch - 141ms/step\n",
            "Epoch 8/200\n",
            "1/1 - 0s - loss: 1.3537 - acc: 0.4786 - val_loss: 1.4342 - val_acc: 0.4660 - 133ms/epoch - 133ms/step\n",
            "Epoch 9/200\n",
            "1/1 - 0s - loss: 1.2289 - acc: 0.5214 - val_loss: 1.3517 - val_acc: 0.5400 - 127ms/epoch - 127ms/step\n",
            "Epoch 10/200\n",
            "1/1 - 0s - loss: 1.1822 - acc: 0.6000 - val_loss: 1.2737 - val_acc: 0.6020 - 128ms/epoch - 128ms/step\n",
            "Epoch 11/200\n",
            "1/1 - 0s - loss: 1.1039 - acc: 0.6500 - val_loss: 1.2016 - val_acc: 0.6380 - 131ms/epoch - 131ms/step\n",
            "Epoch 12/200\n",
            "1/1 - 0s - loss: 0.9764 - acc: 0.7786 - val_loss: 1.1348 - val_acc: 0.6620 - 138ms/epoch - 138ms/step\n",
            "Epoch 13/200\n",
            "1/1 - 0s - loss: 0.9514 - acc: 0.7429 - val_loss: 1.0694 - val_acc: 0.6840 - 135ms/epoch - 135ms/step\n",
            "Epoch 14/200\n",
            "1/1 - 0s - loss: 0.8304 - acc: 0.7786 - val_loss: 1.0106 - val_acc: 0.6980 - 134ms/epoch - 134ms/step\n",
            "Epoch 15/200\n",
            "1/1 - 0s - loss: 0.7786 - acc: 0.7786 - val_loss: 0.9605 - val_acc: 0.7020 - 132ms/epoch - 132ms/step\n",
            "Epoch 16/200\n",
            "1/1 - 0s - loss: 0.7479 - acc: 0.7786 - val_loss: 0.9165 - val_acc: 0.7040 - 138ms/epoch - 138ms/step\n",
            "Epoch 17/200\n",
            "1/1 - 0s - loss: 0.6070 - acc: 0.8357 - val_loss: 0.8773 - val_acc: 0.7140 - 131ms/epoch - 131ms/step\n",
            "Epoch 18/200\n",
            "1/1 - 0s - loss: 0.5851 - acc: 0.8214 - val_loss: 0.8436 - val_acc: 0.7200 - 137ms/epoch - 137ms/step\n",
            "Epoch 19/200\n",
            "1/1 - 0s - loss: 0.6000 - acc: 0.8143 - val_loss: 0.8182 - val_acc: 0.7280 - 131ms/epoch - 131ms/step\n",
            "Epoch 20/200\n",
            "1/1 - 0s - loss: 0.4790 - acc: 0.8571 - val_loss: 0.7974 - val_acc: 0.7360 - 166ms/epoch - 166ms/step\n",
            "Epoch 21/200\n",
            "1/1 - 0s - loss: 0.4480 - acc: 0.9000 - val_loss: 0.7817 - val_acc: 0.7460 - 128ms/epoch - 128ms/step\n",
            "Epoch 22/200\n",
            "1/1 - 0s - loss: 0.3763 - acc: 0.9000 - val_loss: 0.7697 - val_acc: 0.7580 - 131ms/epoch - 131ms/step\n",
            "Epoch 23/200\n",
            "1/1 - 0s - loss: 0.3820 - acc: 0.9143 - val_loss: 0.7594 - val_acc: 0.7660 - 124ms/epoch - 124ms/step\n",
            "Epoch 24/200\n",
            "1/1 - 0s - loss: 0.3394 - acc: 0.9357 - val_loss: 0.7455 - val_acc: 0.7760 - 136ms/epoch - 136ms/step\n",
            "Epoch 25/200\n",
            "1/1 - 0s - loss: 0.3219 - acc: 0.9500 - val_loss: 0.7324 - val_acc: 0.7860 - 132ms/epoch - 132ms/step\n",
            "Epoch 26/200\n",
            "1/1 - 0s - loss: 0.2755 - acc: 0.9214 - val_loss: 0.7188 - val_acc: 0.7920 - 140ms/epoch - 140ms/step\n",
            "Epoch 27/200\n",
            "1/1 - 0s - loss: 0.2435 - acc: 0.9571 - val_loss: 0.7043 - val_acc: 0.8040 - 132ms/epoch - 132ms/step\n",
            "Epoch 28/200\n",
            "1/1 - 0s - loss: 0.2124 - acc: 0.9571 - val_loss: 0.6951 - val_acc: 0.8120 - 138ms/epoch - 138ms/step\n",
            "Epoch 29/200\n",
            "1/1 - 0s - loss: 0.2165 - acc: 0.9714 - val_loss: 0.7001 - val_acc: 0.8060 - 134ms/epoch - 134ms/step\n",
            "Epoch 30/200\n",
            "1/1 - 0s - loss: 0.1914 - acc: 0.9429 - val_loss: 0.7091 - val_acc: 0.8000 - 129ms/epoch - 129ms/step\n",
            "Epoch 31/200\n",
            "1/1 - 0s - loss: 0.1880 - acc: 0.9714 - val_loss: 0.7157 - val_acc: 0.7940 - 132ms/epoch - 132ms/step\n",
            "Epoch 32/200\n",
            "1/1 - 0s - loss: 0.1877 - acc: 0.9429 - val_loss: 0.7203 - val_acc: 0.7980 - 136ms/epoch - 136ms/step\n",
            "Epoch 33/200\n",
            "1/1 - 0s - loss: 0.1648 - acc: 0.9643 - val_loss: 0.7258 - val_acc: 0.8020 - 136ms/epoch - 136ms/step\n",
            "Epoch 34/200\n",
            "1/1 - 0s - loss: 0.1658 - acc: 0.9500 - val_loss: 0.7362 - val_acc: 0.8020 - 132ms/epoch - 132ms/step\n",
            "Epoch 35/200\n",
            "1/1 - 0s - loss: 0.1887 - acc: 0.9429 - val_loss: 0.7502 - val_acc: 0.8040 - 140ms/epoch - 140ms/step\n",
            "Epoch 36/200\n",
            "1/1 - 0s - loss: 0.1131 - acc: 0.9857 - val_loss: 0.7613 - val_acc: 0.8040 - 124ms/epoch - 124ms/step\n",
            "Epoch 37/200\n",
            "1/1 - 0s - loss: 0.1559 - acc: 0.9571 - val_loss: 0.7741 - val_acc: 0.7980 - 138ms/epoch - 138ms/step\n",
            "Epoch 38/200\n",
            "1/1 - 0s - loss: 0.1341 - acc: 0.9571 - val_loss: 0.7803 - val_acc: 0.7980 - 132ms/epoch - 132ms/step\n",
            "Epoch 39/200\n",
            "1/1 - 0s - loss: 0.1026 - acc: 0.9714 - val_loss: 0.7829 - val_acc: 0.8000 - 133ms/epoch - 133ms/step\n",
            "Epoch 40/200\n",
            "1/1 - 0s - loss: 0.1374 - acc: 0.9571 - val_loss: 0.7851 - val_acc: 0.8060 - 136ms/epoch - 136ms/step\n",
            "Epoch 41/200\n",
            "1/1 - 0s - loss: 0.1128 - acc: 0.9571 - val_loss: 0.7886 - val_acc: 0.8020 - 134ms/epoch - 134ms/step\n",
            "Epoch 42/200\n",
            "1/1 - 0s - loss: 0.1067 - acc: 0.9643 - val_loss: 0.7873 - val_acc: 0.7980 - 154ms/epoch - 154ms/step\n",
            "Epoch 43/200\n",
            "1/1 - 0s - loss: 0.0737 - acc: 0.9786 - val_loss: 0.7866 - val_acc: 0.7960 - 135ms/epoch - 135ms/step\n",
            "Epoch 44/200\n",
            "1/1 - 0s - loss: 0.0602 - acc: 0.9929 - val_loss: 0.7838 - val_acc: 0.8000 - 136ms/epoch - 136ms/step\n",
            "Epoch 45/200\n",
            "1/1 - 0s - loss: 0.0989 - acc: 0.9714 - val_loss: 0.7795 - val_acc: 0.8080 - 132ms/epoch - 132ms/step\n",
            "Epoch 46/200\n",
            "1/1 - 0s - loss: 0.0602 - acc: 0.9929 - val_loss: 0.7770 - val_acc: 0.8100 - 134ms/epoch - 134ms/step\n",
            "Epoch 47/200\n",
            "1/1 - 0s - loss: 0.0859 - acc: 0.9857 - val_loss: 0.7809 - val_acc: 0.8100 - 129ms/epoch - 129ms/step\n",
            "Epoch 48/200\n",
            "1/1 - 0s - loss: 0.0733 - acc: 0.9857 - val_loss: 0.7847 - val_acc: 0.8100 - 125ms/epoch - 125ms/step\n",
            "Epoch 49/200\n",
            "1/1 - 0s - loss: 0.0784 - acc: 0.9714 - val_loss: 0.7897 - val_acc: 0.8140 - 143ms/epoch - 143ms/step\n",
            "Epoch 50/200\n",
            "1/1 - 0s - loss: 0.0714 - acc: 0.9857 - val_loss: 0.7935 - val_acc: 0.8180 - 136ms/epoch - 136ms/step\n",
            "Epoch 51/200\n",
            "1/1 - 0s - loss: 0.0761 - acc: 0.9786 - val_loss: 0.7987 - val_acc: 0.8160 - 131ms/epoch - 131ms/step\n",
            "Epoch 52/200\n",
            "1/1 - 0s - loss: 0.0626 - acc: 0.9786 - val_loss: 0.8025 - val_acc: 0.8140 - 133ms/epoch - 133ms/step\n",
            "Epoch 53/200\n",
            "1/1 - 0s - loss: 0.0540 - acc: 0.9929 - val_loss: 0.8071 - val_acc: 0.8100 - 133ms/epoch - 133ms/step\n",
            "Epoch 54/200\n",
            "1/1 - 0s - loss: 0.0936 - acc: 0.9786 - val_loss: 0.8113 - val_acc: 0.8120 - 141ms/epoch - 141ms/step\n",
            "Epoch 55/200\n",
            "1/1 - 0s - loss: 0.0343 - acc: 0.9929 - val_loss: 0.8162 - val_acc: 0.8080 - 131ms/epoch - 131ms/step\n",
            "Epoch 56/200\n",
            "1/1 - 0s - loss: 0.0965 - acc: 0.9786 - val_loss: 0.8181 - val_acc: 0.8080 - 135ms/epoch - 135ms/step\n",
            "Epoch 57/200\n",
            "1/1 - 0s - loss: 0.0531 - acc: 0.9786 - val_loss: 0.8210 - val_acc: 0.8100 - 132ms/epoch - 132ms/step\n",
            "Epoch 58/200\n",
            "1/1 - 0s - loss: 0.0651 - acc: 0.9786 - val_loss: 0.8261 - val_acc: 0.8120 - 126ms/epoch - 126ms/step\n",
            "Epoch 59/200\n",
            "1/1 - 0s - loss: 0.0445 - acc: 0.9929 - val_loss: 0.8316 - val_acc: 0.8160 - 127ms/epoch - 127ms/step\n",
            "Epoch 60/200\n",
            "1/1 - 0s - loss: 0.0658 - acc: 0.9714 - val_loss: 0.8405 - val_acc: 0.8140 - 135ms/epoch - 135ms/step\n",
            "Epoch 61/200\n",
            "1/1 - 0s - loss: 0.0369 - acc: 0.9857 - val_loss: 0.8511 - val_acc: 0.8160 - 129ms/epoch - 129ms/step\n",
            "Epoch 62/200\n",
            "1/1 - 0s - loss: 0.0696 - acc: 0.9786 - val_loss: 0.8607 - val_acc: 0.8180 - 131ms/epoch - 131ms/step\n",
            "Epoch 63/200\n",
            "1/1 - 0s - loss: 0.0891 - acc: 0.9643 - val_loss: 0.8710 - val_acc: 0.8180 - 148ms/epoch - 148ms/step\n",
            "Epoch 64/200\n",
            "1/1 - 0s - loss: 0.0302 - acc: 0.9929 - val_loss: 0.8788 - val_acc: 0.8200 - 135ms/epoch - 135ms/step\n",
            "Epoch 65/200\n",
            "1/1 - 0s - loss: 0.0395 - acc: 0.9857 - val_loss: 0.8796 - val_acc: 0.8120 - 136ms/epoch - 136ms/step\n",
            "Epoch 66/200\n",
            "1/1 - 0s - loss: 0.0327 - acc: 1.0000 - val_loss: 0.8810 - val_acc: 0.8140 - 136ms/epoch - 136ms/step\n",
            "Epoch 67/200\n",
            "1/1 - 0s - loss: 0.0281 - acc: 0.9929 - val_loss: 0.8838 - val_acc: 0.8120 - 130ms/epoch - 130ms/step\n",
            "Epoch 68/200\n",
            "1/1 - 0s - loss: 0.0376 - acc: 1.0000 - val_loss: 0.8863 - val_acc: 0.8100 - 132ms/epoch - 132ms/step\n",
            "Epoch 69/200\n",
            "1/1 - 0s - loss: 0.0284 - acc: 0.9929 - val_loss: 0.8878 - val_acc: 0.8080 - 134ms/epoch - 134ms/step\n",
            "Epoch 70/200\n",
            "1/1 - 0s - loss: 0.0666 - acc: 0.9857 - val_loss: 0.8878 - val_acc: 0.8080 - 127ms/epoch - 127ms/step\n",
            "Epoch 71/200\n",
            "1/1 - 0s - loss: 0.0557 - acc: 0.9857 - val_loss: 0.8892 - val_acc: 0.8080 - 135ms/epoch - 135ms/step\n",
            "Epoch 72/200\n",
            "1/1 - 0s - loss: 0.0370 - acc: 0.9929 - val_loss: 0.8925 - val_acc: 0.8060 - 137ms/epoch - 137ms/step\n",
            "Epoch 73/200\n",
            "1/1 - 0s - loss: 0.0284 - acc: 0.9929 - val_loss: 0.8962 - val_acc: 0.8060 - 134ms/epoch - 134ms/step\n",
            "Epoch 74/200\n",
            "1/1 - 0s - loss: 0.0160 - acc: 1.0000 - val_loss: 0.9004 - val_acc: 0.8060 - 131ms/epoch - 131ms/step\n",
            "Epoch 75/200\n",
            "1/1 - 0s - loss: 0.0437 - acc: 0.9786 - val_loss: 0.9039 - val_acc: 0.8020 - 128ms/epoch - 128ms/step\n",
            "Epoch 76/200\n",
            "1/1 - 0s - loss: 0.0402 - acc: 0.9929 - val_loss: 0.9063 - val_acc: 0.8060 - 131ms/epoch - 131ms/step\n",
            "Epoch 77/200\n",
            "1/1 - 0s - loss: 0.0776 - acc: 0.9714 - val_loss: 0.9088 - val_acc: 0.8060 - 134ms/epoch - 134ms/step\n",
            "Epoch 78/200\n",
            "1/1 - 0s - loss: 0.0299 - acc: 0.9929 - val_loss: 0.9119 - val_acc: 0.8080 - 150ms/epoch - 150ms/step\n",
            "Epoch 79/200\n",
            "1/1 - 0s - loss: 0.0382 - acc: 0.9857 - val_loss: 0.9153 - val_acc: 0.8080 - 138ms/epoch - 138ms/step\n",
            "Epoch 80/200\n",
            "1/1 - 0s - loss: 0.0680 - acc: 0.9857 - val_loss: 0.9214 - val_acc: 0.8060 - 130ms/epoch - 130ms/step\n",
            "Epoch 81/200\n",
            "1/1 - 0s - loss: 0.0213 - acc: 1.0000 - val_loss: 0.9255 - val_acc: 0.8060 - 135ms/epoch - 135ms/step\n",
            "Epoch 82/200\n",
            "1/1 - 0s - loss: 0.0267 - acc: 0.9929 - val_loss: 0.9323 - val_acc: 0.8060 - 135ms/epoch - 135ms/step\n",
            "Epoch 83/200\n",
            "1/1 - 0s - loss: 0.0202 - acc: 0.9929 - val_loss: 0.9378 - val_acc: 0.8020 - 135ms/epoch - 135ms/step\n",
            "Epoch 84/200\n",
            "1/1 - 0s - loss: 0.0493 - acc: 0.9857 - val_loss: 0.9409 - val_acc: 0.8060 - 144ms/epoch - 144ms/step\n",
            "Epoch 85/200\n",
            "1/1 - 0s - loss: 0.0129 - acc: 1.0000 - val_loss: 0.9429 - val_acc: 0.8080 - 132ms/epoch - 132ms/step\n",
            "Epoch 86/200\n",
            "1/1 - 0s - loss: 0.0397 - acc: 0.9857 - val_loss: 0.9435 - val_acc: 0.8120 - 128ms/epoch - 128ms/step\n",
            "Epoch 87/200\n",
            "1/1 - 0s - loss: 0.0190 - acc: 1.0000 - val_loss: 0.9430 - val_acc: 0.8160 - 129ms/epoch - 129ms/step\n",
            "Epoch 88/200\n",
            "1/1 - 0s - loss: 0.0439 - acc: 0.9786 - val_loss: 0.9453 - val_acc: 0.8140 - 126ms/epoch - 126ms/step\n",
            "Epoch 89/200\n",
            "1/1 - 0s - loss: 0.0109 - acc: 1.0000 - val_loss: 0.9477 - val_acc: 0.8160 - 125ms/epoch - 125ms/step\n",
            "Epoch 90/200\n",
            "1/1 - 0s - loss: 0.0354 - acc: 0.9857 - val_loss: 0.9475 - val_acc: 0.8160 - 139ms/epoch - 139ms/step\n",
            "Epoch 91/200\n",
            "1/1 - 0s - loss: 0.0185 - acc: 1.0000 - val_loss: 0.9480 - val_acc: 0.8180 - 141ms/epoch - 141ms/step\n",
            "Epoch 92/200\n",
            "1/1 - 0s - loss: 0.0319 - acc: 0.9857 - val_loss: 0.9482 - val_acc: 0.8180 - 145ms/epoch - 145ms/step\n",
            "Epoch 93/200\n",
            "1/1 - 0s - loss: 0.0196 - acc: 0.9929 - val_loss: 0.9470 - val_acc: 0.8180 - 133ms/epoch - 133ms/step\n",
            "Epoch 94/200\n",
            "1/1 - 0s - loss: 0.0148 - acc: 1.0000 - val_loss: 0.9453 - val_acc: 0.8200 - 138ms/epoch - 138ms/step\n",
            "Epoch 95/200\n",
            "1/1 - 0s - loss: 0.0249 - acc: 0.9929 - val_loss: 0.9447 - val_acc: 0.8200 - 126ms/epoch - 126ms/step\n",
            "Epoch 96/200\n",
            "1/1 - 0s - loss: 0.0242 - acc: 0.9929 - val_loss: 0.9436 - val_acc: 0.8160 - 133ms/epoch - 133ms/step\n",
            "Epoch 97/200\n",
            "1/1 - 0s - loss: 0.0290 - acc: 1.0000 - val_loss: 0.9399 - val_acc: 0.8140 - 136ms/epoch - 136ms/step\n",
            "Epoch 98/200\n",
            "1/1 - 0s - loss: 0.0235 - acc: 0.9929 - val_loss: 0.9388 - val_acc: 0.8100 - 146ms/epoch - 146ms/step\n",
            "Epoch 99/200\n",
            "1/1 - 0s - loss: 0.0244 - acc: 1.0000 - val_loss: 0.9379 - val_acc: 0.8080 - 126ms/epoch - 126ms/step\n",
            "Epoch 100/200\n",
            "1/1 - 0s - loss: 0.0131 - acc: 1.0000 - val_loss: 0.9380 - val_acc: 0.8060 - 128ms/epoch - 128ms/step\n",
            "Epoch 101/200\n",
            "1/1 - 0s - loss: 0.0128 - acc: 1.0000 - val_loss: 0.9389 - val_acc: 0.8080 - 123ms/epoch - 123ms/step\n",
            "Epoch 102/200\n",
            "1/1 - 0s - loss: 0.0422 - acc: 0.9857 - val_loss: 0.9445 - val_acc: 0.8100 - 131ms/epoch - 131ms/step\n",
            "Epoch 103/200\n",
            "1/1 - 0s - loss: 0.0548 - acc: 0.9786 - val_loss: 0.9559 - val_acc: 0.8160 - 135ms/epoch - 135ms/step\n",
            "Epoch 104/200\n",
            "1/1 - 0s - loss: 0.0287 - acc: 0.9929 - val_loss: 0.9697 - val_acc: 0.8140 - 145ms/epoch - 145ms/step\n",
            "Epoch 105/200\n",
            "1/1 - 0s - loss: 0.0333 - acc: 0.9857 - val_loss: 0.9852 - val_acc: 0.8160 - 132ms/epoch - 132ms/step\n",
            "Epoch 106/200\n",
            "1/1 - 0s - loss: 0.0322 - acc: 0.9857 - val_loss: 1.0045 - val_acc: 0.8140 - 134ms/epoch - 134ms/step\n",
            "Epoch 107/200\n",
            "1/1 - 0s - loss: 0.0121 - acc: 1.0000 - val_loss: 1.0242 - val_acc: 0.8120 - 146ms/epoch - 146ms/step\n",
            "Epoch 108/200\n",
            "1/1 - 0s - loss: 0.0118 - acc: 1.0000 - val_loss: 1.0436 - val_acc: 0.8100 - 131ms/epoch - 131ms/step\n",
            "Epoch 109/200\n",
            "1/1 - 0s - loss: 0.0223 - acc: 1.0000 - val_loss: 1.0599 - val_acc: 0.8120 - 130ms/epoch - 130ms/step\n",
            "Epoch 110/200\n",
            "1/1 - 0s - loss: 0.0280 - acc: 1.0000 - val_loss: 1.0664 - val_acc: 0.8080 - 134ms/epoch - 134ms/step\n",
            "Epoch 111/200\n",
            "1/1 - 0s - loss: 0.0263 - acc: 1.0000 - val_loss: 1.0727 - val_acc: 0.8080 - 134ms/epoch - 134ms/step\n",
            "Epoch 112/200\n",
            "1/1 - 0s - loss: 0.0386 - acc: 0.9929 - val_loss: 1.0697 - val_acc: 0.8100 - 132ms/epoch - 132ms/step\n",
            "Epoch 113/200\n",
            "1/1 - 0s - loss: 0.0158 - acc: 1.0000 - val_loss: 1.0633 - val_acc: 0.8100 - 137ms/epoch - 137ms/step\n",
            "Epoch 114/200\n",
            "1/1 - 0s - loss: 0.0286 - acc: 0.9929 - val_loss: 1.0500 - val_acc: 0.8060 - 129ms/epoch - 129ms/step\n"
          ]
        }
      ]
    },
    {
      "cell_type": "code",
      "source": [
        "sg.utils.plot_history(history)"
      ],
      "metadata": {
        "colab": {
          "base_uri": "https://localhost:8080/",
          "height": 585
        },
        "id": "acMLbfftL2BV",
        "outputId": "87e967d5-1ff6-4149-99a0-abc254e8583d"
      },
      "execution_count": 19,
      "outputs": [
        {
          "output_type": "display_data",
          "data": {
            "text/plain": [
              "<Figure size 504x576 with 2 Axes>"
            ],
            "image/png": "[encoded data removed]"
          },
          "metadata": {
            "needs_background": "light"
          }
        }
      ]
    },
    {
      "cell_type": "markdown",
      "source": [
        "#Test the model"
      ],
      "metadata": {
        "id": "f8z9AVkUL84g"
      }
    },
    {
      "cell_type": "code",
      "source": [
        "test_gen = generator.flow(test_subjects.index, test_targets)\n",
        "test_metrics = model.evaluate(test_gen)\n",
        "print(\"\\nTest Set Metrics:\")\n",
        "for name, val in zip(model.metrics_names, test_metrics):\n",
        "    print(\"\\t{}: {:0.4f}\".format(name, val))"
      ],
      "metadata": {
        "colab": {
          "base_uri": "https://localhost:8080/"
        },
        "id": "-Kiyz38gL_Jk",
        "outputId": "5b253ec2-9d20-4c56-bc2f-5001c77dd9ee"
      },
      "execution_count": 20,
      "outputs": [
        {
          "output_type": "stream",
          "name": "stdout",
          "text": [
            "1/1 [==============================] - 0s 60ms/step - loss: 1.0494 - acc: 0.7814\n",
            "\n",
            "Test Set Metrics:\n",
            "\tloss: 1.0494\n",
            "\tacc: 0.7814\n"
          ]
        }
      ]
    },
    {
      "cell_type": "markdown",
      "source": [
        "#Making prediction with model"
      ],
      "metadata": {
        "id": "06QqngUkMg_7"
      }
    },
    {
      "cell_type": "code",
      "source": [
        "all_nodes = node_subjects.index\n",
        "all_gen = generator.flow(all_nodes)\n",
        "all_predictions = model.predict(all_gen)"
      ],
      "metadata": {
        "colab": {
          "base_uri": "https://localhost:8080/"
        },
        "id": "xESEK8wnMjrT",
        "outputId": "65b22d1f-aa55-43bd-a486-aa0d35f150c1"
      },
      "execution_count": 21,
      "outputs": [
        {
          "output_type": "stream",
          "name": "stdout",
          "text": [
            "1/1 [==============================] - 0s 189ms/step\n"
          ]
        }
      ]
    },
    {
      "cell_type": "code",
      "source": [
        "node_predictions = target_encoding.inverse_transform(all_predictions.squeeze())"
      ],
      "metadata": {
        "id": "nV6sGSX9MouL"
      },
      "execution_count": 22,
      "outputs": []
    },
    {
      "cell_type": "code",
      "source": [
        "df = pd.DataFrame({\"Predicted\": node_predictions, \"True\": node_subjects})\n",
        "df.head(20)"
      ],
      "metadata": {
        "colab": {
          "base_uri": "https://localhost:8080/",
          "height": 677
        },
        "id": "DNmFr9D1MrdT",
        "outputId": "58df9b8d-8757-43d3-c7dc-3f415e1cd844"
      },
      "execution_count": 23,
      "outputs": [
        {
          "output_type": "execute_result",
          "data": {
            "text/plain": [
              "                      Predicted                    True\n",
              "31336           Neural_Networks         Neural_Networks\n",
              "1061127           Rule_Learning           Rule_Learning\n",
              "1106406  Reinforcement_Learning  Reinforcement_Learning\n",
              "13195    Reinforcement_Learning  Reinforcement_Learning\n",
              "37879     Probabilistic_Methods   Probabilistic_Methods\n",
              "1126012   Probabilistic_Methods   Probabilistic_Methods\n",
              "1107140                  Theory                  Theory\n",
              "1102850         Neural_Networks         Neural_Networks\n",
              "31349           Neural_Networks         Neural_Networks\n",
              "1106418                  Theory                  Theory\n",
              "1123188   Probabilistic_Methods         Neural_Networks\n",
              "1128990              Case_Based      Genetic_Algorithms\n",
              "109323    Probabilistic_Methods   Probabilistic_Methods\n",
              "217139               Case_Based              Case_Based\n",
              "31353           Neural_Networks         Neural_Networks\n",
              "32083           Neural_Networks         Neural_Networks\n",
              "1126029  Reinforcement_Learning  Reinforcement_Learning\n",
              "1118017         Neural_Networks         Neural_Networks\n",
              "49482           Neural_Networks         Neural_Networks\n",
              "753265                   Theory         Neural_Networks"
            ],
            "text/html": [
              "\n",
              "  <div id=\"df-ff30177f-59b2-4bec-b75f-6e45ccafa1e6\">\n",
              "    <div class=\"colab-df-container\">\n",
              "      <div>\n",
              "<style scoped>\n",
              "    .dataframe tbody tr th:only-of-type {\n",
              "        vertical-align: middle;\n",
              "    }\n",
              "\n",
              "    .dataframe tbody tr th {\n",
              "        vertical-align: top;\n",
              "    }\n",
              "\n",
              "    .dataframe thead th {\n",
              "        text-align: right;\n",
              "    }\n",
              "</style>\n",
              "<table border=\"1\" class=\"dataframe\">\n",
              "  <thead>\n",
              "    <tr style=\"text-align: right;\">\n",
              "      <th></th>\n",
              "      <th>Predicted</th>\n",
              "      <th>True</th>\n",
              "    </tr>\n",
              "  </thead>\n",
              "  <tbody>\n",
              "    <tr>\n",
              "      <th>31336</th>\n",
              "      <td>Neural_Networks</td>\n",
              "      <td>Neural_Networks</td>\n",
              "    </tr>\n",
              "    <tr>\n",
              "      <th>1061127</th>\n",
              "      <td>Rule_Learning</td>\n",
              "      <td>Rule_Learning</td>\n",
              "    </tr>\n",
              "    <tr>\n",
              "      <th>1106406</th>\n",
              "      <td>Reinforcement_Learning</td>\n",
              "      <td>Reinforcement_Learning</td>\n",
              "    </tr>\n",
              "    <tr>\n",
              "      <th>13195</th>\n",
              "      <td>Reinforcement_Learning</td>\n",
              "      <td>Reinforcement_Learning</td>\n",
              "    </tr>\n",
              "    <tr>\n",
              "      <th>37879</th>\n",
              "      <td>Probabilistic_Methods</td>\n",
              "      <td>Probabilistic_Methods</td>\n",
              "    </tr>\n",
              "    <tr>\n",
              "      <th>1126012</th>\n",
              "      <td>Probabilistic_Methods</td>\n",
              "      <td>Probabilistic_Methods</td>\n",
              "    </tr>\n",
              "    <tr>\n",
              "      <th>1107140</th>\n",
              "      <td>Theory</td>\n",
              "      <td>Theory</td>\n",
              "    </tr>\n",
              "    <tr>\n",
              "      <th>1102850</th>\n",
              "      <td>Neural_Networks</td>\n",
              "      <td>Neural_Networks</td>\n",
              "    </tr>\n",
              "    <tr>\n",
              "      <th>31349</th>\n",
              "      <td>Neural_Networks</td>\n",
              "      <td>Neural_Networks</td>\n",
              "    </tr>\n",
              "    <tr>\n",
              "      <th>1106418</th>\n",
              "      <td>Theory</td>\n",
              "      <td>Theory</td>\n",
              "    </tr>\n",
              "    <tr>\n",
              "      <th>1123188</th>\n",
              "      <td>Probabilistic_Methods</td>\n",
              "      <td>Neural_Networks</td>\n",
              "    </tr>\n",
              "    <tr>\n",
              "      <th>1128990</th>\n",
              "      <td>Case_Based</td>\n",
              "      <td>Genetic_Algorithms</td>\n",
              "    </tr>\n",
              "    <tr>\n",
              "      <th>109323</th>\n",
              "      <td>Probabilistic_Methods</td>\n",
              "      <td>Probabilistic_Methods</td>\n",
              "    </tr>\n",
              "    <tr>\n",
              "      <th>217139</th>\n",
              "      <td>Case_Based</td>\n",
              "      <td>Case_Based</td>\n",
              "    </tr>\n",
              "    <tr>\n",
              "      <th>31353</th>\n",
              "      <td>Neural_Networks</td>\n",
              "      <td>Neural_Networks</td>\n",
              "    </tr>\n",
              "    <tr>\n",
              "      <th>32083</th>\n",
              "      <td>Neural_Networks</td>\n",
              "      <td>Neural_Networks</td>\n",
              "    </tr>\n",
              "    <tr>\n",
              "      <th>1126029</th>\n",
              "      <td>Reinforcement_Learning</td>\n",
              "      <td>Reinforcement_Learning</td>\n",
              "    </tr>\n",
              "    <tr>\n",
              "      <th>1118017</th>\n",
              "      <td>Neural_Networks</td>\n",
              "      <td>Neural_Networks</td>\n",
              "    </tr>\n",
              "    <tr>\n",
              "      <th>49482</th>\n",
              "      <td>Neural_Networks</td>\n",
              "      <td>Neural_Networks</td>\n",
              "    </tr>\n",
              "    <tr>\n",
              "      <th>753265</th>\n",
              "      <td>Theory</td>\n",
              "      <td>Neural_Networks</td>\n",
              "    </tr>\n",
              "  </tbody>\n",
              "</table>\n",
              "</div>\n",
              "      <button class=\"colab-df-convert\" onclick=\"convertToInteractive('df-ff30177f-59b2-4bec-b75f-6e45ccafa1e6')\"\n",
              "              title=\"Convert this dataframe to an interactive table.\"\n",
              "              style=\"display:none;\">\n",
              "        \n",
              "  <svg xmlns=\"http://www.w3.org/2000/svg\" height=\"24px\"viewBox=\"0 0 24 24\"\n",
              "       width=\"24px\">\n",
              "    <path d=\"M0 0h24v24H0V0z\" fill=\"none\"/>\n",
              "    <path d=\"M18.56 5.44l.94 2.06.94-2.06 2.06-.94-2.06-.94-.94-2.06-.94 2.06-2.06.94zm-11 1L8.5 8.5l.94-2.06 2.06-.94-2.06-.94L8.5 2.5l-.94 2.06-2.06.94zm10 10l.94 2.06.94-2.06 2.06-.94-2.06-.94-.94-2.06-.94 2.06-2.06.94z\"/><path d=\"M17.41 7.96l-1.37-1.37c-.4-.4-.92-.59-1.43-.59-.52 0-1.04.2-1.43.59L10.3 9.45l-7.72 7.72c-.78.78-.78 2.05 0 2.83L4 21.41c.39.39.9.59 1.41.59.51 0 1.02-.2 1.41-.59l7.78-7.78 2.81-2.81c.8-.78.8-2.07 0-2.86zM5.41 20L4 18.59l7.72-7.72 1.47 1.35L5.41 20z\"/>\n",
              "  </svg>\n",
              "      </button>\n",
              "      \n",
              "  <style>\n",
              "    .colab-df-container {\n",
              "      display:flex;\n",
              "      flex-wrap:wrap;\n",
              "      gap: 12px;\n",
              "    }\n",
              "\n",
              "    .colab-df-convert {\n",
              "      background-color: #E8F0FE;\n",
              "      border: none;\n",
              "      border-radius: 50%;\n",
              "      cursor: pointer;\n",
              "      display: none;\n",
              "      fill: #1967D2;\n",
              "      height: 32px;\n",
              "      padding: 0 0 0 0;\n",
              "      width: 32px;\n",
              "    }\n",
              "\n",
              "    .colab-df-convert:hover {\n",
              "      background-color: #E2EBFA;\n",
              "      box-shadow: 0px 1px 2px rgba(60, 64, 67, 0.3), 0px 1px 3px 1px rgba(60, 64, 67, 0.15);\n",
              "      fill: #174EA6;\n",
              "    }\n",
              "\n",
              "    [theme=dark] .colab-df-convert {\n",
              "      background-color: #3B4455;\n",
              "      fill: #D2E3FC;\n",
              "    }\n",
              "\n",
              "    [theme=dark] .colab-df-convert:hover {\n",
              "      background-color: #434B5C;\n",
              "      box-shadow: 0px 1px 3px 1px rgba(0, 0, 0, 0.15);\n",
              "      filter: drop-shadow(0px 1px 2px rgba(0, 0, 0, 0.3));\n",
              "      fill: #FFFFFF;\n",
              "    }\n",
              "  </style>\n",
              "\n",
              "      <script>\n",
              "        const buttonEl =\n",
              "          document.querySelector('#df-ff30177f-59b2-4bec-b75f-6e45ccafa1e6 button.colab-df-convert');\n",
              "        buttonEl.style.display =\n",
              "          google.colab.kernel.accessAllowed ? 'block' : 'none';\n",
              "\n",
              "        async function convertToInteractive(key) {\n",
              "          const element = document.querySelector('#df-ff30177f-59b2-4bec-b75f-6e45ccafa1e6');\n",
              "          const dataTable =\n",
              "            await google.colab.kernel.invokeFunction('convertToInteractive',\n",
              "                                                     [key], {});\n",
              "          if (!dataTable) return;\n",
              "\n",
              "          const docLinkHtml = 'Like what you see? Visit the ' +\n",
              "            '<a target=\"_blank\" href=https://colab.research.google.com/notebooks/data_table.ipynb>data table notebook</a>'\n",
              "            + ' to learn more about interactive tables.';\n",
              "          element.innerHTML = '';\n",
              "          dataTable['output_type'] = 'display_data';\n",
              "          await google.colab.output.renderOutput(dataTable, element);\n",
              "          const docLink = document.createElement('div');\n",
              "          docLink.innerHTML = docLinkHtml;\n",
              "          element.appendChild(docLink);\n",
              "        }\n",
              "      </script>\n",
              "    </div>\n",
              "  </div>\n",
              "  "
            ]
          },
          "metadata": {},
          "execution_count": 23
        }
      ]
    },
    {
      "cell_type": "markdown",
      "source": [
        "#Node Embeding"
      ],
      "metadata": {
        "id": "-84UBSlRM21c"
      }
    },
    {
      "cell_type": "code",
      "source": [
        "embedding_model = Model(inputs=x_inp, outputs=x_out)\n",
        "emb = embedding_model.predict(all_gen)\n",
        "emb.shape"
      ],
      "metadata": {
        "colab": {
          "base_uri": "https://localhost:8080/"
        },
        "id": "PIs7rZdiM6ip",
        "outputId": "46930f8b-f21b-4f8b-ac4b-fc15effaac5c"
      },
      "execution_count": 24,
      "outputs": [
        {
          "output_type": "stream",
          "name": "stdout",
          "text": [
            "1/1 [==============================] - 0s 218ms/step\n"
          ]
        },
        {
          "output_type": "execute_result",
          "data": {
            "text/plain": [
              "(1, 2708, 16)"
            ]
          },
          "metadata": {},
          "execution_count": 24
        }
      ]
    },
    {
      "cell_type": "code",
      "source": [
        "from sklearn.decomposition import PCA\n",
        "from sklearn.manifold import TSNE\n",
        "\n",
        "transform = TSNE  # or PCA"
      ],
      "metadata": {
        "id": "5UPiDf2AND0t"
      },
      "execution_count": 25,
      "outputs": []
    },
    {
      "cell_type": "code",
      "source": [
        "X = emb.squeeze(0)\n",
        "X.shape"
      ],
      "metadata": {
        "colab": {
          "base_uri": "https://localhost:8080/"
        },
        "id": "s-KOsyxXNHF9",
        "outputId": "a1c45a25-d52c-4685-9684-f0189184ae40"
      },
      "execution_count": 26,
      "outputs": [
        {
          "output_type": "execute_result",
          "data": {
            "text/plain": [
              "(2708, 16)"
            ]
          },
          "metadata": {},
          "execution_count": 26
        }
      ]
    },
    {
      "cell_type": "code",
      "source": [
        "trans = transform(n_components=2)\n",
        "X_reduced = trans.fit_transform(X)\n",
        "X_reduced.shape"
      ],
      "metadata": {
        "colab": {
          "base_uri": "https://localhost:8080/"
        },
        "id": "YhGRomFqNMwz",
        "outputId": "0850e065-52b0-4d08-80b8-4d81da5c6ccd"
      },
      "execution_count": 27,
      "outputs": [
        {
          "output_type": "stream",
          "name": "stderr",
          "text": [
            "/usr/local/lib/python3.8/dist-packages/sklearn/manifold/_t_sne.py:780: FutureWarning: The default initialization in TSNE will change from 'random' to 'pca' in 1.2.\n",
            "  warnings.warn(\n",
            "/usr/local/lib/python3.8/dist-packages/sklearn/manifold/_t_sne.py:790: FutureWarning: The default learning rate in TSNE will change from 200.0 to 'auto' in 1.2.\n",
            "  warnings.warn(\n"
          ]
        },
        {
          "output_type": "execute_result",
          "data": {
            "text/plain": [
              "(2708, 2)"
            ]
          },
          "metadata": {},
          "execution_count": 27
        }
      ]
    },
    {
      "cell_type": "code",
      "source": [
        "fig, ax = plt.subplots(figsize=(7, 7))\n",
        "ax.scatter(\n",
        "    X_reduced[:, 0],\n",
        "    X_reduced[:, 1],\n",
        "    c=node_subjects.astype(\"category\").cat.codes,\n",
        "    cmap=\"jet\",\n",
        "    alpha=0.7,\n",
        ")\n",
        "ax.set(\n",
        "    aspect=\"equal\",\n",
        "    xlabel=\"$X_1$\",\n",
        "    ylabel=\"$X_2$\",\n",
        "    title=f\"{transform.__name__} visualization of GCN embeddings for cora dataset\",\n",
        ")"
      ],
      "metadata": {
        "colab": {
          "base_uri": "https://localhost:8080/",
          "height": 497
        },
        "id": "XlLBeglxNUFp",
        "outputId": "f12d7181-daf0-42f4-8427-b4123334f01f"
      },
      "execution_count": 28,
      "outputs": [
        {
          "output_type": "execute_result",
          "data": {
            "text/plain": [
              "[Text(0, 0.5, '$X_2$'),\n",
              " Text(0.5, 0, '$X_1$'),\n",
              " Text(0.5, 1.0, 'TSNE visualization of GCN embeddings for cora dataset'),\n",
              " None]"
            ]
          },
          "metadata": {},
          "execution_count": 28
        },
        {
          "output_type": "display_data",
          "data": {
            "text/plain": [
              "<Figure size 504x504 with 1 Axes>"
            ],
            "image/png": "[encoded data removed]"
          },
          "metadata": {
            "needs_background": "light"
          }
        }
      ]
    }
  ]
}